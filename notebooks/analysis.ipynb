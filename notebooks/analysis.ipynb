{
 "cells": [
  {
   "cell_type": "markdown",
   "metadata": {},
   "source": [
    "# TOPICS SENTIMENT ANALYSIS "
   ]
  },
  {
   "cell_type": "code",
   "execution_count": 5,
   "metadata": {},
   "outputs": [],
   "source": [
    "import pandas as pd\n",
    "import matplotlib.pyplot as plt\n",
    "from wordcloud import WordCloud\n",
    "import seaborn as sns\n",
    "\n",
    "ytbr = \"camilaloures\"\n",
    "path = f\"../data/{ytbr}/\"\n",
    "img_path = f\"{path}imgs/\""
   ]
  },
  {
   "cell_type": "markdown",
   "metadata": {},
   "source": [
    "## code"
   ]
  },
  {
   "cell_type": "code",
   "execution_count": 6,
   "metadata": {},
   "outputs": [],
   "source": [
    "current = \"all_communities\"\n",
    "df = pd.read_csv(f\"{path}topics_sentiment_{current}.csv\").drop(['Unnamed: 0'], axis=1)\n",
    "# df.head()\n",
    "# df.info()"
   ]
  },
  {
   "cell_type": "code",
   "execution_count": 7,
   "metadata": {},
   "outputs": [
    {
     "name": "stdout",
     "output_type": "stream",
     "text": [
      "**Sentiment Counts (Across All Communities):**\n",
      "sentiment\n",
      "neutral     7277\n",
      "positive    5028\n",
      "negative    4258\n",
      "Name: count, dtype: int64\n",
      "\n",
      "**Sentiment Counts per Community (for Detailed Insight):**\n",
      "sentiment  negative  neutral  positive\n",
      "community                             \n",
      "0              1739     2806      2745\n",
      "1               440      950       225\n",
      "2               455      646       518\n",
      "3               492     1087       215\n",
      "4               279      556       265\n",
      "5                43      128        48\n",
      "6               810     1104      1012\n"
     ]
    }
   ],
   "source": [
    "sentiment_counts = df['sentiment'].value_counts()\n",
    "\n",
    "avg_scores_per_community = df.groupby('community')['sentiment_score'].mean().reset_index()\n",
    "\n",
    "sentiment_counts_per_community = df.groupby('community')['sentiment'].value_counts().unstack(fill_value=0)\n",
    "\n",
    "print(\"**Sentiment Counts (Across All Communities):**\")\n",
    "print(sentiment_counts)\n",
    "\n",
    "# print(\"\\n**Average Sentiment Scores per Community:**\")\n",
    "# print(avg_scores_per_community)\n",
    "\n",
    "print(\"\\n**Sentiment Counts per Community (for Detailed Insight):**\")\n",
    "print(sentiment_counts_per_community)"
   ]
  },
  {
   "cell_type": "code",
   "execution_count": 8,
   "metadata": {},
   "outputs": [
    {
     "data": {
      "text/plain": [
       "<Figure size 2000x1200 with 0 Axes>"
      ]
     },
     "metadata": {},
     "output_type": "display_data"
    },
    {
     "data": {
      "image/png": "[encoded data removed]",
      "text/plain": [
       "<Figure size 610.875x500 with 1 Axes>"
      ]
     },
     "metadata": {},
     "output_type": "display_data"
    }
   ],
   "source": [
    "# Melt the DataFrame for seaborn's catplot\n",
    "plot_df = sentiment_counts_per_community.reset_index().melt(id_vars='community', var_name='Sentiment', value_name='Count')\n",
    "# plot_df = plot_df[plot_df[\"community\"].isin([12,1,11,7,2])]\n",
    "\n",
    "# Plotting\n",
    "plt.figure(figsize=(20, 12))\n",
    "sns.catplot(x='community', y='Count', hue='Sentiment', data=plot_df, kind='bar')\n",
    "plt.title('Sentiment Counts per Community (Grouped)')\n",
    "plt.xlabel('Community Index')\n",
    "plt.ylabel('Count')\n",
    "# plt.legend(title='Sentiment', bbox_to_anchor=(1.05, 1), loc=2, borderaxespad=0.)\n",
    "# plt.tight_layout()\n",
    "# plt.show()\n",
    "plt.savefig(f\"{img_path}sentiment_counts_per_community_{current}.png\")"
   ]
  },
  {
   "cell_type": "markdown",
   "metadata": {},
   "source": [
    "## Word Cloud"
   ]
  },
  {
   "cell_type": "code",
   "execution_count": 3,
   "metadata": {},
   "outputs": [],
   "source": [
    "def plot_word_cloud(text, title, save=False, _path=\"\"):\n",
    "    wordcloud = WordCloud(width=800, height=400, background_color='white').generate(text)\n",
    "\n",
    "    plt.figure(figsize=(10, 5))\n",
    "    plt.imshow(wordcloud, interpolation=\"bilinear\")\n",
    "    plt.axis(\"off\")\n",
    "    plt.title(title, fontsize=16)\n",
    "    if save:\n",
    "        plt.savefig(f\"{_path}\")\n",
    "    plt.show()"
   ]
  },
  {
   "cell_type": "code",
   "execution_count": 70,
   "metadata": {},
   "outputs": [],
   "source": [
    "# positive_text = \" \".join(str(positive_df['comment_text_cleaned']))\n",
    "negative_text = \" \".join(negative_df['comment_text_cleaned'])\n",
    "neutral_text = \" \".join(neutral_df['comment_text_cleaned'])\n",
    "\n",
    "# plot_word_cloud(positive_text, 'Positive Comments Word Cloud', True, f\"{img_path}positive_comments.png\" )\n",
    "# plot_word_cloud(negative_text, 'Negative Comments Word Cloud', True, f\"{img_path}negative_comments.png\" )"
   ]
  },
  {
   "cell_type": "markdown",
   "metadata": {},
   "source": [
    "## Words "
   ]
  },
  {
   "cell_type": "code",
   "execution_count": 30,
   "metadata": {},
   "outputs": [],
   "source": [
    "# df[df[\"community\"] == 6]"
   ]
  },
  {
   "cell_type": "code",
   "execution_count": null,
   "metadata": {},
   "outputs": [],
   "source": [
    "# positive_df = df[df['sentiment'] == 'positive']\n",
    "negative_df = df[df['sentiment'] == 'negative']\n",
    "negative_df = negative_df[negative_df[\"community\"].isin([12])]\n",
    "# neutral_df  = df[df['sentiment'] == 'neutral']\n",
    "\n",
    "mnc_df = negative_df[negative_df[\"sentiment_score\"] >= 0.8].sort_values(by=\"sentiment_score\", ascending=False)\n",
    "mnc_df"
   ]
  },
  {
   "cell_type": "code",
   "execution_count": 17,
   "metadata": {},
   "outputs": [],
   "source": [
    "mnc_df.drop(columns=[\"comment_id\",\"comment_like_count\",\"comment_reply_count\", \"is_reply\", \n",
    "                    \"parent_comment_id\", \"topics\", \"topic_proba\", \"topic_sentiment\"]).to_csv(f\"{path}metrics/most_negative_comments.csv\")"
   ]
  },
  {
   "cell_type": "code",
   "execution_count": 15,
   "metadata": {},
   "outputs": [],
   "source": [
    "def plot_most_topics(df: pd.DataFrame,sentiment=\"negative\", sentiment_threshold: float = 0.8):\n",
    "    negative_comments = df[(df['sentiment'] == sentiment) & (df['sentiment_score'] >= sentiment_threshold)]\n",
    "    \n",
    "    topic_negative_counts = negative_comments.groupby('topics').size().reset_index(name='negative_count')\n",
    "\n",
    "    topic_negative_counts = topic_negative_counts.merge(df[['topics', 'name', 'Representation']].drop_duplicates(), on='topics')\n",
    "    \n",
    "    topic_negative_counts = topic_negative_counts[~topic_negative_counts['name'].str.startswith('-1')]\n",
    "\n",
    "    topic_negative_counts = topic_negative_counts.sort_values(by='negative_count', ascending=False)\n",
    "    \n",
    "    topic_negative_counts[\"name\"] = topic_negative_counts[\"name\"].str.replace(r'^\\d+_', '', regex=True).str.replace('_', ',')\n",
    "\n",
    "    plt.figure(figsize=(10, 6))\n",
    "    color = \"Reds_r\" if sentiment == \"positive\" else \"Greens_r\"\n",
    "    sns.barplot(data=topic_negative_counts.head(10), x='negative_count', y='name', palette='Reds_r')\n",
    "    \n",
    "    plt.title(f'Top 10 Most Negative Topics (Sentiment Score >= {sentiment_threshold*100}%)', fontsize=14)\n",
    "    plt.xlabel('Number of Negative Comments', fontsize=12)\n",
    "    plt.ylabel('Topic Name', fontsize=12)\n",
    "    plt.show()\n"
   ]
  },
  {
   "cell_type": "code",
   "execution_count": null,
   "metadata": {},
   "outputs": [],
   "source": [
    "plot_most_topics(negative_df[negative_df[\"community\"]  == 9],\"negative\", sentiment_threshold=0.8)"
   ]
  },
  {
   "cell_type": "code",
   "execution_count": 8,
   "metadata": {},
   "outputs": [],
   "source": [
    "def plot_most_frequent_topics(df: pd.DataFrame, top_n: int = 10):\n",
    "    \"\"\"\n",
    "    Plots the top N most frequent topics in the DataFrame.\n",
    "\n",
    "    Parameters:\n",
    "    - df (pd.DataFrame): Input DataFrame with 'topics' column.\n",
    "    - top_n (int, optional): Number of top topics to display. Defaults to 10.\n",
    "    \"\"\"\n",
    "    \n",
    "    topic_freq = df['topics'].value_counts().reset_index()\n",
    "    topic_freq.columns = ['topics', 'freq_count']\n",
    "    \n",
    "    if 'name' in df.columns:\n",
    "        topic_freq = topic_freq.merge(df[['topics', 'name']].drop_duplicates(), on='topics')\n",
    "        topic_freq = topic_freq[~topic_freq['name'].str.startswith('-1')]\n",
    "        topic_freq[\"name\"] = topic_freq[\"name\"].str.replace(r'^\\d+_', '', regex=True).str.replace('_', ',')\n",
    "        display_column = 'name'\n",
    "    else:\n",
    "        display_column = 'topics'\n",
    "    \n",
    "    topic_freq = topic_freq.sort_values(by='freq_count', ascending=False).head(top_n)\n",
    "    \n",
    "    plt.figure(figsize=(10, 6))\n",
    "    sns.barplot(data=topic_freq, x='freq_count', y=display_column)\n",
    "    \n",
    "    plt.title(f'Top {top_n} Most Frequent Topics', fontsize=14)\n",
    "    plt.xlabel('Frequency Count', fontsize=12)\n",
    "    plt.ylabel('Topic', fontsize=12)\n",
    "    plt.show()\n"
   ]
  },
  {
   "cell_type": "code",
   "execution_count": null,
   "metadata": {},
   "outputs": [],
   "source": [
    "plot_most_frequent_topics(df[df[\"community\"].isin([4,1])])"
   ]
  },
  {
   "cell_type": "code",
   "execution_count": 33,
   "metadata": {},
   "outputs": [],
   "source": [
    "df[df[\"community\"].isin([5,6])].drop(columns=[\"comment_id\",\"comment_like_count\",\"comment_reply_count\", \"is_reply\", \n",
    "                    \"parent_comment_id\", \"topics\", \"topic_proba\", \"topic_sentiment\"]).to_csv(f\"{path}metrics/comments_community_5_6.csv\")"
   ]
  }
 ],
 "metadata": {
  "kernelspec": {
   "display_name": "yc",
   "language": "python",
   "name": "python3"
  },
  "language_info": {
   "codemirror_mode": {
    "name": "ipython",
    "version": 3
   },
   "file_extension": ".py",
   "mimetype": "text/x-python",
   "name": "python",
   "nbconvert_exporter": "python",
   "pygments_lexer": "ipython3",
   "version": "3.9.19"
  }
 },
 "nbformat": 4,
 "nbformat_minor": 2
}
