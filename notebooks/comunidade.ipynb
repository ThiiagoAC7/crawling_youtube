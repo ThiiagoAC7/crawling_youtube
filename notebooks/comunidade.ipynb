{
 "cells": [
  {
   "cell_type": "markdown",
   "metadata": {},
   "source": [
    "# Imports"
   ]
  },
  {
   "cell_type": "code",
   "execution_count": 1,
   "metadata": {},
   "outputs": [],
   "source": [
    "import pandas as pd\n",
    "import networkx as nx\n",
    "import matplotlib.pyplot as plt\n",
    "import pickle\n",
    "from tqdm import tqdm\n",
    "from itertools import combinations"
   ]
  },
  {
   "cell_type": "markdown",
   "metadata": {},
   "source": [
    "# ..."
   ]
  },
  {
   "cell_type": "code",
   "execution_count": 2,
   "metadata": {},
   "outputs": [
    {
     "data": {
      "text/html": [
       "<div>\n",
       "<style scoped>\n",
       "    .dataframe tbody tr th:only-of-type {\n",
       "        vertical-align: middle;\n",
       "    }\n",
       "\n",
       "    .dataframe tbody tr th {\n",
       "        vertical-align: top;\n",
       "    }\n",
       "\n",
       "    .dataframe thead th {\n",
       "        text-align: right;\n",
       "    }\n",
       "</style>\n",
       "<table border=\"1\" class=\"dataframe\">\n",
       "  <thead>\n",
       "    <tr style=\"text-align: right;\">\n",
       "      <th></th>\n",
       "      <th>id</th>\n",
       "      <th>video_id</th>\n",
       "      <th>video_title</th>\n",
       "      <th>comment_id</th>\n",
       "      <th>comment_text</th>\n",
       "      <th>comment_author_name</th>\n",
       "      <th>comment_author_channel_id</th>\n",
       "      <th>comment_like_count</th>\n",
       "      <th>comment_publish_date</th>\n",
       "      <th>comment_reply_count</th>\n",
       "      <th>is_reply</th>\n",
       "      <th>parent_comment_id</th>\n",
       "    </tr>\n",
       "  </thead>\n",
       "  <tbody>\n",
       "    <tr>\n",
       "      <th>0</th>\n",
       "      <td>0</td>\n",
       "      <td>iUBD_IS32VI</td>\n",
       "      <td>ACORDEI O MEU AMIGO COM UMA CABRA! #shorts</td>\n",
       "      <td>UgwMVGpjEjQut8aICUd4AaABAg</td>\n",
       "      <td>Kkkkkk o enaldo tocando violão e a cabra aaaaa...</td>\n",
       "      <td>@Patinho_de_boné</td>\n",
       "      <td>UCQ7F9jKoGU1jv294C4WB2bA</td>\n",
       "      <td>4</td>\n",
       "      <td>2024-09-14T01:46:31Z</td>\n",
       "      <td>0</td>\n",
       "      <td>False</td>\n",
       "      <td>0</td>\n",
       "    </tr>\n",
       "    <tr>\n",
       "      <th>1</th>\n",
       "      <td>1</td>\n",
       "      <td>iUBD_IS32VI</td>\n",
       "      <td>ACORDEI O MEU AMIGO COM UMA CABRA! #shorts</td>\n",
       "      <td>UgzwFagrMTTQqcFZSUh4AaABAg</td>\n",
       "      <td>Muito bom O video enaldinho sou sua fã😊</td>\n",
       "      <td>@GiovanaLimaSantos-hq9fn</td>\n",
       "      <td>UCs0tC-d0KETT3-1ZcY0GfdA</td>\n",
       "      <td>53</td>\n",
       "      <td>2024-09-09T22:02:00Z</td>\n",
       "      <td>7</td>\n",
       "      <td>False</td>\n",
       "      <td>0</td>\n",
       "    </tr>\n",
       "    <tr>\n",
       "      <th>2</th>\n",
       "      <td>2</td>\n",
       "      <td>iUBD_IS32VI</td>\n",
       "      <td>ACORDEI O MEU AMIGO COM UMA CABRA! #shorts</td>\n",
       "      <td>UgxRsN_oLy0eIRPA1114AaABAg</td>\n",
       "      <td>Enaldinho traz de volta o amog us na vida real...</td>\n",
       "      <td>@JhonnyAguilar-i6j</td>\n",
       "      <td>UCMbQ-NuVbe5w3OM4osMGAyA</td>\n",
       "      <td>19</td>\n",
       "      <td>2024-09-09T22:08:54Z</td>\n",
       "      <td>2</td>\n",
       "      <td>False</td>\n",
       "      <td>0</td>\n",
       "    </tr>\n",
       "    <tr>\n",
       "      <th>3</th>\n",
       "      <td>3</td>\n",
       "      <td>iUBD_IS32VI</td>\n",
       "      <td>ACORDEI O MEU AMIGO COM UMA CABRA! #shorts</td>\n",
       "      <td>UgxRsN_oLy0eIRPA1114AaABAg.A8B6kXMDqPNA8BE9bTNYx6</td>\n",
       "      <td>Dois impostos ?KKKKKKKKKKKKKKKKKKKKKKKK</td>\n",
       "      <td>@MELAN_lambari</td>\n",
       "      <td>UC-OzGzHWug8j78yF9Ny1ezA</td>\n",
       "      <td>2</td>\n",
       "      <td>2024-09-09T23:13:38Z</td>\n",
       "      <td>0</td>\n",
       "      <td>True</td>\n",
       "      <td>UgxRsN_oLy0eIRPA1114AaABAg</td>\n",
       "    </tr>\n",
       "    <tr>\n",
       "      <th>4</th>\n",
       "      <td>4</td>\n",
       "      <td>iUBD_IS32VI</td>\n",
       "      <td>ACORDEI O MEU AMIGO COM UMA CABRA! #shorts</td>\n",
       "      <td>UgxRsN_oLy0eIRPA1114AaABAg.A8B6kXMDqPNA8DLufljeqt</td>\n",
       "      <td>among us, mas os inocentes morrem se nao conse...</td>\n",
       "      <td>@Davi_Luizsjakskjs</td>\n",
       "      <td>UC1OCUt9EDzDvxT_OPGxhBDw</td>\n",
       "      <td>1</td>\n",
       "      <td>2024-09-10T18:59:50Z</td>\n",
       "      <td>0</td>\n",
       "      <td>True</td>\n",
       "      <td>UgxRsN_oLy0eIRPA1114AaABAg</td>\n",
       "    </tr>\n",
       "  </tbody>\n",
       "</table>\n",
       "</div>"
      ],
      "text/plain": [
       "   id     video_id                                 video_title  \\\n",
       "0   0  iUBD_IS32VI  ACORDEI O MEU AMIGO COM UMA CABRA! #shorts   \n",
       "1   1  iUBD_IS32VI  ACORDEI O MEU AMIGO COM UMA CABRA! #shorts   \n",
       "2   2  iUBD_IS32VI  ACORDEI O MEU AMIGO COM UMA CABRA! #shorts   \n",
       "3   3  iUBD_IS32VI  ACORDEI O MEU AMIGO COM UMA CABRA! #shorts   \n",
       "4   4  iUBD_IS32VI  ACORDEI O MEU AMIGO COM UMA CABRA! #shorts   \n",
       "\n",
       "                                          comment_id  \\\n",
       "0                         UgwMVGpjEjQut8aICUd4AaABAg   \n",
       "1                         UgzwFagrMTTQqcFZSUh4AaABAg   \n",
       "2                         UgxRsN_oLy0eIRPA1114AaABAg   \n",
       "3  UgxRsN_oLy0eIRPA1114AaABAg.A8B6kXMDqPNA8BE9bTNYx6   \n",
       "4  UgxRsN_oLy0eIRPA1114AaABAg.A8B6kXMDqPNA8DLufljeqt   \n",
       "\n",
       "                                        comment_text  \\\n",
       "0  Kkkkkk o enaldo tocando violão e a cabra aaaaa...   \n",
       "1            Muito bom O video enaldinho sou sua fã😊   \n",
       "2  Enaldinho traz de volta o amog us na vida real...   \n",
       "3            Dois impostos ?KKKKKKKKKKKKKKKKKKKKKKKK   \n",
       "4  among us, mas os inocentes morrem se nao conse...   \n",
       "\n",
       "        comment_author_name comment_author_channel_id  comment_like_count  \\\n",
       "0          @Patinho_de_boné  UCQ7F9jKoGU1jv294C4WB2bA                   4   \n",
       "1  @GiovanaLimaSantos-hq9fn  UCs0tC-d0KETT3-1ZcY0GfdA                  53   \n",
       "2        @JhonnyAguilar-i6j  UCMbQ-NuVbe5w3OM4osMGAyA                  19   \n",
       "3            @MELAN_lambari  UC-OzGzHWug8j78yF9Ny1ezA                   2   \n",
       "4        @Davi_Luizsjakskjs  UC1OCUt9EDzDvxT_OPGxhBDw                   1   \n",
       "\n",
       "   comment_publish_date  comment_reply_count  is_reply  \\\n",
       "0  2024-09-14T01:46:31Z                    0     False   \n",
       "1  2024-09-09T22:02:00Z                    7     False   \n",
       "2  2024-09-09T22:08:54Z                    2     False   \n",
       "3  2024-09-09T23:13:38Z                    0      True   \n",
       "4  2024-09-10T18:59:50Z                    0      True   \n",
       "\n",
       "            parent_comment_id  \n",
       "0                           0  \n",
       "1                           0  \n",
       "2                           0  \n",
       "3  UgxRsN_oLy0eIRPA1114AaABAg  \n",
       "4  UgxRsN_oLy0eIRPA1114AaABAg  "
      ]
     },
     "execution_count": 2,
     "metadata": {},
     "output_type": "execute_result"
    }
   ],
   "source": [
    "df = pd.read_csv('../data/enaldinho/comments.csv')\n",
    "df.head()"
   ]
  },
  {
   "cell_type": "markdown",
   "metadata": {},
   "source": [
    "## More than one comment"
   ]
  },
  {
   "cell_type": "code",
   "execution_count": 3,
   "metadata": {},
   "outputs": [
    {
     "name": "stdout",
     "output_type": "stream",
     "text": [
      "    comment_author_channel_id  comment_count\n",
      "8    UC0wqOQo7v5SIHmbccf2EZXA              2\n",
      "27   UC76wxBP6zoUkQ-og1ifVs4Q              2\n",
      "32   UC9WcvfhBXRT49LwJHFeJvRw              2\n",
      "79   UCNm5VqyokRw_oEzvj6Bdvtg              2\n",
      "110  UCWMx5vEkyOOaB-Os0pNGpZw              2\n",
      "147  UCfatHEVDubKyE25K__CByrQ              2\n",
      "176  UCmcC_4cmTQfHZEGTwvhhtMg              2\n",
      "197  UCsi_y_gXXTOJGYEvek_pa6Q              2\n",
      "198  UCtPHw9EHppSDpdpzrCl0dUA              2\n",
      "199  UCtyUjWDJZAoUHUsKvPgjBpg              2\n"
     ]
    }
   ],
   "source": [
    "filtered_df = df[df[\"video_id\"] == \"iUBD_IS32VI\"]\n",
    "\n",
    "# Step 3: Group by 'comment_author_channel_id' and count the occurrences\n",
    "commenter_counts = filtered_df.groupby('comment_author_channel_id').size().reset_index(name='comment_count')\n",
    "\n",
    "# Step 4: Filter commenters who commented more than once\n",
    "commenters_more_than_once = commenter_counts[commenter_counts['comment_count'] > 1]\n",
    "\n",
    "# Step 5: Display the result\n",
    "print(commenters_more_than_once)"
   ]
  },
  {
   "cell_type": "code",
   "execution_count": 4,
   "metadata": {},
   "outputs": [
    {
     "data": {
      "text/html": [
       "<div>\n",
       "<style scoped>\n",
       "    .dataframe tbody tr th:only-of-type {\n",
       "        vertical-align: middle;\n",
       "    }\n",
       "\n",
       "    .dataframe tbody tr th {\n",
       "        vertical-align: top;\n",
       "    }\n",
       "\n",
       "    .dataframe thead th {\n",
       "        text-align: right;\n",
       "    }\n",
       "</style>\n",
       "<table border=\"1\" class=\"dataframe\">\n",
       "  <thead>\n",
       "    <tr style=\"text-align: right;\">\n",
       "      <th></th>\n",
       "      <th>id</th>\n",
       "      <th>video_id</th>\n",
       "      <th>video_title</th>\n",
       "      <th>comment_id</th>\n",
       "      <th>comment_text</th>\n",
       "      <th>comment_author_name</th>\n",
       "      <th>comment_author_channel_id</th>\n",
       "      <th>comment_like_count</th>\n",
       "      <th>comment_publish_date</th>\n",
       "      <th>comment_reply_count</th>\n",
       "      <th>is_reply</th>\n",
       "      <th>parent_comment_id</th>\n",
       "    </tr>\n",
       "  </thead>\n",
       "  <tbody>\n",
       "    <tr>\n",
       "      <th>45</th>\n",
       "      <td>45</td>\n",
       "      <td>iUBD_IS32VI</td>\n",
       "      <td>ACORDEI O MEU AMIGO COM UMA CABRA! #shorts</td>\n",
       "      <td>Ugw8tzbQBxW-Zrc9x0h4AaABAg</td>\n",
       "      <td>Se você estiver no caminho da vida e da morte ...</td>\n",
       "      <td>@EnockJunior-et9ij</td>\n",
       "      <td>UCtyUjWDJZAoUHUsKvPgjBpg</td>\n",
       "      <td>0.0</td>\n",
       "      <td>2024-09-11T11:06:27Z</td>\n",
       "      <td>1.0</td>\n",
       "      <td>False</td>\n",
       "      <td>0</td>\n",
       "    </tr>\n",
       "    <tr>\n",
       "      <th>46</th>\n",
       "      <td>46</td>\n",
       "      <td>iUBD_IS32VI</td>\n",
       "      <td>ACORDEI O MEU AMIGO COM UMA CABRA! #shorts</td>\n",
       "      <td>Ugw8tzbQBxW-Zrc9x0h4AaABAg.A8F4XLzqM00A8F4ZkJ2EzD</td>\n",
       "      <td>RUMO A 100 INSCRITOS</td>\n",
       "      <td>@EnockJunior-et9ij</td>\n",
       "      <td>UCtyUjWDJZAoUHUsKvPgjBpg</td>\n",
       "      <td>0.0</td>\n",
       "      <td>2024-09-11T11:06:47Z</td>\n",
       "      <td>0.0</td>\n",
       "      <td>True</td>\n",
       "      <td>Ugw8tzbQBxW-Zrc9x0h4AaABAg</td>\n",
       "    </tr>\n",
       "  </tbody>\n",
       "</table>\n",
       "</div>"
      ],
      "text/plain": [
       "    id     video_id                                 video_title  \\\n",
       "45  45  iUBD_IS32VI  ACORDEI O MEU AMIGO COM UMA CABRA! #shorts   \n",
       "46  46  iUBD_IS32VI  ACORDEI O MEU AMIGO COM UMA CABRA! #shorts   \n",
       "\n",
       "                                           comment_id  \\\n",
       "45                         Ugw8tzbQBxW-Zrc9x0h4AaABAg   \n",
       "46  Ugw8tzbQBxW-Zrc9x0h4AaABAg.A8F4XLzqM00A8F4ZkJ2EzD   \n",
       "\n",
       "                                         comment_text comment_author_name  \\\n",
       "45  Se você estiver no caminho da vida e da morte ...  @EnockJunior-et9ij   \n",
       "46                               RUMO A 100 INSCRITOS  @EnockJunior-et9ij   \n",
       "\n",
       "   comment_author_channel_id  comment_like_count  comment_publish_date  \\\n",
       "45  UCtyUjWDJZAoUHUsKvPgjBpg                 0.0  2024-09-11T11:06:27Z   \n",
       "46  UCtyUjWDJZAoUHUsKvPgjBpg                 0.0  2024-09-11T11:06:47Z   \n",
       "\n",
       "    comment_reply_count is_reply           parent_comment_id  \n",
       "45                  1.0    False                           0  \n",
       "46                  0.0     True  Ugw8tzbQBxW-Zrc9x0h4AaABAg  "
      ]
     },
     "execution_count": 4,
     "metadata": {},
     "output_type": "execute_result"
    }
   ],
   "source": [
    "filtered_df[filtered_df[\"comment_author_channel_id\"] == \"UCtyUjWDJZAoUHUsKvPgjBpg\"]"
   ]
  },
  {
   "cell_type": "markdown",
   "metadata": {},
   "source": [
    "## DF by like count"
   ]
  },
  {
   "cell_type": "code",
   "execution_count": 5,
   "metadata": {},
   "outputs": [
    {
     "name": "stdout",
     "output_type": "stream",
     "text": [
      "11\n"
     ]
    }
   ],
   "source": [
    "# # sorted_df = df.sort_values(by=['comment_like_count', 'comment_reply_count'], ascending=[False, False])\n",
    "# sorted_df = df.sort_values(by=['comment_reply_count','comment_like_count'], ascending=[False, False])\n",
    "# sorted_df.head()\n",
    "print(df[\"video_id\"].unique())"
   ]
  },
  {
   "cell_type": "markdown",
   "metadata": {},
   "source": [
    "## Co Commenter Network"
   ]
  },
  {
   "cell_type": "code",
   "execution_count": 6,
   "metadata": {},
   "outputs": [
    {
     "name": "stderr",
     "output_type": "stream",
     "text": [
      "processing ...: 100%|██████████| 52/52 [00:12<00:00,  4.16it/s]\n"
     ]
    }
   ],
   "source": [
    "# each commenter id grouped by the video they commented on\n",
    "grouped_df = df.groupby('video_id')['comment_author_channel_id'].apply(list)\n",
    "\n",
    "G = nx.Graph()\n",
    "\n",
    "for commenters in tqdm(grouped_df, desc=\"processing ...\"):\n",
    "    if len(commenters) > 1:\n",
    "        for pair in combinations(commenters, 2):\n",
    "            if G.has_edge(pair[0], pair[1]):\n",
    "                # weight increases if commenters have commented on the same video\n",
    "                G[pair[0]][pair[1]]['weight'] += 1\n",
    "            else:\n",
    "                # edge between commenters who commented on the same video\n",
    "                G.add_edge(pair[0], pair[1], weight=1)\n",
    "\n",
    "pickle.dump(G, open('../data/enaldinho/co_commenter_network.pickle', 'wb'))"
   ]
  },
  {
   "cell_type": "markdown",
   "metadata": {},
   "source": [
    "## Analysis and Plot"
   ]
  },
  {
   "cell_type": "code",
   "execution_count": 3,
   "metadata": {},
   "outputs": [],
   "source": [
    "G = pickle.load(open('../data/felipeneto/co_commenter_network.pickle', 'rb'))"
   ]
  },
  {
   "cell_type": "code",
   "execution_count": 7,
   "metadata": {},
   "outputs": [
    {
     "name": "stdout",
     "output_type": "stream",
     "text": [
      "Number of nodes: 19299\n",
      "Number of edges: 7531727\n"
     ]
    }
   ],
   "source": [
    "# # Step 6: Analyze the network (optional)\n",
    "# clustering_coeff = nx.clustering(G)\n",
    "# average_degree = sum(dict(G.degree()).values()) / G.number_of_nodes()\n",
    "\n",
    "# print(f\"Average Degree: {average_degree}\")\n",
    "# print(f\"Clustering Coefficient: {sum(clustering_coeff.values()) / len(clustering_coeff)}\")\n",
    "print(f\"Number of nodes: {G.number_of_nodes()}\")\n",
    "print(f\"Number of edges: {G.number_of_edges()}\")"
   ]
  }
 ],
 "metadata": {
  "kernelspec": {
   "display_name": "yc",
   "language": "python",
   "name": "python3"
  },
  "language_info": {
   "codemirror_mode": {
    "name": "ipython",
    "version": 3
   },
   "file_extension": ".py",
   "mimetype": "text/x-python",
   "name": "python",
   "nbconvert_exporter": "python",
   "pygments_lexer": "ipython3",
   "version": "3.9.19"
  }
 },
 "nbformat": 4,
 "nbformat_minor": 2
}
