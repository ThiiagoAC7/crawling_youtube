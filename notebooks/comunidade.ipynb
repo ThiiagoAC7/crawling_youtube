{
 "cells": [
  {
   "cell_type": "markdown",
   "metadata": {},
   "source": [
    "# COMMUNITY ANALYSIS "
   ]
  },
  {
   "cell_type": "code",
   "execution_count": 1,
   "metadata": {},
   "outputs": [
    {
     "name": "stderr",
     "output_type": "stream",
     "text": [
      "/home/thiago/miniconda3/envs/yc/lib/python3.9/site-packages/tqdm/auto.py:21: TqdmWarning: IProgress not found. Please update jupyter and ipywidgets. See https://ipywidgets.readthedocs.io/en/stable/user_install.html\n",
      "  from .autonotebook import tqdm as notebook_tqdm\n",
      "[nltk_data] Downloading package stopwords to /home/thiago/nltk_data...\n",
      "[nltk_data]   Package stopwords is already up-to-date!\n",
      "[nltk_data] Downloading package rslp to /home/thiago/nltk_data...\n",
      "[nltk_data]   Package rslp is already up-to-date!\n"
     ]
    }
   ],
   "source": [
    "import pandas as pd\n",
    "import networkx as nx\n",
    "import matplotlib.pyplot as plt\n",
    "import pickle\n",
    "from tqdm import tqdm\n",
    "from itertools import combinations\n",
    "import re\n",
    "import string\n",
    "import unicodedata\n",
    "import nltk\n",
    "from bertopic import BERTopic\n",
    "\n",
    "\n",
    "nltk.download(['stopwords', 'rslp'])\n",
    "stopwords = nltk.corpus.stopwords.words('portuguese')\n",
    "\n",
    "ytbr = \"camilaloures\"\n"
   ]
  },
  {
   "cell_type": "markdown",
   "metadata": {},
   "source": [
    "### functions"
   ]
  },
  {
   "cell_type": "code",
   "execution_count": 2,
   "metadata": {},
   "outputs": [],
   "source": [
    "def clean_text_data(df: pd.DataFrame) -> pd.DataFrame:\n",
    "    df[\"comment_text_cleaned\"] = df[\"comment_text\"].str.replace(\"<br>\", \" \")\n",
    "    df[\"comment_text_cleaned\"] = convert_to_str(df[\"comment_text_cleaned\"])\n",
    "    df[\"comment_text_cleaned\"] = convert_lowercase(df[\"comment_text_cleaned\"])\n",
    "    df[\"comment_text_cleaned\"] = remove_a_links(df[\"comment_text_cleaned\"])\n",
    "    df[\"comment_text_cleaned\"] = mask_user_handles(df[\"comment_text_cleaned\"])\n",
    "    df[\"comment_text_cleaned\"] = remove_punctuation(df[\"comment_text_cleaned\"])\n",
    "    df[\"comment_text_cleaned\"] = remove_non_ascii(df[\"comment_text_cleaned\"])\n",
    "    df[\"comment_text_cleaned\"] = remove_laughing(df[\"comment_text_cleaned\"])\n",
    "    df[\"comment_text_cleaned\"] = replace_repeated_letters(df[\"comment_text_cleaned\"])\n",
    "    df[\"comment_text_cleaned\"] = remove_stopwords(df[\"comment_text_cleaned\"])\n",
    "    df[\"comment_text_cleaned\"] = remove_single_letters(df[\"comment_text_cleaned\"])\n",
    "    df = df[df[\"comment_text_cleaned\"].str.strip() != \"\"]\n",
    "    return df\n",
    "\n",
    "def convert_to_str(words):\n",
    "    new_words = []\n",
    "    for word in words:\n",
    "        if type(word) != str:\n",
    "            word = f\"{word}\"\n",
    "            print(type(word), word)\n",
    "        new_words.append(word)        \n",
    "    return new_words\n",
    "\n",
    "def remove_non_ascii(words):\n",
    "    new_words = []\n",
    "    for word in words:\n",
    "        new_word = unicodedata.normalize('NFKD', word).encode(\n",
    "            'ascii', 'ignore').decode('utf-8', 'ignore')\n",
    "        new_words.append(new_word)\n",
    "    return new_words\n",
    "\n",
    "\n",
    "def remove_stopwords(words):\n",
    "    result = []\n",
    "    for word in words:\n",
    "        processed_text = ''\n",
    "        list_words = word.split()\n",
    "        for w in list_words:\n",
    "            if w not in stopwords:\n",
    "                processed_text = processed_text + ' ' + w  \n",
    "        result.append(processed_text)\n",
    "    return result\n",
    "\n",
    "\n",
    "def convert_lowercase(words):\n",
    "    lower = []\n",
    "    for s in words:\n",
    "        # if type(s) == str:\n",
    "        lower.append(s.lower())\n",
    "        # else:\n",
    "        #     lower.append(s)\n",
    "    return lower\n",
    "\n",
    "\n",
    "\n",
    "def remove_a_links(words):\n",
    "    cleaned_words = []\n",
    "    for word in words:\n",
    "        # if type(word) == str:\n",
    "        cleaned_words.append(re.sub(r'<a\\s+href=\"[^\"]*\">[^<]*<\\/a>', '', word))\n",
    "        # else:\n",
    "        #     cleaned_words.append(word)\n",
    "    return cleaned_words\n",
    "\n",
    "\n",
    "def remove_punctuation(words):\n",
    "    result = []\n",
    "    for word in words: \n",
    "        word = _replace_html_codes(word)\n",
    "        result.append(''.join(c for c in word if c not in string.punctuation))\n",
    "    return result\n",
    "\n",
    "def _replace_html_codes(text):\n",
    "    html_escape_table = {\n",
    "        \"&amp;\": \"&\",\n",
    "        \"&quot;\": '\"',\n",
    "        \"&apos;\": \"'\",\n",
    "        \"&gt;\": \">\", \n",
    "        \"&lt;\": \"<\", \n",
    "    }\n",
    "    \n",
    "    for code, value in html_escape_table.items():\n",
    "        text = text.replace(code, value)\n",
    "    \n",
    "    return text\n",
    "\n",
    "def remove_laughing(words):\n",
    "    # remove kkkkkkk's\n",
    "    new_words = [re.sub(r'k{2,}', '', word, flags=re.IGNORECASE) for word in words]\n",
    "\n",
    "    # remove other laughing patterns\n",
    "    laugh_pattern = r'\\b(kk|ak|ka|ks|sk)[a-zA-Z]*?(kk|ak|ka|ks|sk)\\b'\n",
    "    new_words  = [re.sub(laugh_pattern, '', word, flags=re.IGNORECASE) for word in new_words]\n",
    "    return new_words\n",
    "\n",
    "def remove_single_letters(words):\n",
    "    result = []\n",
    "    for w in words:\n",
    "        split_w = w.split(\" \")\n",
    "        new_w = [word for word in split_w if len(word) > 1] \n",
    "        result.append(\" \".join(new_w))\n",
    "    return result\n",
    "\n",
    "def replace_repeated_letters(words):\n",
    "    return [re.sub(r'(.)\\1+', r'\\1', word) for word in words]\n",
    "\n",
    "def mask_user_handles(words):\n",
    "    handle_pattern = r'@[\\w]+'\n",
    "\n",
    "    return [re.sub(handle_pattern, '@user', word) for word in words]"
   ]
  },
  {
   "cell_type": "markdown",
   "metadata": {},
   "source": [
    "###  getting community "
   ]
  },
  {
   "cell_type": "code",
   "execution_count": 3,
   "metadata": {},
   "outputs": [],
   "source": [
    "# natanporai_lowest_clustering_coefs = [2, 4, 10, 12, 13]\n",
    "# natanporai_highes_clustering_coefs = [7, 9, 11, 14, 15, 17, 22, 26]\n",
    "# cadresplayer_lowest_clustering_coefs = [1,2,5,6,3]\n",
    "# cadresplayer_highes_clustering_coefs = [0,8,10]"
   ]
  },
  {
   "cell_type": "code",
   "execution_count": 4,
   "metadata": {},
   "outputs": [],
   "source": [
    "community_df = pd.read_csv(f\"../data/{ytbr}/metrics/communities.csv\")\n",
    "# central_communities = community_df[community_df[\"community\"].isin(cadresplayer_lowest_clustering_coefs)]\n",
    "# isolated_communities = community_df[community_df[\"community\"].isin(cadresplayer_highes_clustering_coefs)]"
   ]
  },
  {
   "cell_type": "markdown",
   "metadata": {},
   "source": [
    "## Reading DF filtered by single commenters"
   ]
  },
  {
   "cell_type": "code",
   "execution_count": 5,
   "metadata": {},
   "outputs": [],
   "source": [
    "df = pd.read_csv(f\"../data/{ytbr}/comments.csv\")\n",
    "\n",
    "current = \"all_communities\"\n",
    "df = df[df[\"comment_author_channel_id\"].isin(community_df[\"commenter\"])]\n",
    "df = pd.merge(df, community_df, left_on=\"comment_author_channel_id\",\n",
    "                       right_on=\"commenter\", how=\"left\").drop(columns=[\"commenter\"])"
   ]
  },
  {
   "cell_type": "code",
   "execution_count": 6,
   "metadata": {},
   "outputs": [],
   "source": [
    "df = clean_text_data(df)\n",
    "df['comment_text_cleaned'].to_csv('out.csv', index=False)"
   ]
  },
  {
   "cell_type": "markdown",
   "metadata": {},
   "source": [
    "## Bertopic"
   ]
  },
  {
   "cell_type": "code",
   "execution_count": 7,
   "metadata": {},
   "outputs": [
    {
     "name": "stderr",
     "output_type": "stream",
     "text": [
      "2024-10-29 01:41:29,859 - BERTopic - Embedding - Transforming documents to embeddings.\n",
      "Batches: 100%|██████████| 518/518 [00:12<00:00, 41.54it/s]\n",
      "2024-10-29 01:41:47,227 - BERTopic - Embedding - Completed ✓\n",
      "2024-10-29 01:41:47,228 - BERTopic - Dimensionality - Fitting the dimensionality reduction algorithm\n",
      "2024-10-29 01:42:12,677 - BERTopic - Dimensionality - Completed ✓\n",
      "2024-10-29 01:42:12,678 - BERTopic - Cluster - Start clustering the reduced embeddings\n",
      "huggingface/tokenizers: The current process just got forked, after parallelism has already been used. Disabling parallelism to avoid deadlocks...\n",
      "To disable this warning, you can either:\n",
      "\t- Avoid using `tokenizers` before the fork if possible\n",
      "\t- Explicitly set the environment variable TOKENIZERS_PARALLELISM=(true | false)\n",
      "huggingface/tokenizers: The current process just got forked, after parallelism has already been used. Disabling parallelism to avoid deadlocks...\n",
      "To disable this warning, you can either:\n",
      "\t- Avoid using `tokenizers` before the fork if possible\n",
      "\t- Explicitly set the environment variable TOKENIZERS_PARALLELISM=(true | false)\n",
      "huggingface/tokenizers: The current process just got forked, after parallelism has already been used. Disabling parallelism to avoid deadlocks...\n",
      "To disable this warning, you can either:\n",
      "\t- Avoid using `tokenizers` before the fork if possible\n",
      "\t- Explicitly set the environment variable TOKENIZERS_PARALLELISM=(true | false)\n",
      "huggingface/tokenizers: The current process just got forked, after parallelism has already been used. Disabling parallelism to avoid deadlocks...\n",
      "To disable this warning, you can either:\n",
      "\t- Avoid using `tokenizers` before the fork if possible\n",
      "\t- Explicitly set the environment variable TOKENIZERS_PARALLELISM=(true | false)\n",
      "huggingface/tokenizers: The current process just got forked, after parallelism has already been used. Disabling parallelism to avoid deadlocks...\n",
      "To disable this warning, you can either:\n",
      "\t- Avoid using `tokenizers` before the fork if possible\n",
      "\t- Explicitly set the environment variable TOKENIZERS_PARALLELISM=(true | false)\n",
      "huggingface/tokenizers: The current process just got forked, after parallelism has already been used. Disabling parallelism to avoid deadlocks...\n",
      "To disable this warning, you can either:\n",
      "\t- Avoid using `tokenizers` before the fork if possible\n",
      "\t- Explicitly set the environment variable TOKENIZERS_PARALLELISM=(true | false)\n",
      "2024-10-29 01:42:14,469 - BERTopic - Cluster - Completed ✓\n",
      "2024-10-29 01:42:14,476 - BERTopic - Representation - Extracting topics from clusters using representation models.\n",
      "2024-10-29 01:42:14,774 - BERTopic - Representation - Completed ✓\n"
     ]
    },
    {
     "data": {
      "text/html": [
       "<div>\n",
       "<style scoped>\n",
       "    .dataframe tbody tr th:only-of-type {\n",
       "        vertical-align: middle;\n",
       "    }\n",
       "\n",
       "    .dataframe tbody tr th {\n",
       "        vertical-align: top;\n",
       "    }\n",
       "\n",
       "    .dataframe thead th {\n",
       "        text-align: right;\n",
       "    }\n",
       "</style>\n",
       "<table border=\"1\" class=\"dataframe\">\n",
       "  <thead>\n",
       "    <tr style=\"text-align: right;\">\n",
       "      <th></th>\n",
       "      <th>Topic</th>\n",
       "      <th>Count</th>\n",
       "      <th>Name</th>\n",
       "      <th>Representation</th>\n",
       "      <th>Representative_Docs</th>\n",
       "    </tr>\n",
       "  </thead>\n",
       "  <tbody>\n",
       "    <tr>\n",
       "      <th>0</th>\n",
       "      <td>-1</td>\n",
       "      <td>5077</td>\n",
       "      <td>-1_video_vai_videos_nao</td>\n",
       "      <td>[video, vai, videos, nao, so, camila, ja, gent...</td>\n",
       "      <td>[amo videos glenda aila, camis acho dica quald...</td>\n",
       "    </tr>\n",
       "    <tr>\n",
       "      <th>1</th>\n",
       "      <td>0</td>\n",
       "      <td>283</td>\n",
       "      <td>0_nada_nunca_ninguem_nao</td>\n",
       "      <td>[nada, nunca, ninguem, nao, bigode, nu, dica, ...</td>\n",
       "      <td>[nada ver, nada ver, nao nada ver]</td>\n",
       "    </tr>\n",
       "    <tr>\n",
       "      <th>2</th>\n",
       "      <td>1</td>\n",
       "      <td>277</td>\n",
       "      <td>1_up_verem__</td>\n",
       "      <td>[up, verem, , , , , , , , ]</td>\n",
       "      <td>[up, up, up]</td>\n",
       "    </tr>\n",
       "    <tr>\n",
       "      <th>3</th>\n",
       "      <td>2</td>\n",
       "      <td>273</td>\n",
       "      <td>2_video_videos_nese_dese</td>\n",
       "      <td>[video, videos, nese, dese, grava, ese, faz, p...</td>\n",
       "      <td>[sonho conhecer vcs pesoalmente grava varios v...</td>\n",
       "    </tr>\n",
       "    <tr>\n",
       "      <th>4</th>\n",
       "      <td>3</td>\n",
       "      <td>231</td>\n",
       "      <td>3_24_horas_24h_24hrs</td>\n",
       "      <td>[24, horas, 24h, 24hrs, hrs, 24horas, fazenda,...</td>\n",
       "      <td>[24 horas, 24 horas, 24 horas]</td>\n",
       "    </tr>\n",
       "    <tr>\n",
       "      <th>...</th>\n",
       "      <td>...</td>\n",
       "      <td>...</td>\n",
       "      <td>...</td>\n",
       "      <td>...</td>\n",
       "      <td>...</td>\n",
       "    </tr>\n",
       "    <tr>\n",
       "      <th>334</th>\n",
       "      <td>333</td>\n",
       "      <td>11</td>\n",
       "      <td>333_japonesa_coreria_corea_round</td>\n",
       "      <td>[japonesa, coreria, corea, round, atacando, vi...</td>\n",
       "      <td>[amo canal todos voces nunca imaginei xis fose...</td>\n",
       "    </tr>\n",
       "    <tr>\n",
       "      <th>335</th>\n",
       "      <td>334</td>\n",
       "      <td>11</td>\n",
       "      <td>334_luta_desista_sonhos_youtuber</td>\n",
       "      <td>[luta, desista, sonhos, youtuber, suceso, desi...</td>\n",
       "      <td>[to luta faz tempo nao vou desistir youtuber s...</td>\n",
       "    </tr>\n",
       "    <tr>\n",
       "      <th>336</th>\n",
       "      <td>335</td>\n",
       "      <td>10</td>\n",
       "      <td>335_foganoli_poser_piniao_menota</td>\n",
       "      <td>[foganoli, poser, piniao, menota, chutem, foga...</td>\n",
       "      <td>[cams foganoli, cams foganoli, foganoli fogano...</td>\n",
       "    </tr>\n",
       "    <tr>\n",
       "      <th>337</th>\n",
       "      <td>336</td>\n",
       "      <td>10</td>\n",
       "      <td>336_zoa_palse_fortinho_istaga</td>\n",
       "      <td>[zoa, palse, fortinho, istaga, istagram, chute...</td>\n",
       "      <td>[camila vi olho xis marom escuro ta bom falado...</td>\n",
       "    </tr>\n",
       "    <tr>\n",
       "      <th>338</th>\n",
       "      <td>337</td>\n",
       "      <td>10</td>\n",
       "      <td>337_sio_rodrigues_poiser_educada</td>\n",
       "      <td>[sio, rodrigues, poiser, educada, user, exato,...</td>\n",
       "      <td>[user user rodrigues, user mal educada, user sio]</td>\n",
       "    </tr>\n",
       "  </tbody>\n",
       "</table>\n",
       "<p>339 rows × 5 columns</p>\n",
       "</div>"
      ],
      "text/plain": [
       "     Topic  Count                              Name  \\\n",
       "0       -1   5077           -1_video_vai_videos_nao   \n",
       "1        0    283          0_nada_nunca_ninguem_nao   \n",
       "2        1    277                      1_up_verem__   \n",
       "3        2    273          2_video_videos_nese_dese   \n",
       "4        3    231              3_24_horas_24h_24hrs   \n",
       "..     ...    ...                               ...   \n",
       "334    333     11  333_japonesa_coreria_corea_round   \n",
       "335    334     11  334_luta_desista_sonhos_youtuber   \n",
       "336    335     10  335_foganoli_poser_piniao_menota   \n",
       "337    336     10     336_zoa_palse_fortinho_istaga   \n",
       "338    337     10  337_sio_rodrigues_poiser_educada   \n",
       "\n",
       "                                        Representation  \\\n",
       "0    [video, vai, videos, nao, so, camila, ja, gent...   \n",
       "1    [nada, nunca, ninguem, nao, bigode, nu, dica, ...   \n",
       "2                          [up, verem, , , , , , , , ]   \n",
       "3    [video, videos, nese, dese, grava, ese, faz, p...   \n",
       "4    [24, horas, 24h, 24hrs, hrs, 24horas, fazenda,...   \n",
       "..                                                 ...   \n",
       "334  [japonesa, coreria, corea, round, atacando, vi...   \n",
       "335  [luta, desista, sonhos, youtuber, suceso, desi...   \n",
       "336  [foganoli, poser, piniao, menota, chutem, foga...   \n",
       "337  [zoa, palse, fortinho, istaga, istagram, chute...   \n",
       "338  [sio, rodrigues, poiser, educada, user, exato,...   \n",
       "\n",
       "                                   Representative_Docs  \n",
       "0    [amo videos glenda aila, camis acho dica quald...  \n",
       "1                   [nada ver, nada ver, nao nada ver]  \n",
       "2                                         [up, up, up]  \n",
       "3    [sonho conhecer vcs pesoalmente grava varios v...  \n",
       "4                       [24 horas, 24 horas, 24 horas]  \n",
       "..                                                 ...  \n",
       "334  [amo canal todos voces nunca imaginei xis fose...  \n",
       "335  [to luta faz tempo nao vou desistir youtuber s...  \n",
       "336  [cams foganoli, cams foganoli, foganoli fogano...  \n",
       "337  [camila vi olho xis marom escuro ta bom falado...  \n",
       "338  [user user rodrigues, user mal educada, user sio]  \n",
       "\n",
       "[339 rows x 5 columns]"
      ]
     },
     "metadata": {},
     "output_type": "display_data"
    }
   ],
   "source": [
    "model = BERTopic(\n",
    "    language=\"multilingual\",\n",
    "    verbose=True,\n",
    ")\n",
    "topics, probs = model.fit_transform(df[\"comment_text_cleaned\"].to_list())\n",
    "freq = model.get_topic_info()\n",
    "display(freq)"
   ]
  },
  {
   "cell_type": "markdown",
   "metadata": {},
   "source": [
    "## Barchart"
   ]
  },
  {
   "cell_type": "code",
   "execution_count": 8,
   "metadata": {},
   "outputs": [
    {
     "data": {
      "application/vnd.plotly.v1+json": {
       "config": {
        "plotlyServerURL": "https://plot.ly"
       },
       "data": [
        {
         "marker": {
          "color": "#D55E00"
         },
         "orientation": "h",
         "type": "bar",
         "x": [
          0.012435274883236086,
          0.01646113344466323,
          0.017730571396457034,
          0.019030032426602825,
          0.022842375185531345
         ],
         "xaxis": "x",
         "y": [
          "bigode  ",
          "nao  ",
          "ninguem  ",
          "nunca  ",
          "nada  "
         ],
         "yaxis": "y"
        },
        {
         "marker": {
          "color": "#0072B2"
         },
         "orientation": "h",
         "type": "bar",
         "x": [
          0.00001,
          0.00001,
          0.00001,
          0.011019391805855417,
          0.7022496872133918
         ],
         "xaxis": "x2",
         "y": [
          "  ",
          "  ",
          "  ",
          "verem  ",
          "up  "
         ],
         "yaxis": "y2"
        },
        {
         "marker": {
          "color": "#CC79A7"
         },
         "orientation": "h",
         "type": "bar",
         "x": [
          0.010548472576870855,
          0.012108210345726587,
          0.013216485559026494,
          0.014132222225676252,
          0.024356299072880942
         ],
         "xaxis": "x3",
         "y": [
          "grava  ",
          "dese  ",
          "nese  ",
          "videos  ",
          "video  "
         ],
         "yaxis": "y3"
        },
        {
         "marker": {
          "color": "#E69F00"
         },
         "orientation": "h",
         "type": "bar",
         "x": [
          0.025573622587360692,
          0.02860810861847048,
          0.03882872953662357,
          0.08193079855368668,
          0.08297385593220567
         ],
         "xaxis": "x4",
         "y": [
          "hrs  ",
          "24hrs  ",
          "24h  ",
          "horas  ",
          "24  "
         ],
         "yaxis": "y4"
        },
        {
         "marker": {
          "color": "#56B4E9"
         },
         "orientation": "h",
         "type": "bar",
         "x": [
          0.008978426766555659,
          0.02596367320831768,
          0.033784997247342026,
          0.06727233922205106,
          0.3479041053487017
         ],
         "xaxis": "x5",
         "y": [
          "oq  ",
          "ho  ",
          "cms  ",
          "opa  ",
          "oi  "
         ],
         "yaxis": "y5"
        },
        {
         "marker": {
          "color": "#009E73"
         },
         "orientation": "h",
         "type": "bar",
         "x": [
          0.009117497849923955,
          0.009890075339931147,
          0.010129196756380096,
          0.010689894580277755,
          0.010827045702236011
         ],
         "xaxis": "x6",
         "y": [
          "cataca  ",
          "nome  ",
          "lira  ",
          "rio  ",
          "ro  "
         ],
         "yaxis": "y6"
        },
        {
         "marker": {
          "color": "#F0E442"
         },
         "orientation": "h",
         "type": "bar",
         "x": [
          0.0158588926580268,
          0.020851996842206916,
          0.02633368743312293,
          0.02633368743312293,
          0.45667336759823013
         ],
         "xaxis": "x7",
         "y": [
          "sentido  ",
          "brigadeiro  ",
          "uh  ",
          "ima  ",
          "sim  "
         ],
         "yaxis": "y7"
        },
        {
         "marker": {
          "color": "#D55E00"
         },
         "orientation": "h",
         "type": "bar",
         "x": [
          0.020160705790370503,
          0.021846984614115363,
          0.02271597203298428,
          0.026201881422953766,
          0.03277047692117304
         ],
         "xaxis": "x8",
         "y": [
          "lama  ",
          "caindo  ",
          "calca  ",
          "cintura  ",
          "caiu  "
         ],
         "yaxis": "y8"
        },
        {
         "marker": {
          "color": "#0072B2"
         },
         "orientation": "h",
         "type": "bar",
         "x": [
          0.011357518885324424,
          0.014248682269661363,
          0.018635689741559748,
          0.032368634662754914,
          0.18487531847220484
         ],
         "xaxis": "x9",
         "y": [
          "amem  ",
          "pena  ",
          "amg  ",
          "dms  ",
          "amo  "
         ],
         "yaxis": "y9"
        },
        {
         "marker": {
          "color": "#CC79A7"
         },
         "orientation": "h",
         "type": "bar",
         "x": [
          0.03671056248453331,
          0.037749217681621025,
          0.059419602413200455,
          0.06463474040536366,
          0.7271362002025775
         ],
         "xaxis": "x10",
         "y": [
          "primeirasa  ",
          "primeiras  ",
          "primera  ",
          "primeiros  ",
          "primeira  "
         ],
         "yaxis": "y10"
        },
        {
         "marker": {
          "color": "#E69F00"
         },
         "orientation": "h",
         "type": "bar",
         "x": [
          0.00923148107243281,
          0.00932100362501752,
          0.010567476768484133,
          0.011258450983553771,
          0.03816745372335944
         ],
         "xaxis": "x11",
         "y": [
          "menor  ",
          "entao  ",
          "beb  ",
          "intrometida  ",
          "user  "
         ],
         "yaxis": "y11"
        },
        {
         "marker": {
          "color": "#56B4E9"
         },
         "orientation": "h",
         "type": "bar",
         "x": [
          0.014622782979358998,
          0.014622782979358998,
          0.02583269673113236,
          0.04704939128799887,
          0.07997826376442072
         ],
         "xaxis": "x12",
         "y": [
          "vibrante  ",
          "competitivo  ",
          "serie  ",
          "episodios  ",
          "episodio  "
         ],
         "yaxis": "y12"
        },
        {
         "marker": {
          "color": "#009E73"
         },
         "orientation": "h",
         "type": "bar",
         "x": [
          0.026086654717990446,
          0.026086654717990446,
          0.026086654717990446,
          0.026086654717990446,
          0.03156309619978656
         ],
         "xaxis": "x13",
         "y": [
          "elefante  ",
          "orelhas  ",
          "voua  ",
          "circuito  ",
          "camila  "
         ],
         "yaxis": "y13"
        },
        {
         "marker": {
          "color": "#F0E442"
         },
         "orientation": "h",
         "type": "bar",
         "x": [
          0.013595013771696706,
          0.014161965939003929,
          0.014697280192800007,
          0.016869108399616146,
          0.01876408497258962
         ],
         "xaxis": "x14",
         "y": [
          "casos  ",
          "vc  ",
          "cara  ",
          "ta  ",
          "bruto  "
         ],
         "yaxis": "y14"
        },
        {
         "marker": {
          "color": "#D55E00"
         },
         "orientation": "h",
         "type": "bar",
         "x": [
          0.03976977602491109,
          0.03976977602491109,
          0.04169392810145315,
          0.1309616662601829,
          0.4135565500566518
         ],
         "xaxis": "x15",
         "y": [
          "cb  ",
          "bcamsb  ",
          "dai  ",
          "tb  ",
          "tbm  "
         ],
         "yaxis": "y15"
        },
        {
         "marker": {
          "color": "#0072B2"
         },
         "orientation": "h",
         "type": "bar",
         "x": [
          0.020997929323208965,
          0.021824669576967333,
          0.0236601420274337,
          0.05333682717417283,
          0.1000532797770579
         ],
         "xaxis": "x16",
         "y": [
          "queremos  ",
          "nova  ",
          "camsb  ",
          "temporadas  ",
          "temporada  "
         ],
         "yaxis": "y16"
        },
        {
         "marker": {
          "color": "#CC79A7"
         },
         "orientation": "h",
         "type": "bar",
         "x": [
          0.02141992988129195,
          0.022219529941240566,
          0.022509290398803034,
          0.03714889963101008,
          0.1237028381908613
         ],
         "xaxis": "x17",
         "y": [
          "bora  ",
          "bater  ",
          "ouvir  ",
          "nova  ",
          "musica  "
         ],
         "yaxis": "y17"
        },
        {
         "marker": {
          "color": "#E69F00"
         },
         "orientation": "h",
         "type": "bar",
         "x": [
          0.018499069449308347,
          0.024622759938778747,
          0.04175772364092725,
          0.04308982989286281,
          0.07789607286439752
         ],
         "xaxis": "x18",
         "y": [
          "foganoli  ",
          "fefe  ",
          "rodrigo  ",
          "faro  ",
          "acho  "
         ],
         "yaxis": "y18"
        },
        {
         "marker": {
          "color": "#56B4E9"
         },
         "orientation": "h",
         "type": "bar",
         "x": [
          0.048900829577929926,
          0.0513858649833964,
          0.05299894681109998,
          0.061257956242179064,
          0.07618847734171476
         ],
         "xaxis": "x19",
         "y": [
          "buly  ",
          "ri  ",
          "rindo  ",
          "rir  ",
          "risada  "
         ],
         "yaxis": "y19"
        },
        {
         "marker": {
          "color": "#009E73"
         },
         "orientation": "h",
         "type": "bar",
         "x": [
          0.02077520114219989,
          0.03657894816232695,
          0.04087493501980787,
          0.05408406438175418,
          0.09093864491434835
         ],
         "xaxis": "x20",
         "y": [
          "bruno  ",
          "entrar  ",
          "neri  ",
          "loures  ",
          "familia  "
         ],
         "yaxis": "y20"
        }
       ],
       "layout": {
        "annotations": [
         {
          "font": {
           "size": 16
          },
          "showarrow": false,
          "text": "Topic 0",
          "x": 0.0875,
          "xanchor": "center",
          "xref": "paper",
          "y": 0.9999999999999999,
          "yanchor": "bottom",
          "yref": "paper"
         },
         {
          "font": {
           "size": 16
          },
          "showarrow": false,
          "text": "Topic 1",
          "x": 0.36250000000000004,
          "xanchor": "center",
          "xref": "paper",
          "y": 0.9999999999999999,
          "yanchor": "bottom",
          "yref": "paper"
         },
         {
          "font": {
           "size": 16
          },
          "showarrow": false,
          "text": "Topic 2",
          "x": 0.6375000000000001,
          "xanchor": "center",
          "xref": "paper",
          "y": 0.9999999999999999,
          "yanchor": "bottom",
          "yref": "paper"
         },
         {
          "font": {
           "size": 16
          },
          "showarrow": false,
          "text": "Topic 3",
          "x": 0.9125,
          "xanchor": "center",
          "xref": "paper",
          "y": 0.9999999999999999,
          "yanchor": "bottom",
          "yref": "paper"
         },
         {
          "font": {
           "size": 16
          },
          "showarrow": false,
          "text": "Topic 4",
          "x": 0.0875,
          "xanchor": "center",
          "xref": "paper",
          "y": 0.7839999999999999,
          "yanchor": "bottom",
          "yref": "paper"
         },
         {
          "font": {
           "size": 16
          },
          "showarrow": false,
          "text": "Topic 5",
          "x": 0.36250000000000004,
          "xanchor": "center",
          "xref": "paper",
          "y": 0.7839999999999999,
          "yanchor": "bottom",
          "yref": "paper"
         },
         {
          "font": {
           "size": 16
          },
          "showarrow": false,
          "text": "Topic 6",
          "x": 0.6375000000000001,
          "xanchor": "center",
          "xref": "paper",
          "y": 0.7839999999999999,
          "yanchor": "bottom",
          "yref": "paper"
         },
         {
          "font": {
           "size": 16
          },
          "showarrow": false,
          "text": "Topic 7",
          "x": 0.9125,
          "xanchor": "center",
          "xref": "paper",
          "y": 0.7839999999999999,
          "yanchor": "bottom",
          "yref": "paper"
         },
         {
          "font": {
           "size": 16
          },
          "showarrow": false,
          "text": "Topic 8",
          "x": 0.0875,
          "xanchor": "center",
          "xref": "paper",
          "y": 0.568,
          "yanchor": "bottom",
          "yref": "paper"
         },
         {
          "font": {
           "size": 16
          },
          "showarrow": false,
          "text": "Topic 9",
          "x": 0.36250000000000004,
          "xanchor": "center",
          "xref": "paper",
          "y": 0.568,
          "yanchor": "bottom",
          "yref": "paper"
         },
         {
          "font": {
           "size": 16
          },
          "showarrow": false,
          "text": "Topic 10",
          "x": 0.6375000000000001,
          "xanchor": "center",
          "xref": "paper",
          "y": 0.568,
          "yanchor": "bottom",
          "yref": "paper"
         },
         {
          "font": {
           "size": 16
          },
          "showarrow": false,
          "text": "Topic 11",
          "x": 0.9125,
          "xanchor": "center",
          "xref": "paper",
          "y": 0.568,
          "yanchor": "bottom",
          "yref": "paper"
         },
         {
          "font": {
           "size": 16
          },
          "showarrow": false,
          "text": "Topic 12",
          "x": 0.0875,
          "xanchor": "center",
          "xref": "paper",
          "y": 0.352,
          "yanchor": "bottom",
          "yref": "paper"
         },
         {
          "font": {
           "size": 16
          },
          "showarrow": false,
          "text": "Topic 13",
          "x": 0.36250000000000004,
          "xanchor": "center",
          "xref": "paper",
          "y": 0.352,
          "yanchor": "bottom",
          "yref": "paper"
         },
         {
          "font": {
           "size": 16
          },
          "showarrow": false,
          "text": "Topic 14",
          "x": 0.6375000000000001,
          "xanchor": "center",
          "xref": "paper",
          "y": 0.352,
          "yanchor": "bottom",
          "yref": "paper"
         },
         {
          "font": {
           "size": 16
          },
          "showarrow": false,
          "text": "Topic 15",
          "x": 0.9125,
          "xanchor": "center",
          "xref": "paper",
          "y": 0.352,
          "yanchor": "bottom",
          "yref": "paper"
         },
         {
          "font": {
           "size": 16
          },
          "showarrow": false,
          "text": "Topic 16",
          "x": 0.0875,
          "xanchor": "center",
          "xref": "paper",
          "y": 0.13599999999999998,
          "yanchor": "bottom",
          "yref": "paper"
         },
         {
          "font": {
           "size": 16
          },
          "showarrow": false,
          "text": "Topic 17",
          "x": 0.36250000000000004,
          "xanchor": "center",
          "xref": "paper",
          "y": 0.13599999999999998,
          "yanchor": "bottom",
          "yref": "paper"
         },
         {
          "font": {
           "size": 16
          },
          "showarrow": false,
          "text": "Topic 18",
          "x": 0.6375000000000001,
          "xanchor": "center",
          "xref": "paper",
          "y": 0.13599999999999998,
          "yanchor": "bottom",
          "yref": "paper"
         },
         {
          "font": {
           "size": 16
          },
          "showarrow": false,
          "text": "Topic 19",
          "x": 0.9125,
          "xanchor": "center",
          "xref": "paper",
          "y": 0.13599999999999998,
          "yanchor": "bottom",
          "yref": "paper"
         }
        ],
        "height": 1250,
        "hoverlabel": {
         "bgcolor": "white",
         "font": {
          "family": "Rockwell",
          "size": 16
         }
        },
        "showlegend": false,
        "template": {
         "data": {
          "bar": [
           {
            "error_x": {
             "color": "#2a3f5f"
            },
            "error_y": {
             "color": "#2a3f5f"
            },
            "marker": {
             "line": {
              "color": "white",
              "width": 0.5
             },
             "pattern": {
              "fillmode": "overlay",
              "size": 10,
              "solidity": 0.2
             }
            },
            "type": "bar"
           }
          ],
          "barpolar": [
           {
            "marker": {
             "line": {
              "color": "white",
              "width": 0.5
             },
             "pattern": {
              "fillmode": "overlay",
              "size": 10,
              "solidity": 0.2
             }
            },
            "type": "barpolar"
           }
          ],
          "carpet": [
           {
            "aaxis": {
             "endlinecolor": "#2a3f5f",
             "gridcolor": "#C8D4E3",
             "linecolor": "#C8D4E3",
             "minorgridcolor": "#C8D4E3",
             "startlinecolor": "#2a3f5f"
            },
            "baxis": {
             "endlinecolor": "#2a3f5f",
             "gridcolor": "#C8D4E3",
             "linecolor": "#C8D4E3",
             "minorgridcolor": "#C8D4E3",
             "startlinecolor": "#2a3f5f"
            },
            "type": "carpet"
           }
          ],
          "choropleth": [
           {
            "colorbar": {
             "outlinewidth": 0,
             "ticks": ""
            },
            "type": "choropleth"
           }
          ],
          "contour": [
           {
            "colorbar": {
             "outlinewidth": 0,
             "ticks": ""
            },
            "colorscale": [
             [
              0,
              "#0d0887"
             ],
             [
              0.1111111111111111,
              "#46039f"
             ],
             [
              0.2222222222222222,
              "#7201a8"
             ],
             [
              0.3333333333333333,
              "#9c179e"
             ],
             [
              0.4444444444444444,
              "#bd3786"
             ],
             [
              0.5555555555555556,
              "#d8576b"
             ],
             [
              0.6666666666666666,
              "#ed7953"
             ],
             [
              0.7777777777777778,
              "#fb9f3a"
             ],
             [
              0.8888888888888888,
              "#fdca26"
             ],
             [
              1,
              "#f0f921"
             ]
            ],
            "type": "contour"
           }
          ],
          "contourcarpet": [
           {
            "colorbar": {
             "outlinewidth": 0,
             "ticks": ""
            },
            "type": "contourcarpet"
           }
          ],
          "heatmap": [
           {
            "colorbar": {
             "outlinewidth": 0,
             "ticks": ""
            },
            "colorscale": [
             [
              0,
              "#0d0887"
             ],
             [
              0.1111111111111111,
              "#46039f"
             ],
             [
              0.2222222222222222,
              "#7201a8"
             ],
             [
              0.3333333333333333,
              "#9c179e"
             ],
             [
              0.4444444444444444,
              "#bd3786"
             ],
             [
              0.5555555555555556,
              "#d8576b"
             ],
             [
              0.6666666666666666,
              "#ed7953"
             ],
             [
              0.7777777777777778,
              "#fb9f3a"
             ],
             [
              0.8888888888888888,
              "#fdca26"
             ],
             [
              1,
              "#f0f921"
             ]
            ],
            "type": "heatmap"
           }
          ],
          "heatmapgl": [
           {
            "colorbar": {
             "outlinewidth": 0,
             "ticks": ""
            },
            "colorscale": [
             [
              0,
              "#0d0887"
             ],
             [
              0.1111111111111111,
              "#46039f"
             ],
             [
              0.2222222222222222,
              "#7201a8"
             ],
             [
              0.3333333333333333,
              "#9c179e"
             ],
             [
              0.4444444444444444,
              "#bd3786"
             ],
             [
              0.5555555555555556,
              "#d8576b"
             ],
             [
              0.6666666666666666,
              "#ed7953"
             ],
             [
              0.7777777777777778,
              "#fb9f3a"
             ],
             [
              0.8888888888888888,
              "#fdca26"
             ],
             [
              1,
              "#f0f921"
             ]
            ],
            "type": "heatmapgl"
           }
          ],
          "histogram": [
           {
            "marker": {
             "pattern": {
              "fillmode": "overlay",
              "size": 10,
              "solidity": 0.2
             }
            },
            "type": "histogram"
           }
          ],
          "histogram2d": [
           {
            "colorbar": {
             "outlinewidth": 0,
             "ticks": ""
            },
            "colorscale": [
             [
              0,
              "#0d0887"
             ],
             [
              0.1111111111111111,
              "#46039f"
             ],
             [
              0.2222222222222222,
              "#7201a8"
             ],
             [
              0.3333333333333333,
              "#9c179e"
             ],
             [
              0.4444444444444444,
              "#bd3786"
             ],
             [
              0.5555555555555556,
              "#d8576b"
             ],
             [
              0.6666666666666666,
              "#ed7953"
             ],
             [
              0.7777777777777778,
              "#fb9f3a"
             ],
             [
              0.8888888888888888,
              "#fdca26"
             ],
             [
              1,
              "#f0f921"
             ]
            ],
            "type": "histogram2d"
           }
          ],
          "histogram2dcontour": [
           {
            "colorbar": {
             "outlinewidth": 0,
             "ticks": ""
            },
            "colorscale": [
             [
              0,
              "#0d0887"
             ],
             [
              0.1111111111111111,
              "#46039f"
             ],
             [
              0.2222222222222222,
              "#7201a8"
             ],
             [
              0.3333333333333333,
              "#9c179e"
             ],
             [
              0.4444444444444444,
              "#bd3786"
             ],
             [
              0.5555555555555556,
              "#d8576b"
             ],
             [
              0.6666666666666666,
              "#ed7953"
             ],
             [
              0.7777777777777778,
              "#fb9f3a"
             ],
             [
              0.8888888888888888,
              "#fdca26"
             ],
             [
              1,
              "#f0f921"
             ]
            ],
            "type": "histogram2dcontour"
           }
          ],
          "mesh3d": [
           {
            "colorbar": {
             "outlinewidth": 0,
             "ticks": ""
            },
            "type": "mesh3d"
           }
          ],
          "parcoords": [
           {
            "line": {
             "colorbar": {
              "outlinewidth": 0,
              "ticks": ""
             }
            },
            "type": "parcoords"
           }
          ],
          "pie": [
           {
            "automargin": true,
            "type": "pie"
           }
          ],
          "scatter": [
           {
            "fillpattern": {
             "fillmode": "overlay",
             "size": 10,
             "solidity": 0.2
            },
            "type": "scatter"
           }
          ],
          "scatter3d": [
           {
            "line": {
             "colorbar": {
              "outlinewidth": 0,
              "ticks": ""
             }
            },
            "marker": {
             "colorbar": {
              "outlinewidth": 0,
              "ticks": ""
             }
            },
            "type": "scatter3d"
           }
          ],
          "scattercarpet": [
           {
            "marker": {
             "colorbar": {
              "outlinewidth": 0,
              "ticks": ""
             }
            },
            "type": "scattercarpet"
           }
          ],
          "scattergeo": [
           {
            "marker": {
             "colorbar": {
              "outlinewidth": 0,
              "ticks": ""
             }
            },
            "type": "scattergeo"
           }
          ],
          "scattergl": [
           {
            "marker": {
             "colorbar": {
              "outlinewidth": 0,
              "ticks": ""
             }
            },
            "type": "scattergl"
           }
          ],
          "scattermapbox": [
           {
            "marker": {
             "colorbar": {
              "outlinewidth": 0,
              "ticks": ""
             }
            },
            "type": "scattermapbox"
           }
          ],
          "scatterpolar": [
           {
            "marker": {
             "colorbar": {
              "outlinewidth": 0,
              "ticks": ""
             }
            },
            "type": "scatterpolar"
           }
          ],
          "scatterpolargl": [
           {
            "marker": {
             "colorbar": {
              "outlinewidth": 0,
              "ticks": ""
             }
            },
            "type": "scatterpolargl"
           }
          ],
          "scatterternary": [
           {
            "marker": {
             "colorbar": {
              "outlinewidth": 0,
              "ticks": ""
             }
            },
            "type": "scatterternary"
           }
          ],
          "surface": [
           {
            "colorbar": {
             "outlinewidth": 0,
             "ticks": ""
            },
            "colorscale": [
             [
              0,
              "#0d0887"
             ],
             [
              0.1111111111111111,
              "#46039f"
             ],
             [
              0.2222222222222222,
              "#7201a8"
             ],
             [
              0.3333333333333333,
              "#9c179e"
             ],
             [
              0.4444444444444444,
              "#bd3786"
             ],
             [
              0.5555555555555556,
              "#d8576b"
             ],
             [
              0.6666666666666666,
              "#ed7953"
             ],
             [
              0.7777777777777778,
              "#fb9f3a"
             ],
             [
              0.8888888888888888,
              "#fdca26"
             ],
             [
              1,
              "#f0f921"
             ]
            ],
            "type": "surface"
           }
          ],
          "table": [
           {
            "cells": {
             "fill": {
              "color": "#EBF0F8"
             },
             "line": {
              "color": "white"
             }
            },
            "header": {
             "fill": {
              "color": "#C8D4E3"
             },
             "line": {
              "color": "white"
             }
            },
            "type": "table"
           }
          ]
         },
         "layout": {
          "annotationdefaults": {
           "arrowcolor": "#2a3f5f",
           "arrowhead": 0,
           "arrowwidth": 1
          },
          "autotypenumbers": "strict",
          "coloraxis": {
           "colorbar": {
            "outlinewidth": 0,
            "ticks": ""
           }
          },
          "colorscale": {
           "diverging": [
            [
             0,
             "#8e0152"
            ],
            [
             0.1,
             "#c51b7d"
            ],
            [
             0.2,
             "#de77ae"
            ],
            [
             0.3,
             "#f1b6da"
            ],
            [
             0.4,
             "#fde0ef"
            ],
            [
             0.5,
             "#f7f7f7"
            ],
            [
             0.6,
             "#e6f5d0"
            ],
            [
             0.7,
             "#b8e186"
            ],
            [
             0.8,
             "#7fbc41"
            ],
            [
             0.9,
             "#4d9221"
            ],
            [
             1,
             "#276419"
            ]
           ],
           "sequential": [
            [
             0,
             "#0d0887"
            ],
            [
             0.1111111111111111,
             "#46039f"
            ],
            [
             0.2222222222222222,
             "#7201a8"
            ],
            [
             0.3333333333333333,
             "#9c179e"
            ],
            [
             0.4444444444444444,
             "#bd3786"
            ],
            [
             0.5555555555555556,
             "#d8576b"
            ],
            [
             0.6666666666666666,
             "#ed7953"
            ],
            [
             0.7777777777777778,
             "#fb9f3a"
            ],
            [
             0.8888888888888888,
             "#fdca26"
            ],
            [
             1,
             "#f0f921"
            ]
           ],
           "sequentialminus": [
            [
             0,
             "#0d0887"
            ],
            [
             0.1111111111111111,
             "#46039f"
            ],
            [
             0.2222222222222222,
             "#7201a8"
            ],
            [
             0.3333333333333333,
             "#9c179e"
            ],
            [
             0.4444444444444444,
             "#bd3786"
            ],
            [
             0.5555555555555556,
             "#d8576b"
            ],
            [
             0.6666666666666666,
             "#ed7953"
            ],
            [
             0.7777777777777778,
             "#fb9f3a"
            ],
            [
             0.8888888888888888,
             "#fdca26"
            ],
            [
             1,
             "#f0f921"
            ]
           ]
          },
          "colorway": [
           "#636efa",
           "#EF553B",
           "#00cc96",
           "#ab63fa",
           "#FFA15A",
           "#19d3f3",
           "#FF6692",
           "#B6E880",
           "#FF97FF",
           "#FECB52"
          ],
          "font": {
           "color": "#2a3f5f"
          },
          "geo": {
           "bgcolor": "white",
           "lakecolor": "white",
           "landcolor": "white",
           "showlakes": true,
           "showland": true,
           "subunitcolor": "#C8D4E3"
          },
          "hoverlabel": {
           "align": "left"
          },
          "hovermode": "closest",
          "mapbox": {
           "style": "light"
          },
          "paper_bgcolor": "white",
          "plot_bgcolor": "white",
          "polar": {
           "angularaxis": {
            "gridcolor": "#EBF0F8",
            "linecolor": "#EBF0F8",
            "ticks": ""
           },
           "bgcolor": "white",
           "radialaxis": {
            "gridcolor": "#EBF0F8",
            "linecolor": "#EBF0F8",
            "ticks": ""
           }
          },
          "scene": {
           "xaxis": {
            "backgroundcolor": "white",
            "gridcolor": "#DFE8F3",
            "gridwidth": 2,
            "linecolor": "#EBF0F8",
            "showbackground": true,
            "ticks": "",
            "zerolinecolor": "#EBF0F8"
           },
           "yaxis": {
            "backgroundcolor": "white",
            "gridcolor": "#DFE8F3",
            "gridwidth": 2,
            "linecolor": "#EBF0F8",
            "showbackground": true,
            "ticks": "",
            "zerolinecolor": "#EBF0F8"
           },
           "zaxis": {
            "backgroundcolor": "white",
            "gridcolor": "#DFE8F3",
            "gridwidth": 2,
            "linecolor": "#EBF0F8",
            "showbackground": true,
            "ticks": "",
            "zerolinecolor": "#EBF0F8"
           }
          },
          "shapedefaults": {
           "line": {
            "color": "#2a3f5f"
           }
          },
          "ternary": {
           "aaxis": {
            "gridcolor": "#DFE8F3",
            "linecolor": "#A2B1C6",
            "ticks": ""
           },
           "baxis": {
            "gridcolor": "#DFE8F3",
            "linecolor": "#A2B1C6",
            "ticks": ""
           },
           "bgcolor": "white",
           "caxis": {
            "gridcolor": "#DFE8F3",
            "linecolor": "#A2B1C6",
            "ticks": ""
           }
          },
          "title": {
           "x": 0.05
          },
          "xaxis": {
           "automargin": true,
           "gridcolor": "#EBF0F8",
           "linecolor": "#EBF0F8",
           "ticks": "",
           "title": {
            "standoff": 15
           },
           "zerolinecolor": "#EBF0F8",
           "zerolinewidth": 2
          },
          "yaxis": {
           "automargin": true,
           "gridcolor": "#EBF0F8",
           "linecolor": "#EBF0F8",
           "ticks": "",
           "title": {
            "standoff": 15
           },
           "zerolinecolor": "#EBF0F8",
           "zerolinewidth": 2
          }
         }
        },
        "title": {
         "font": {
          "color": "Black",
          "size": 22
         },
         "text": "Topic Word Scores",
         "x": 0.5,
         "xanchor": "center",
         "yanchor": "top"
        },
        "width": 1000,
        "xaxis": {
         "anchor": "y",
         "domain": [
          0,
          0.175
         ],
         "showgrid": true
        },
        "xaxis10": {
         "anchor": "y10",
         "domain": [
          0.275,
          0.45
         ],
         "showgrid": true
        },
        "xaxis11": {
         "anchor": "y11",
         "domain": [
          0.55,
          0.7250000000000001
         ],
         "showgrid": true
        },
        "xaxis12": {
         "anchor": "y12",
         "domain": [
          0.825,
          1
         ],
         "showgrid": true
        },
        "xaxis13": {
         "anchor": "y13",
         "domain": [
          0,
          0.175
         ],
         "showgrid": true
        },
        "xaxis14": {
         "anchor": "y14",
         "domain": [
          0.275,
          0.45
         ],
         "showgrid": true
        },
        "xaxis15": {
         "anchor": "y15",
         "domain": [
          0.55,
          0.7250000000000001
         ],
         "showgrid": true
        },
        "xaxis16": {
         "anchor": "y16",
         "domain": [
          0.825,
          1
         ],
         "showgrid": true
        },
        "xaxis17": {
         "anchor": "y17",
         "domain": [
          0,
          0.175
         ],
         "showgrid": true
        },
        "xaxis18": {
         "anchor": "y18",
         "domain": [
          0.275,
          0.45
         ],
         "showgrid": true
        },
        "xaxis19": {
         "anchor": "y19",
         "domain": [
          0.55,
          0.7250000000000001
         ],
         "showgrid": true
        },
        "xaxis2": {
         "anchor": "y2",
         "domain": [
          0.275,
          0.45
         ],
         "showgrid": true
        },
        "xaxis20": {
         "anchor": "y20",
         "domain": [
          0.825,
          1
         ],
         "showgrid": true
        },
        "xaxis3": {
         "anchor": "y3",
         "domain": [
          0.55,
          0.7250000000000001
         ],
         "showgrid": true
        },
        "xaxis4": {
         "anchor": "y4",
         "domain": [
          0.825,
          1
         ],
         "showgrid": true
        },
        "xaxis5": {
         "anchor": "y5",
         "domain": [
          0,
          0.175
         ],
         "showgrid": true
        },
        "xaxis6": {
         "anchor": "y6",
         "domain": [
          0.275,
          0.45
         ],
         "showgrid": true
        },
        "xaxis7": {
         "anchor": "y7",
         "domain": [
          0.55,
          0.7250000000000001
         ],
         "showgrid": true
        },
        "xaxis8": {
         "anchor": "y8",
         "domain": [
          0.825,
          1
         ],
         "showgrid": true
        },
        "xaxis9": {
         "anchor": "y9",
         "domain": [
          0,
          0.175
         ],
         "showgrid": true
        },
        "yaxis": {
         "anchor": "x",
         "domain": [
          0.8639999999999999,
          0.9999999999999999
         ],
         "showgrid": true
        },
        "yaxis10": {
         "anchor": "x10",
         "domain": [
          0.43199999999999994,
          0.568
         ],
         "showgrid": true
        },
        "yaxis11": {
         "anchor": "x11",
         "domain": [
          0.43199999999999994,
          0.568
         ],
         "showgrid": true
        },
        "yaxis12": {
         "anchor": "x12",
         "domain": [
          0.43199999999999994,
          0.568
         ],
         "showgrid": true
        },
        "yaxis13": {
         "anchor": "x13",
         "domain": [
          0.21599999999999997,
          0.352
         ],
         "showgrid": true
        },
        "yaxis14": {
         "anchor": "x14",
         "domain": [
          0.21599999999999997,
          0.352
         ],
         "showgrid": true
        },
        "yaxis15": {
         "anchor": "x15",
         "domain": [
          0.21599999999999997,
          0.352
         ],
         "showgrid": true
        },
        "yaxis16": {
         "anchor": "x16",
         "domain": [
          0.21599999999999997,
          0.352
         ],
         "showgrid": true
        },
        "yaxis17": {
         "anchor": "x17",
         "domain": [
          0,
          0.13599999999999998
         ],
         "showgrid": true
        },
        "yaxis18": {
         "anchor": "x18",
         "domain": [
          0,
          0.13599999999999998
         ],
         "showgrid": true
        },
        "yaxis19": {
         "anchor": "x19",
         "domain": [
          0,
          0.13599999999999998
         ],
         "showgrid": true
        },
        "yaxis2": {
         "anchor": "x2",
         "domain": [
          0.8639999999999999,
          0.9999999999999999
         ],
         "showgrid": true
        },
        "yaxis20": {
         "anchor": "x20",
         "domain": [
          0,
          0.13599999999999998
         ],
         "showgrid": true
        },
        "yaxis3": {
         "anchor": "x3",
         "domain": [
          0.8639999999999999,
          0.9999999999999999
         ],
         "showgrid": true
        },
        "yaxis4": {
         "anchor": "x4",
         "domain": [
          0.8639999999999999,
          0.9999999999999999
         ],
         "showgrid": true
        },
        "yaxis5": {
         "anchor": "x5",
         "domain": [
          0.6479999999999999,
          0.7839999999999999
         ],
         "showgrid": true
        },
        "yaxis6": {
         "anchor": "x6",
         "domain": [
          0.6479999999999999,
          0.7839999999999999
         ],
         "showgrid": true
        },
        "yaxis7": {
         "anchor": "x7",
         "domain": [
          0.6479999999999999,
          0.7839999999999999
         ],
         "showgrid": true
        },
        "yaxis8": {
         "anchor": "x8",
         "domain": [
          0.6479999999999999,
          0.7839999999999999
         ],
         "showgrid": true
        },
        "yaxis9": {
         "anchor": "x9",
         "domain": [
          0.43199999999999994,
          0.568
         ],
         "showgrid": true
        }
       }
      }
     },
     "metadata": {},
     "output_type": "display_data"
    }
   ],
   "source": [
    "model.visualize_barchart(top_n_topics=20)"
   ]
  },
  {
   "cell_type": "markdown",
   "metadata": {},
   "source": [
    "## Hierarchical Clustering"
   ]
  },
  {
   "cell_type": "code",
   "execution_count": 9,
   "metadata": {},
   "outputs": [],
   "source": [
    "# model.visualize_hierarchy(top_n_topics=50, width=1200)"
   ]
  },
  {
   "cell_type": "markdown",
   "metadata": {},
   "source": [
    "### Similarity Matrix"
   ]
  },
  {
   "cell_type": "code",
   "execution_count": 10,
   "metadata": {},
   "outputs": [],
   "source": [
    "# model.visualize_heatmap(top_n_topics=50, width=1200)"
   ]
  },
  {
   "cell_type": "markdown",
   "metadata": {},
   "source": [
    "## Build Topics DF"
   ]
  },
  {
   "cell_type": "code",
   "execution_count": 11,
   "metadata": {},
   "outputs": [],
   "source": [
    "# atribuíndo tópico\n",
    "df_topics = df.drop(columns=['comment_author_name','comment_publish_date',]).copy()\n",
    "df_topics['topics'] = topics\n",
    "\n",
    "# atribuíndo nome do tópico\n",
    "topic_name = freq.drop(columns=['Count']).rename(columns={'Topic': 'topics', 'Name': 'name'})\n",
    "df_topics = df_topics.merge(topic_name, how='left') \n",
    "\n",
    "# atribuíndo topic proba\n",
    "df_topics['topic_proba'] = probs\n",
    "\n",
    "df_topics[\"comment_text\"] = convert_to_str(df_topics[\"comment_text\"])\n",
    "df_topics[\"comment_text\"] = remove_a_links(df_topics[\"comment_text\"])\n",
    "df_topics[\"comment_text\"] = remove_laughing(df_topics[\"comment_text\"])\n",
    "df_topics[\"comment_text\"] = mask_user_handles(df_topics[\"comment_text\"])\n",
    "df_topics[\"comment_text\"] = remove_punctuation(df_topics[\"comment_text\"])\n",
    "df_topics[\"comment_text\"] = remove_non_ascii(df_topics[\"comment_text\"])"
   ]
  },
  {
   "cell_type": "markdown",
   "metadata": {},
   "source": [
    "## Sentiment Analysis"
   ]
  },
  {
   "cell_type": "code",
   "execution_count": 12,
   "metadata": {},
   "outputs": [],
   "source": [
    "from transformers import pipeline\n",
    "from transformers import AutoTokenizer, AutoConfig, AutoModelForSequenceClassification\n",
    "\n",
    "model_path = \"cardiffnlp/twitter-xlm-roberta-base-sentiment\"\n",
    "\n",
    "tokenizer = AutoTokenizer.from_pretrained(model_path)\n",
    "config = AutoConfig.from_pretrained(model_path)\n",
    "model = AutoModelForSequenceClassification.from_pretrained(model_path)\n",
    "\n",
    "sentiment_task = pipeline(\"sentiment-analysis\", model=model, tokenizer=tokenizer, config=config, device=0, max_length=512, truncation=True)\n",
    "\n",
    "def classify_comment_sentiment(df: pd.DataFrame) -> pd.DataFrame:\n",
    "    sentiments = []\n",
    "    sentiment_scores = []\n",
    "\n",
    "    for comment in df['comment_text']:\n",
    "        result = sentiment_task(comment)\n",
    "        \n",
    "        sentiment = result[0]['label']\n",
    "        score = result[0]['score']\n",
    "        \n",
    "        sentiments.append(sentiment)\n",
    "        sentiment_scores.append(score)\n",
    "\n",
    "    df['sentiment'] = sentiments\n",
    "    df['sentiment_score'] = sentiment_scores\n",
    "\n",
    "    return df"
   ]
  },
  {
   "cell_type": "code",
   "execution_count": 13,
   "metadata": {},
   "outputs": [
    {
     "name": "stderr",
     "output_type": "stream",
     "text": [
      "You seem to be using the pipelines sequentially on GPU. In order to maximize efficiency please use a dataset\n"
     ]
    }
   ],
   "source": [
    "df_topics = classify_comment_sentiment(df_topics)"
   ]
  },
  {
   "cell_type": "code",
   "execution_count": 14,
   "metadata": {},
   "outputs": [],
   "source": [
    "df_topics['topic_sentiment'] = df_topics['name'] + \" \" + \"(\" + df_topics['sentiment'] + \")\""
   ]
  },
  {
   "cell_type": "code",
   "execution_count": 15,
   "metadata": {},
   "outputs": [],
   "source": [
    "df_topics.to_csv(f\"../data/{ytbr}/topics_sentiment_{current}.csv\")"
   ]
  },
  {
   "cell_type": "code",
   "execution_count": null,
   "metadata": {},
   "outputs": [],
   "source": []
  }
 ],
 "metadata": {
  "kernelspec": {
   "display_name": "yc",
   "language": "python",
   "name": "python3"
  },
  "language_info": {
   "codemirror_mode": {
    "name": "ipython",
    "version": 3
   },
   "file_extension": ".py",
   "mimetype": "text/x-python",
   "name": "python",
   "nbconvert_exporter": "python",
   "pygments_lexer": "ipython3",
   "version": "3.9.19"
  }
 },
 "nbformat": 4,
 "nbformat_minor": 2
}
