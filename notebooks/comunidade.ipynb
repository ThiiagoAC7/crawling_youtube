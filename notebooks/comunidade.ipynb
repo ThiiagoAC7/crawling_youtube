{
 "cells": [
  {
   "cell_type": "markdown",
   "metadata": {},
   "source": [
    "# COMMUNITY ANALYSIS "
   ]
  },
  {
   "cell_type": "code",
   "execution_count": 4,
   "metadata": {},
   "outputs": [
    {
     "name": "stderr",
     "output_type": "stream",
     "text": [
      "[nltk_data] Downloading package stopwords to /home/thiago/nltk_data...\n",
      "[nltk_data]   Package stopwords is already up-to-date!\n",
      "[nltk_data] Downloading package rslp to /home/thiago/nltk_data...\n",
      "[nltk_data]   Package rslp is already up-to-date!\n"
     ]
    }
   ],
   "source": [
    "import pandas as pd\n",
    "import networkx as nx\n",
    "import matplotlib.pyplot as plt\n",
    "import pickle\n",
    "from tqdm import tqdm\n",
    "from itertools import combinations\n",
    "import re\n",
    "import string\n",
    "import unicodedata\n",
    "import nltk\n",
    "from bertopic import BERTopic\n",
    "\n",
    "\n",
    "nltk.download(['stopwords', 'rslp'])\n",
    "stopwords = nltk.corpus.stopwords.words('portuguese')\n",
    "\n",
    "# ytbr = \"felipeneto\"\n",
    "ytbr = \"enaldinho\"\n"
   ]
  },
  {
   "cell_type": "markdown",
   "metadata": {},
   "source": [
    "### functions"
   ]
  },
  {
   "cell_type": "code",
   "execution_count": 6,
   "metadata": {},
   "outputs": [],
   "source": [
    "def clean_text_data(df: pd.DataFrame) -> pd.DataFrame:\n",
    "    df[\"comment_text_cleaned\"] = df[\"comment_text\"].str.replace(\"<br>\", \" \")\n",
    "    df[\"comment_text_cleaned\"] = convert_lowercase(df[\"comment_text_cleaned\"])\n",
    "    df[\"comment_text_cleaned\"] = remove_a_links(df[\"comment_text_cleaned\"])\n",
    "    df[\"comment_text_cleaned\"] = mask_user_handles(df[\"comment_text_cleaned\"])\n",
    "    df[\"comment_text_cleaned\"] = remove_punctuation(df[\"comment_text_cleaned\"])\n",
    "    df[\"comment_text_cleaned\"] = remove_non_ascii(df[\"comment_text_cleaned\"])\n",
    "    df[\"comment_text_cleaned\"] = remove_laughing(df[\"comment_text_cleaned\"])\n",
    "    df[\"comment_text_cleaned\"] = replace_repeated_letters(df[\"comment_text_cleaned\"])\n",
    "    df[\"comment_text_cleaned\"] = remove_stopwords(df[\"comment_text_cleaned\"])\n",
    "    df[\"comment_text_cleaned\"] = remove_single_letters(df[\"comment_text_cleaned\"])\n",
    "    df = df[df[\"comment_text_cleaned\"].str.strip() != \"\"]\n",
    "    return df\n",
    "\n",
    "\n",
    "def remove_non_ascii(words):\n",
    "    new_words = []\n",
    "    for word in words:\n",
    "        new_word = unicodedata.normalize('NFKD', word).encode(\n",
    "            'ascii', 'ignore').decode('utf-8', 'ignore')\n",
    "        new_words.append(new_word)\n",
    "    return new_words\n",
    "\n",
    "\n",
    "def remove_stopwords(words):\n",
    "    result = []\n",
    "    for word in words:\n",
    "        processed_text = ''\n",
    "        list_words = word.split()\n",
    "        for w in list_words:\n",
    "            if w not in stopwords:\n",
    "                processed_text = processed_text + ' ' + w  \n",
    "        result.append(processed_text)\n",
    "    return result\n",
    "\n",
    "\n",
    "def convert_lowercase(words):\n",
    "    lower = []\n",
    "    for s in words:\n",
    "        lower.append(s.lower())\n",
    "    return lower\n",
    "\n",
    "\n",
    "\n",
    "def remove_a_links(words):\n",
    "    cleaned_words = []\n",
    "    for word in words:\n",
    "        cleaned_words.append(re.sub(r'<a\\s+href=\"[^\"]*\">[^<]*<\\/a>', '', word))\n",
    "    return cleaned_words\n",
    "\n",
    "\n",
    "def remove_punctuation(words):\n",
    "    result = []\n",
    "    for word in words: \n",
    "        word = _replace_html_codes(word)\n",
    "        result.append(''.join(c for c in word if c not in string.punctuation))\n",
    "    return result\n",
    "\n",
    "def _replace_html_codes(text):\n",
    "    html_escape_table = {\n",
    "        \"&amp;\": \"&\",\n",
    "        \"&quot;\": '\"',\n",
    "        \"&apos;\": \"'\",\n",
    "        \"&gt;\": \">\", \n",
    "        \"&lt;\": \"<\", \n",
    "    }\n",
    "    \n",
    "    for code, value in html_escape_table.items():\n",
    "        text = text.replace(code, value)\n",
    "    \n",
    "    return text\n",
    "\n",
    "def remove_laughing(words):\n",
    "    # remove kkkkkkk's\n",
    "    new_words = [re.sub(r'k{2,}', '', word, flags=re.IGNORECASE) for word in words]\n",
    "\n",
    "    # remove other laughing patterns\n",
    "    laugh_pattern = r'\\b(kk|ak|ka|ks|sk)[a-zA-Z]*?(kk|ak|ka|ks|sk)\\b'\n",
    "    new_words  = [re.sub(laugh_pattern, '', word, flags=re.IGNORECASE) for word in new_words]\n",
    "    return new_words\n",
    "\n",
    "def remove_single_letters(words):\n",
    "    result = []\n",
    "    for w in words:\n",
    "        split_w = w.split(\" \")\n",
    "        new_w = [word for word in split_w if len(word) > 1] \n",
    "        result.append(\" \".join(new_w))\n",
    "    return result\n",
    "\n",
    "def replace_repeated_letters(words):\n",
    "    return [re.sub(r'(.)\\1+', r'\\1', word) for word in words]\n",
    "\n",
    "def mask_user_handles(words):\n",
    "    handle_pattern = r'@[\\w]+'\n",
    "\n",
    "    return [re.sub(handle_pattern, '@user', word) for word in words]"
   ]
  },
  {
   "cell_type": "code",
   "execution_count": 3,
   "metadata": {},
   "outputs": [],
   "source": [
    "# # Example DataFrame\n",
    "# deita = {'commenter_id': ['commenter1', 'commenter2', 'commenter3', 'commenter4'],\n",
    "#         'comment_text': ['akakakakakak this is fun', 'sksksksk botafogo is the best', 'kkkkk that was funny', 'fodase @juninhocabecudo'],\n",
    "#         'video_id': ['video1', 'video1', 'video2', 'video3']}\n",
    "\n",
    "# fd = pd.DataFrame(deita)\n",
    "\n",
    "# fd = clean_text_data(fd)\n",
    "# fd.head()"
   ]
  },
  {
   "cell_type": "markdown",
   "metadata": {},
   "source": [
    "###  getting video-comments network "
   ]
  },
  {
   "cell_type": "code",
   "execution_count": 7,
   "metadata": {},
   "outputs": [
    {
     "name": "stdout",
     "output_type": "stream",
     "text": [
      "Graph Nodes: 19348\n",
      "Graph Edges: 22484\n"
     ]
    }
   ],
   "source": [
    "G = pickle.load(open(f\"../data/{ytbr}/video_commenter_network.pickle\", 'rb'))\n",
    "print(f\"Graph Nodes: {G.number_of_nodes()}\")\n",
    "print(f\"Graph Edges: {G.number_of_edges()}\")"
   ]
  },
  {
   "cell_type": "code",
   "execution_count": 8,
   "metadata": {},
   "outputs": [
    {
     "name": "stdout",
     "output_type": "stream",
     "text": [
      "Number of video nodes 50\n",
      "Number of commenter nodes 19298\n"
     ]
    }
   ],
   "source": [
    "commenters = [node for node in G.nodes() if len(node) > 11]\n",
    "videos = [node for node in G.nodes() if len(node) == 11]\n",
    "\n",
    "print(f\"Number of video nodes {len(videos)}\")\n",
    "print(f\"Number of commenter nodes {len(commenters)}\")"
   ]
  },
  {
   "cell_type": "code",
   "execution_count": 9,
   "metadata": {},
   "outputs": [
    {
     "data": {
      "text/plain": [
       "17743"
      ]
     },
     "execution_count": 9,
     "metadata": {},
     "output_type": "execute_result"
    }
   ],
   "source": [
    "single_video_commenters = [c for c in commenters if G.degree(c) == 1]\n",
    "len(single_video_commenters)"
   ]
  },
  {
   "cell_type": "code",
   "execution_count": 10,
   "metadata": {},
   "outputs": [],
   "source": [
    "del G"
   ]
  },
  {
   "cell_type": "markdown",
   "metadata": {},
   "source": [
    "## Reading DF filtered by single commenters"
   ]
  },
  {
   "cell_type": "code",
   "execution_count": 11,
   "metadata": {},
   "outputs": [],
   "source": [
    "df = pd.read_csv(f\"../data/{ytbr}/comments.csv\")\n",
    "df = df[df[\"comment_author_channel_id\"].isin(single_video_commenters)]\n",
    "# df.head()"
   ]
  },
  {
   "cell_type": "code",
   "execution_count": 12,
   "metadata": {},
   "outputs": [],
   "source": [
    "df = clean_text_data(df)\n",
    "\n",
    "df['comment_text_cleaned'].to_csv('out.csv', index=False)"
   ]
  },
  {
   "cell_type": "markdown",
   "metadata": {},
   "source": [
    "## Bertopic"
   ]
  },
  {
   "cell_type": "code",
   "execution_count": 13,
   "metadata": {},
   "outputs": [
    {
     "name": "stderr",
     "output_type": "stream",
     "text": [
      "2024-09-25 00:18:52,677 - BERTopic - Embedding - Transforming documents to embeddings.\n"
     ]
    },
    {
     "name": "stderr",
     "output_type": "stream",
     "text": [
      "Batches: 100%|██████████| 537/537 [00:11<00:00, 47.30it/s]\n",
      "2024-09-25 00:19:09,337 - BERTopic - Embedding - Completed ✓\n",
      "2024-09-25 00:19:09,338 - BERTopic - Dimensionality - Fitting the dimensionality reduction algorithm\n",
      "2024-09-25 00:19:34,160 - BERTopic - Dimensionality - Completed ✓\n",
      "2024-09-25 00:19:34,161 - BERTopic - Cluster - Start clustering the reduced embeddings\n",
      "huggingface/tokenizers: The current process just got forked, after parallelism has already been used. Disabling parallelism to avoid deadlocks...\n",
      "To disable this warning, you can either:\n",
      "\t- Avoid using `tokenizers` before the fork if possible\n",
      "\t- Explicitly set the environment variable TOKENIZERS_PARALLELISM=(true | false)\n",
      "huggingface/tokenizers: The current process just got forked, after parallelism has already been used. Disabling parallelism to avoid deadlocks...\n",
      "To disable this warning, you can either:\n",
      "\t- Avoid using `tokenizers` before the fork if possible\n",
      "\t- Explicitly set the environment variable TOKENIZERS_PARALLELISM=(true | false)\n",
      "huggingface/tokenizers: The current process just got forked, after parallelism has already been used. Disabling parallelism to avoid deadlocks...\n",
      "To disable this warning, you can either:\n",
      "\t- Avoid using `tokenizers` before the fork if possible\n",
      "\t- Explicitly set the environment variable TOKENIZERS_PARALLELISM=(true | false)\n",
      "huggingface/tokenizers: The current process just got forked, after parallelism has already been used. Disabling parallelism to avoid deadlocks...\n",
      "To disable this warning, you can either:\n",
      "\t- Avoid using `tokenizers` before the fork if possible\n",
      "\t- Explicitly set the environment variable TOKENIZERS_PARALLELISM=(true | false)\n",
      "huggingface/tokenizers: The current process just got forked, after parallelism has already been used. Disabling parallelism to avoid deadlocks...\n",
      "To disable this warning, you can either:\n",
      "\t- Avoid using `tokenizers` before the fork if possible\n",
      "\t- Explicitly set the environment variable TOKENIZERS_PARALLELISM=(true | false)\n",
      "huggingface/tokenizers: The current process just got forked, after parallelism has already been used. Disabling parallelism to avoid deadlocks...\n",
      "To disable this warning, you can either:\n",
      "\t- Avoid using `tokenizers` before the fork if possible\n",
      "\t- Explicitly set the environment variable TOKENIZERS_PARALLELISM=(true | false)\n",
      "2024-09-25 00:19:35,950 - BERTopic - Cluster - Completed ✓\n",
      "2024-09-25 00:19:35,957 - BERTopic - Representation - Extracting topics from clusters using representation models.\n",
      "2024-09-25 00:19:36,233 - BERTopic - Representation - Completed ✓\n"
     ]
    },
    {
     "data": {
      "text/html": [
       "<div>\n",
       "<style scoped>\n",
       "    .dataframe tbody tr th:only-of-type {\n",
       "        vertical-align: middle;\n",
       "    }\n",
       "\n",
       "    .dataframe tbody tr th {\n",
       "        vertical-align: top;\n",
       "    }\n",
       "\n",
       "    .dataframe thead th {\n",
       "        text-align: right;\n",
       "    }\n",
       "</style>\n",
       "<table border=\"1\" class=\"dataframe\">\n",
       "  <thead>\n",
       "    <tr style=\"text-align: right;\">\n",
       "      <th></th>\n",
       "      <th>Topic</th>\n",
       "      <th>Count</th>\n",
       "      <th>Name</th>\n",
       "      <th>Representation</th>\n",
       "      <th>Representative_Docs</th>\n",
       "    </tr>\n",
       "  </thead>\n",
       "  <tbody>\n",
       "    <tr>\n",
       "      <th>0</th>\n",
       "      <td>-1</td>\n",
       "      <td>4518</td>\n",
       "      <td>-1_voce_nao_dinho_nada</td>\n",
       "      <td>[voce, nao, dinho, nada, ta, vai, ai, so, pra,...</td>\n",
       "      <td>[hoje hein vc vai ter fazer vou fazer pra vc t...</td>\n",
       "    </tr>\n",
       "    <tr>\n",
       "      <th>1</th>\n",
       "      <td>0</td>\n",
       "      <td>489</td>\n",
       "      <td>0_oi_oao_oj_iuh1</td>\n",
       "      <td>[oi, oao, oj, iuh1, oq, joao, , , , ]</td>\n",
       "      <td>[oi, oi, oi]</td>\n",
       "    </tr>\n",
       "    <tr>\n",
       "      <th>2</th>\n",
       "      <td>1</td>\n",
       "      <td>444</td>\n",
       "      <td>1_video_videos_ese_faz</td>\n",
       "      <td>[video, videos, ese, faz, postou, outro, legai...</td>\n",
       "      <td>[enaldinho ja vi ese video, video voce faz ena...</td>\n",
       "    </tr>\n",
       "    <tr>\n",
       "      <th>3</th>\n",
       "      <td>2</td>\n",
       "      <td>419</td>\n",
       "      <td>2_enaldinho_enaudinho_isolou_enaldinhoh</td>\n",
       "      <td>[enaldinho, enaudinho, isolou, enaldinhoh, tor...</td>\n",
       "      <td>[enaldinho, enaldinho, enaldinho]</td>\n",
       "    </tr>\n",
       "    <tr>\n",
       "      <th>4</th>\n",
       "      <td>3</td>\n",
       "      <td>231</td>\n",
       "      <td>3_vc_ta_entrou_brincadeira</td>\n",
       "      <td>[vc, ta, entrou, brincadeira, tambem, xingou, ...</td>\n",
       "      <td>[ate proprio enaldi nho entrou brincadeira, fa...</td>\n",
       "    </tr>\n",
       "    <tr>\n",
       "      <th>...</th>\n",
       "      <td>...</td>\n",
       "      <td>...</td>\n",
       "      <td>...</td>\n",
       "      <td>...</td>\n",
       "      <td>...</td>\n",
       "    </tr>\n",
       "    <tr>\n",
       "      <th>350</th>\n",
       "      <td>349</td>\n",
       "      <td>10</td>\n",
       "      <td>349_love_valentinauser_apaixonada_anita</td>\n",
       "      <td>[love, valentinauser, apaixonada, anita, amamo...</td>\n",
       "      <td>[love, love, love love]</td>\n",
       "    </tr>\n",
       "    <tr>\n",
       "      <th>351</th>\n",
       "      <td>350</td>\n",
       "      <td>10</td>\n",
       "      <td>350_best_dotu_feito_mr</td>\n",
       "      <td>[best, dotu, feito, mr, bem, achar, pasar, leg...</td>\n",
       "      <td>[oi dotu bem, iso cara mr best, achar vai pasa...</td>\n",
       "    </tr>\n",
       "    <tr>\n",
       "      <th>352</th>\n",
       "      <td>351</td>\n",
       "      <td>10</td>\n",
       "      <td>351_levantaran_inscrevime_els_theo</td>\n",
       "      <td>[levantaran, inscrevime, els, theo, praime, br...</td>\n",
       "      <td>[enaldo volta praime, inscrevime vai enaldinho...</td>\n",
       "    </tr>\n",
       "    <tr>\n",
       "      <th>353</th>\n",
       "      <td>352</td>\n",
       "      <td>10</td>\n",
       "      <td>352_saudavel_amarvai_riscar_qu</td>\n",
       "      <td>[saudavel, amarvai, riscar, qu, chapeu, predio...</td>\n",
       "      <td>[voce pode comer coisa saudavel coisa nao saud...</td>\n",
       "    </tr>\n",
       "    <tr>\n",
       "      <th>354</th>\n",
       "      <td>353</td>\n",
       "      <td>10</td>\n",
       "      <td>353_emily_evelyn38_victor_amanda</td>\n",
       "      <td>[emily, evelyn38, victor, amanda, bonita, fa, ...</td>\n",
       "      <td>[emily, emily, emily]</td>\n",
       "    </tr>\n",
       "  </tbody>\n",
       "</table>\n",
       "<p>355 rows × 5 columns</p>\n",
       "</div>"
      ],
      "text/plain": [
       "     Topic  Count                                     Name  \\\n",
       "0       -1   4518                   -1_voce_nao_dinho_nada   \n",
       "1        0    489                         0_oi_oao_oj_iuh1   \n",
       "2        1    444                   1_video_videos_ese_faz   \n",
       "3        2    419  2_enaldinho_enaudinho_isolou_enaldinhoh   \n",
       "4        3    231               3_vc_ta_entrou_brincadeira   \n",
       "..     ...    ...                                      ...   \n",
       "350    349     10  349_love_valentinauser_apaixonada_anita   \n",
       "351    350     10                   350_best_dotu_feito_mr   \n",
       "352    351     10       351_levantaran_inscrevime_els_theo   \n",
       "353    352     10           352_saudavel_amarvai_riscar_qu   \n",
       "354    353     10         353_emily_evelyn38_victor_amanda   \n",
       "\n",
       "                                        Representation  \\\n",
       "0    [voce, nao, dinho, nada, ta, vai, ai, so, pra,...   \n",
       "1                [oi, oao, oj, iuh1, oq, joao, , , , ]   \n",
       "2    [video, videos, ese, faz, postou, outro, legai...   \n",
       "3    [enaldinho, enaudinho, isolou, enaldinhoh, tor...   \n",
       "4    [vc, ta, entrou, brincadeira, tambem, xingou, ...   \n",
       "..                                                 ...   \n",
       "350  [love, valentinauser, apaixonada, anita, amamo...   \n",
       "351  [best, dotu, feito, mr, bem, achar, pasar, leg...   \n",
       "352  [levantaran, inscrevime, els, theo, praime, br...   \n",
       "353  [saudavel, amarvai, riscar, qu, chapeu, predio...   \n",
       "354  [emily, evelyn38, victor, amanda, bonita, fa, ...   \n",
       "\n",
       "                                   Representative_Docs  \n",
       "0    [hoje hein vc vai ter fazer vou fazer pra vc t...  \n",
       "1                                         [oi, oi, oi]  \n",
       "2    [enaldinho ja vi ese video, video voce faz ena...  \n",
       "3                    [enaldinho, enaldinho, enaldinho]  \n",
       "4    [ate proprio enaldi nho entrou brincadeira, fa...  \n",
       "..                                                 ...  \n",
       "350                            [love, love, love love]  \n",
       "351  [oi dotu bem, iso cara mr best, achar vai pasa...  \n",
       "352  [enaldo volta praime, inscrevime vai enaldinho...  \n",
       "353  [voce pode comer coisa saudavel coisa nao saud...  \n",
       "354                              [emily, emily, emily]  \n",
       "\n",
       "[355 rows x 5 columns]"
      ]
     },
     "metadata": {},
     "output_type": "display_data"
    }
   ],
   "source": [
    "model = BERTopic(\n",
    "    language=\"multilingual\",\n",
    "    verbose=True,\n",
    ")\n",
    "topics, probs = model.fit_transform(df[\"comment_text_cleaned\"].to_list())\n",
    "freq = model.get_topic_info()\n",
    "display(freq)"
   ]
  },
  {
   "cell_type": "markdown",
   "metadata": {},
   "source": [
    "## Barchart"
   ]
  },
  {
   "cell_type": "code",
   "execution_count": 14,
   "metadata": {},
   "outputs": [
    {
     "data": {
      "application/vnd.plotly.v1+json": {
       "config": {
        "plotlyServerURL": "https://plot.ly"
       },
       "data": [
        {
         "marker": {
          "color": "#D55E00"
         },
         "orientation": "h",
         "type": "bar",
         "x": [
          0.004808538358207521,
          0.011111905937738732,
          0.011111905937738732,
          0.019406675371628837,
          0.19891111401695835
         ],
         "xaxis": "x",
         "y": [
          "oq  ",
          "iuh1  ",
          "oj  ",
          "oao  ",
          "oi  "
         ],
         "yaxis": "y"
        },
        {
         "marker": {
          "color": "#0072B2"
         },
         "orientation": "h",
         "type": "bar",
         "x": [
          0.007010438357813009,
          0.007574548129545008,
          0.009834850227857067,
          0.01784820215986362,
          0.02344227013623304
         ],
         "xaxis": "x2",
         "y": [
          "postou  ",
          "faz  ",
          "ese  ",
          "videos  ",
          "video  "
         ],
         "yaxis": "y2"
        },
        {
         "marker": {
          "color": "#CC79A7"
         },
         "orientation": "h",
         "type": "bar",
         "x": [
          0.012695612157837008,
          0.012695612157837008,
          0.012695612157837008,
          0.017204847712019983,
          0.027989076444435514
         ],
         "xaxis": "x3",
         "y": [
          "torage  ",
          "enaldinhoh  ",
          "isolou  ",
          "enaudinho  ",
          "enaldinho  "
         ],
         "yaxis": "y3"
        },
        {
         "marker": {
          "color": "#E69F00"
         },
         "orientation": "h",
         "type": "bar",
         "x": [
          0.006827944822929045,
          0.008562860941937572,
          0.009053700110090398,
          0.01064810651177165,
          0.012997904771148617
         ],
         "xaxis": "x4",
         "y": [
          "tambem  ",
          "brincadeira  ",
          "entrou  ",
          "ta  ",
          "vc  "
         ],
         "yaxis": "y4"
        },
        {
         "marker": {
          "color": "#56B4E9"
         },
         "orientation": "h",
         "type": "bar",
         "x": [
          0.021867615803317822,
          0.022323882670729708,
          0.02536968177326635,
          0.06898105997943652,
          0.08001133624497458
         ],
         "xaxis": "x5",
         "y": [
          "favorito  ",
          "melhor  ",
          "youtubers  ",
          "youtuber  ",
          "youtube  "
         ],
         "yaxis": "y5"
        },
        {
         "marker": {
          "color": "#009E73"
         },
         "orientation": "h",
         "type": "bar",
         "x": [
          0.015338033124496655,
          0.018014539466033295,
          0.0214745700242066,
          0.02598784252550866,
          0.1253896723863209
         ],
         "xaxis": "x6",
         "y": [
          "aguento  ",
          "pop  ",
          "cd  ",
          "esa  ",
          "musica  "
         ],
         "yaxis": "y6"
        },
        {
         "marker": {
          "color": "#F0E442"
         },
         "orientation": "h",
         "type": "bar",
         "x": [
          0.029325194970470227,
          0.033158820014150256,
          0.041478793920261374,
          0.041478793920261374,
          0.28845684783333664
         ],
         "xaxis": "x7",
         "y": [
          "brigado  ",
          "co  ",
          "agresividade  ",
          "userh  ",
          "user  "
         ],
         "yaxis": "y7"
        },
        {
         "marker": {
          "color": "#D55E00"
         },
         "orientation": "h",
         "type": "bar",
         "x": [
          0.03438356614755978,
          0.03438356614755978,
          0.03438356614755978,
          0.04175652762099565,
          0.04721527632449656
         ],
         "xaxis": "x8",
         "y": [
          "userp8s5s  ",
          "useri3k  ",
          "userqs3kp  ",
          "nd  ",
          "bitcoin  "
         ],
         "yaxis": "y8"
        },
        {
         "marker": {
          "color": "#0072B2"
         },
         "orientation": "h",
         "type": "bar",
         "x": [
          0.019983359126035223,
          0.023005342835957048,
          0.024610795591239003,
          0.029861263725967528,
          0.0920079623271926
         ],
         "xaxis": "x9",
         "y": [
          "oq  ",
          "buricd  ",
          "usernaldinho  ",
          "invejoso  ",
          "user  "
         ],
         "yaxis": "y9"
        },
        {
         "marker": {
          "color": "#CC79A7"
         },
         "orientation": "h",
         "type": "bar",
         "x": [
          0.0656683853184889,
          0.07425308413425102,
          0.08110995091219232,
          0.08110995091219232,
          0.10525019757720137
         ],
         "xaxis": "x10",
         "y": [
          "paia  ",
          "calaboca  ",
          "ficanatua  ",
          "rarara  ",
          "belinha  "
         ],
         "yaxis": "y10"
        },
        {
         "marker": {
          "color": "#E69F00"
         },
         "orientation": "h",
         "type": "bar",
         "x": [
          0.027028272039144968,
          0.039050656884758936,
          0.055677268926898046,
          0.06815118161568454,
          0.11442179729080838
         ],
         "xaxis": "x11",
         "y": [
          "robson  ",
          "namoro  ",
          "mulher  ",
          "menina  ",
          "namorada  "
         ],
         "yaxis": "y11"
        },
        {
         "marker": {
          "color": "#56B4E9"
         },
         "orientation": "h",
         "type": "bar",
         "x": [
          0.015862944552265768,
          0.01681934004892811,
          0.025981029349814996,
          0.037843515110088245,
          0.039205134848975
         ],
         "xaxis": "x12",
         "y": [
          "voce  ",
          "estao  ",
          "som  ",
          "voz  ",
          "voces  "
         ],
         "yaxis": "y12"
        },
        {
         "marker": {
          "color": "#009E73"
         },
         "orientation": "h",
         "type": "bar",
         "x": [
          0.028169716817384567,
          0.03520144364345801,
          0.056070694351043796,
          0.05806900255238179,
          0.07784164789668978
         ],
         "xaxis": "x13",
         "y": [
          "batendo  ",
          "inscritos  ",
          "bater  ",
          "milhoes  ",
          "40  "
         ],
         "yaxis": "y13"
        },
        {
         "marker": {
          "color": "#F0E442"
         },
         "orientation": "h",
         "type": "bar",
         "x": [
          0.0543372200355424,
          0.0543372200355424,
          0.0543372200355424,
          0.09509056742032287,
          0.21267746440026214
         ],
         "xaxis": "x14",
         "y": [
          "sopha  ",
          "sophi  ",
          "sosu  ",
          "sus  ",
          "fa  "
         ],
         "yaxis": "y14"
        },
        {
         "marker": {
          "color": "#D55E00"
         },
         "orientation": "h",
         "type": "bar",
         "x": [
          0.018393852822407335,
          0.024893963620359998,
          0.029633844292628875,
          0.03835136021570163,
          0.08491419988473163
         ],
         "xaxis": "x15",
         "y": [
          "brasilia  ",
          "angola  ",
          "argentina  ",
          "brasileiro  ",
          "brasil  "
         ],
         "yaxis": "y15"
        },
        {
         "marker": {
          "color": "#0072B2"
         },
         "orientation": "h",
         "type": "bar",
         "x": [
          0.046048491555544406,
          0.046048491555544406,
          0.046048491555544406,
          0.11043573106407673,
          0.6719702715438284
         ],
         "xaxis": "x16",
         "y": [
          "gjslp  ",
          "inou  ",
          "jgu  ",
          "yes  ",
          "sim  "
         ],
         "yaxis": "y16"
        },
        {
         "marker": {
          "color": "#CC79A7"
         },
         "orientation": "h",
         "type": "bar",
         "x": [
          0.01924202338104319,
          0.02023674679821019,
          0.022680159843884936,
          0.028744869459991697,
          0.03579914094701272
         ],
         "xaxis": "x17",
         "y": [
          "jogando  ",
          "sobre  ",
          "grava  ",
          "video  ",
          "faz  "
         ],
         "yaxis": "y17"
        },
        {
         "marker": {
          "color": "#E69F00"
         },
         "orientation": "h",
         "type": "bar",
         "x": [
          0.03030181351154044,
          0.035409941256442166,
          0.07262916022381571,
          0.0825200916780215,
          0.10070066981309042
         ],
         "xaxis": "x18",
         "y": [
          "au  ",
          "tis  ",
          "nal  ",
          "di  ",
          "nho  "
         ],
         "yaxis": "y18"
        },
        {
         "marker": {
          "color": "#56B4E9"
         },
         "orientation": "h",
         "type": "bar",
         "x": [
          0.03488920682620037,
          0.04478429791043845,
          0.04953147086369332,
          0.053673668677005855,
          0.05506860796974248
         ],
         "xaxis": "x19",
         "y": [
          "feriu  ",
          "planta  ",
          "coitado  ",
          "marcelao  ",
          "aviao  "
         ],
         "yaxis": "y19"
        },
        {
         "marker": {
          "color": "#009E73"
         },
         "orientation": "h",
         "type": "bar",
         "x": [
          0.055173629399572675,
          0.06318281399481675,
          0.06318281399481675,
          0.08933954746817674,
          0.10482066724786704
         ],
         "xaxis": "x20",
         "y": [
          "nob  ",
          "nenun  ",
          "nsof  ",
          "nojo  ",
          "nao  "
         ],
         "yaxis": "y20"
        }
       ],
       "layout": {
        "annotations": [
         {
          "font": {
           "size": 16
          },
          "showarrow": false,
          "text": "Topic 0",
          "x": 0.0875,
          "xanchor": "center",
          "xref": "paper",
          "y": 0.9999999999999999,
          "yanchor": "bottom",
          "yref": "paper"
         },
         {
          "font": {
           "size": 16
          },
          "showarrow": false,
          "text": "Topic 1",
          "x": 0.36250000000000004,
          "xanchor": "center",
          "xref": "paper",
          "y": 0.9999999999999999,
          "yanchor": "bottom",
          "yref": "paper"
         },
         {
          "font": {
           "size": 16
          },
          "showarrow": false,
          "text": "Topic 2",
          "x": 0.6375000000000001,
          "xanchor": "center",
          "xref": "paper",
          "y": 0.9999999999999999,
          "yanchor": "bottom",
          "yref": "paper"
         },
         {
          "font": {
           "size": 16
          },
          "showarrow": false,
          "text": "Topic 3",
          "x": 0.9125,
          "xanchor": "center",
          "xref": "paper",
          "y": 0.9999999999999999,
          "yanchor": "bottom",
          "yref": "paper"
         },
         {
          "font": {
           "size": 16
          },
          "showarrow": false,
          "text": "Topic 4",
          "x": 0.0875,
          "xanchor": "center",
          "xref": "paper",
          "y": 0.7839999999999999,
          "yanchor": "bottom",
          "yref": "paper"
         },
         {
          "font": {
           "size": 16
          },
          "showarrow": false,
          "text": "Topic 5",
          "x": 0.36250000000000004,
          "xanchor": "center",
          "xref": "paper",
          "y": 0.7839999999999999,
          "yanchor": "bottom",
          "yref": "paper"
         },
         {
          "font": {
           "size": 16
          },
          "showarrow": false,
          "text": "Topic 6",
          "x": 0.6375000000000001,
          "xanchor": "center",
          "xref": "paper",
          "y": 0.7839999999999999,
          "yanchor": "bottom",
          "yref": "paper"
         },
         {
          "font": {
           "size": 16
          },
          "showarrow": false,
          "text": "Topic 7",
          "x": 0.9125,
          "xanchor": "center",
          "xref": "paper",
          "y": 0.7839999999999999,
          "yanchor": "bottom",
          "yref": "paper"
         },
         {
          "font": {
           "size": 16
          },
          "showarrow": false,
          "text": "Topic 8",
          "x": 0.0875,
          "xanchor": "center",
          "xref": "paper",
          "y": 0.568,
          "yanchor": "bottom",
          "yref": "paper"
         },
         {
          "font": {
           "size": 16
          },
          "showarrow": false,
          "text": "Topic 9",
          "x": 0.36250000000000004,
          "xanchor": "center",
          "xref": "paper",
          "y": 0.568,
          "yanchor": "bottom",
          "yref": "paper"
         },
         {
          "font": {
           "size": 16
          },
          "showarrow": false,
          "text": "Topic 10",
          "x": 0.6375000000000001,
          "xanchor": "center",
          "xref": "paper",
          "y": 0.568,
          "yanchor": "bottom",
          "yref": "paper"
         },
         {
          "font": {
           "size": 16
          },
          "showarrow": false,
          "text": "Topic 11",
          "x": 0.9125,
          "xanchor": "center",
          "xref": "paper",
          "y": 0.568,
          "yanchor": "bottom",
          "yref": "paper"
         },
         {
          "font": {
           "size": 16
          },
          "showarrow": false,
          "text": "Topic 12",
          "x": 0.0875,
          "xanchor": "center",
          "xref": "paper",
          "y": 0.352,
          "yanchor": "bottom",
          "yref": "paper"
         },
         {
          "font": {
           "size": 16
          },
          "showarrow": false,
          "text": "Topic 13",
          "x": 0.36250000000000004,
          "xanchor": "center",
          "xref": "paper",
          "y": 0.352,
          "yanchor": "bottom",
          "yref": "paper"
         },
         {
          "font": {
           "size": 16
          },
          "showarrow": false,
          "text": "Topic 14",
          "x": 0.6375000000000001,
          "xanchor": "center",
          "xref": "paper",
          "y": 0.352,
          "yanchor": "bottom",
          "yref": "paper"
         },
         {
          "font": {
           "size": 16
          },
          "showarrow": false,
          "text": "Topic 15",
          "x": 0.9125,
          "xanchor": "center",
          "xref": "paper",
          "y": 0.352,
          "yanchor": "bottom",
          "yref": "paper"
         },
         {
          "font": {
           "size": 16
          },
          "showarrow": false,
          "text": "Topic 16",
          "x": 0.0875,
          "xanchor": "center",
          "xref": "paper",
          "y": 0.13599999999999998,
          "yanchor": "bottom",
          "yref": "paper"
         },
         {
          "font": {
           "size": 16
          },
          "showarrow": false,
          "text": "Topic 17",
          "x": 0.36250000000000004,
          "xanchor": "center",
          "xref": "paper",
          "y": 0.13599999999999998,
          "yanchor": "bottom",
          "yref": "paper"
         },
         {
          "font": {
           "size": 16
          },
          "showarrow": false,
          "text": "Topic 18",
          "x": 0.6375000000000001,
          "xanchor": "center",
          "xref": "paper",
          "y": 0.13599999999999998,
          "yanchor": "bottom",
          "yref": "paper"
         },
         {
          "font": {
           "size": 16
          },
          "showarrow": false,
          "text": "Topic 19",
          "x": 0.9125,
          "xanchor": "center",
          "xref": "paper",
          "y": 0.13599999999999998,
          "yanchor": "bottom",
          "yref": "paper"
         }
        ],
        "height": 1250,
        "hoverlabel": {
         "bgcolor": "white",
         "font": {
          "family": "Rockwell",
          "size": 16
         }
        },
        "showlegend": false,
        "template": {
         "data": {
          "bar": [
           {
            "error_x": {
             "color": "#2a3f5f"
            },
            "error_y": {
             "color": "#2a3f5f"
            },
            "marker": {
             "line": {
              "color": "white",
              "width": 0.5
             },
             "pattern": {
              "fillmode": "overlay",
              "size": 10,
              "solidity": 0.2
             }
            },
            "type": "bar"
           }
          ],
          "barpolar": [
           {
            "marker": {
             "line": {
              "color": "white",
              "width": 0.5
             },
             "pattern": {
              "fillmode": "overlay",
              "size": 10,
              "solidity": 0.2
             }
            },
            "type": "barpolar"
           }
          ],
          "carpet": [
           {
            "aaxis": {
             "endlinecolor": "#2a3f5f",
             "gridcolor": "#C8D4E3",
             "linecolor": "#C8D4E3",
             "minorgridcolor": "#C8D4E3",
             "startlinecolor": "#2a3f5f"
            },
            "baxis": {
             "endlinecolor": "#2a3f5f",
             "gridcolor": "#C8D4E3",
             "linecolor": "#C8D4E3",
             "minorgridcolor": "#C8D4E3",
             "startlinecolor": "#2a3f5f"
            },
            "type": "carpet"
           }
          ],
          "choropleth": [
           {
            "colorbar": {
             "outlinewidth": 0,
             "ticks": ""
            },
            "type": "choropleth"
           }
          ],
          "contour": [
           {
            "colorbar": {
             "outlinewidth": 0,
             "ticks": ""
            },
            "colorscale": [
             [
              0,
              "#0d0887"
             ],
             [
              0.1111111111111111,
              "#46039f"
             ],
             [
              0.2222222222222222,
              "#7201a8"
             ],
             [
              0.3333333333333333,
              "#9c179e"
             ],
             [
              0.4444444444444444,
              "#bd3786"
             ],
             [
              0.5555555555555556,
              "#d8576b"
             ],
             [
              0.6666666666666666,
              "#ed7953"
             ],
             [
              0.7777777777777778,
              "#fb9f3a"
             ],
             [
              0.8888888888888888,
              "#fdca26"
             ],
             [
              1,
              "#f0f921"
             ]
            ],
            "type": "contour"
           }
          ],
          "contourcarpet": [
           {
            "colorbar": {
             "outlinewidth": 0,
             "ticks": ""
            },
            "type": "contourcarpet"
           }
          ],
          "heatmap": [
           {
            "colorbar": {
             "outlinewidth": 0,
             "ticks": ""
            },
            "colorscale": [
             [
              0,
              "#0d0887"
             ],
             [
              0.1111111111111111,
              "#46039f"
             ],
             [
              0.2222222222222222,
              "#7201a8"
             ],
             [
              0.3333333333333333,
              "#9c179e"
             ],
             [
              0.4444444444444444,
              "#bd3786"
             ],
             [
              0.5555555555555556,
              "#d8576b"
             ],
             [
              0.6666666666666666,
              "#ed7953"
             ],
             [
              0.7777777777777778,
              "#fb9f3a"
             ],
             [
              0.8888888888888888,
              "#fdca26"
             ],
             [
              1,
              "#f0f921"
             ]
            ],
            "type": "heatmap"
           }
          ],
          "heatmapgl": [
           {
            "colorbar": {
             "outlinewidth": 0,
             "ticks": ""
            },
            "colorscale": [
             [
              0,
              "#0d0887"
             ],
             [
              0.1111111111111111,
              "#46039f"
             ],
             [
              0.2222222222222222,
              "#7201a8"
             ],
             [
              0.3333333333333333,
              "#9c179e"
             ],
             [
              0.4444444444444444,
              "#bd3786"
             ],
             [
              0.5555555555555556,
              "#d8576b"
             ],
             [
              0.6666666666666666,
              "#ed7953"
             ],
             [
              0.7777777777777778,
              "#fb9f3a"
             ],
             [
              0.8888888888888888,
              "#fdca26"
             ],
             [
              1,
              "#f0f921"
             ]
            ],
            "type": "heatmapgl"
           }
          ],
          "histogram": [
           {
            "marker": {
             "pattern": {
              "fillmode": "overlay",
              "size": 10,
              "solidity": 0.2
             }
            },
            "type": "histogram"
           }
          ],
          "histogram2d": [
           {
            "colorbar": {
             "outlinewidth": 0,
             "ticks": ""
            },
            "colorscale": [
             [
              0,
              "#0d0887"
             ],
             [
              0.1111111111111111,
              "#46039f"
             ],
             [
              0.2222222222222222,
              "#7201a8"
             ],
             [
              0.3333333333333333,
              "#9c179e"
             ],
             [
              0.4444444444444444,
              "#bd3786"
             ],
             [
              0.5555555555555556,
              "#d8576b"
             ],
             [
              0.6666666666666666,
              "#ed7953"
             ],
             [
              0.7777777777777778,
              "#fb9f3a"
             ],
             [
              0.8888888888888888,
              "#fdca26"
             ],
             [
              1,
              "#f0f921"
             ]
            ],
            "type": "histogram2d"
           }
          ],
          "histogram2dcontour": [
           {
            "colorbar": {
             "outlinewidth": 0,
             "ticks": ""
            },
            "colorscale": [
             [
              0,
              "#0d0887"
             ],
             [
              0.1111111111111111,
              "#46039f"
             ],
             [
              0.2222222222222222,
              "#7201a8"
             ],
             [
              0.3333333333333333,
              "#9c179e"
             ],
             [
              0.4444444444444444,
              "#bd3786"
             ],
             [
              0.5555555555555556,
              "#d8576b"
             ],
             [
              0.6666666666666666,
              "#ed7953"
             ],
             [
              0.7777777777777778,
              "#fb9f3a"
             ],
             [
              0.8888888888888888,
              "#fdca26"
             ],
             [
              1,
              "#f0f921"
             ]
            ],
            "type": "histogram2dcontour"
           }
          ],
          "mesh3d": [
           {
            "colorbar": {
             "outlinewidth": 0,
             "ticks": ""
            },
            "type": "mesh3d"
           }
          ],
          "parcoords": [
           {
            "line": {
             "colorbar": {
              "outlinewidth": 0,
              "ticks": ""
             }
            },
            "type": "parcoords"
           }
          ],
          "pie": [
           {
            "automargin": true,
            "type": "pie"
           }
          ],
          "scatter": [
           {
            "fillpattern": {
             "fillmode": "overlay",
             "size": 10,
             "solidity": 0.2
            },
            "type": "scatter"
           }
          ],
          "scatter3d": [
           {
            "line": {
             "colorbar": {
              "outlinewidth": 0,
              "ticks": ""
             }
            },
            "marker": {
             "colorbar": {
              "outlinewidth": 0,
              "ticks": ""
             }
            },
            "type": "scatter3d"
           }
          ],
          "scattercarpet": [
           {
            "marker": {
             "colorbar": {
              "outlinewidth": 0,
              "ticks": ""
             }
            },
            "type": "scattercarpet"
           }
          ],
          "scattergeo": [
           {
            "marker": {
             "colorbar": {
              "outlinewidth": 0,
              "ticks": ""
             }
            },
            "type": "scattergeo"
           }
          ],
          "scattergl": [
           {
            "marker": {
             "colorbar": {
              "outlinewidth": 0,
              "ticks": ""
             }
            },
            "type": "scattergl"
           }
          ],
          "scattermapbox": [
           {
            "marker": {
             "colorbar": {
              "outlinewidth": 0,
              "ticks": ""
             }
            },
            "type": "scattermapbox"
           }
          ],
          "scatterpolar": [
           {
            "marker": {
             "colorbar": {
              "outlinewidth": 0,
              "ticks": ""
             }
            },
            "type": "scatterpolar"
           }
          ],
          "scatterpolargl": [
           {
            "marker": {
             "colorbar": {
              "outlinewidth": 0,
              "ticks": ""
             }
            },
            "type": "scatterpolargl"
           }
          ],
          "scatterternary": [
           {
            "marker": {
             "colorbar": {
              "outlinewidth": 0,
              "ticks": ""
             }
            },
            "type": "scatterternary"
           }
          ],
          "surface": [
           {
            "colorbar": {
             "outlinewidth": 0,
             "ticks": ""
            },
            "colorscale": [
             [
              0,
              "#0d0887"
             ],
             [
              0.1111111111111111,
              "#46039f"
             ],
             [
              0.2222222222222222,
              "#7201a8"
             ],
             [
              0.3333333333333333,
              "#9c179e"
             ],
             [
              0.4444444444444444,
              "#bd3786"
             ],
             [
              0.5555555555555556,
              "#d8576b"
             ],
             [
              0.6666666666666666,
              "#ed7953"
             ],
             [
              0.7777777777777778,
              "#fb9f3a"
             ],
             [
              0.8888888888888888,
              "#fdca26"
             ],
             [
              1,
              "#f0f921"
             ]
            ],
            "type": "surface"
           }
          ],
          "table": [
           {
            "cells": {
             "fill": {
              "color": "#EBF0F8"
             },
             "line": {
              "color": "white"
             }
            },
            "header": {
             "fill": {
              "color": "#C8D4E3"
             },
             "line": {
              "color": "white"
             }
            },
            "type": "table"
           }
          ]
         },
         "layout": {
          "annotationdefaults": {
           "arrowcolor": "#2a3f5f",
           "arrowhead": 0,
           "arrowwidth": 1
          },
          "autotypenumbers": "strict",
          "coloraxis": {
           "colorbar": {
            "outlinewidth": 0,
            "ticks": ""
           }
          },
          "colorscale": {
           "diverging": [
            [
             0,
             "#8e0152"
            ],
            [
             0.1,
             "#c51b7d"
            ],
            [
             0.2,
             "#de77ae"
            ],
            [
             0.3,
             "#f1b6da"
            ],
            [
             0.4,
             "#fde0ef"
            ],
            [
             0.5,
             "#f7f7f7"
            ],
            [
             0.6,
             "#e6f5d0"
            ],
            [
             0.7,
             "#b8e186"
            ],
            [
             0.8,
             "#7fbc41"
            ],
            [
             0.9,
             "#4d9221"
            ],
            [
             1,
             "#276419"
            ]
           ],
           "sequential": [
            [
             0,
             "#0d0887"
            ],
            [
             0.1111111111111111,
             "#46039f"
            ],
            [
             0.2222222222222222,
             "#7201a8"
            ],
            [
             0.3333333333333333,
             "#9c179e"
            ],
            [
             0.4444444444444444,
             "#bd3786"
            ],
            [
             0.5555555555555556,
             "#d8576b"
            ],
            [
             0.6666666666666666,
             "#ed7953"
            ],
            [
             0.7777777777777778,
             "#fb9f3a"
            ],
            [
             0.8888888888888888,
             "#fdca26"
            ],
            [
             1,
             "#f0f921"
            ]
           ],
           "sequentialminus": [
            [
             0,
             "#0d0887"
            ],
            [
             0.1111111111111111,
             "#46039f"
            ],
            [
             0.2222222222222222,
             "#7201a8"
            ],
            [
             0.3333333333333333,
             "#9c179e"
            ],
            [
             0.4444444444444444,
             "#bd3786"
            ],
            [
             0.5555555555555556,
             "#d8576b"
            ],
            [
             0.6666666666666666,
             "#ed7953"
            ],
            [
             0.7777777777777778,
             "#fb9f3a"
            ],
            [
             0.8888888888888888,
             "#fdca26"
            ],
            [
             1,
             "#f0f921"
            ]
           ]
          },
          "colorway": [
           "#636efa",
           "#EF553B",
           "#00cc96",
           "#ab63fa",
           "#FFA15A",
           "#19d3f3",
           "#FF6692",
           "#B6E880",
           "#FF97FF",
           "#FECB52"
          ],
          "font": {
           "color": "#2a3f5f"
          },
          "geo": {
           "bgcolor": "white",
           "lakecolor": "white",
           "landcolor": "white",
           "showlakes": true,
           "showland": true,
           "subunitcolor": "#C8D4E3"
          },
          "hoverlabel": {
           "align": "left"
          },
          "hovermode": "closest",
          "mapbox": {
           "style": "light"
          },
          "paper_bgcolor": "white",
          "plot_bgcolor": "white",
          "polar": {
           "angularaxis": {
            "gridcolor": "#EBF0F8",
            "linecolor": "#EBF0F8",
            "ticks": ""
           },
           "bgcolor": "white",
           "radialaxis": {
            "gridcolor": "#EBF0F8",
            "linecolor": "#EBF0F8",
            "ticks": ""
           }
          },
          "scene": {
           "xaxis": {
            "backgroundcolor": "white",
            "gridcolor": "#DFE8F3",
            "gridwidth": 2,
            "linecolor": "#EBF0F8",
            "showbackground": true,
            "ticks": "",
            "zerolinecolor": "#EBF0F8"
           },
           "yaxis": {
            "backgroundcolor": "white",
            "gridcolor": "#DFE8F3",
            "gridwidth": 2,
            "linecolor": "#EBF0F8",
            "showbackground": true,
            "ticks": "",
            "zerolinecolor": "#EBF0F8"
           },
           "zaxis": {
            "backgroundcolor": "white",
            "gridcolor": "#DFE8F3",
            "gridwidth": 2,
            "linecolor": "#EBF0F8",
            "showbackground": true,
            "ticks": "",
            "zerolinecolor": "#EBF0F8"
           }
          },
          "shapedefaults": {
           "line": {
            "color": "#2a3f5f"
           }
          },
          "ternary": {
           "aaxis": {
            "gridcolor": "#DFE8F3",
            "linecolor": "#A2B1C6",
            "ticks": ""
           },
           "baxis": {
            "gridcolor": "#DFE8F3",
            "linecolor": "#A2B1C6",
            "ticks": ""
           },
           "bgcolor": "white",
           "caxis": {
            "gridcolor": "#DFE8F3",
            "linecolor": "#A2B1C6",
            "ticks": ""
           }
          },
          "title": {
           "x": 0.05
          },
          "xaxis": {
           "automargin": true,
           "gridcolor": "#EBF0F8",
           "linecolor": "#EBF0F8",
           "ticks": "",
           "title": {
            "standoff": 15
           },
           "zerolinecolor": "#EBF0F8",
           "zerolinewidth": 2
          },
          "yaxis": {
           "automargin": true,
           "gridcolor": "#EBF0F8",
           "linecolor": "#EBF0F8",
           "ticks": "",
           "title": {
            "standoff": 15
           },
           "zerolinecolor": "#EBF0F8",
           "zerolinewidth": 2
          }
         }
        },
        "title": {
         "font": {
          "color": "Black",
          "size": 22
         },
         "text": "Topic Word Scores",
         "x": 0.5,
         "xanchor": "center",
         "yanchor": "top"
        },
        "width": 1000,
        "xaxis": {
         "anchor": "y",
         "domain": [
          0,
          0.175
         ],
         "showgrid": true
        },
        "xaxis10": {
         "anchor": "y10",
         "domain": [
          0.275,
          0.45
         ],
         "showgrid": true
        },
        "xaxis11": {
         "anchor": "y11",
         "domain": [
          0.55,
          0.7250000000000001
         ],
         "showgrid": true
        },
        "xaxis12": {
         "anchor": "y12",
         "domain": [
          0.825,
          1
         ],
         "showgrid": true
        },
        "xaxis13": {
         "anchor": "y13",
         "domain": [
          0,
          0.175
         ],
         "showgrid": true
        },
        "xaxis14": {
         "anchor": "y14",
         "domain": [
          0.275,
          0.45
         ],
         "showgrid": true
        },
        "xaxis15": {
         "anchor": "y15",
         "domain": [
          0.55,
          0.7250000000000001
         ],
         "showgrid": true
        },
        "xaxis16": {
         "anchor": "y16",
         "domain": [
          0.825,
          1
         ],
         "showgrid": true
        },
        "xaxis17": {
         "anchor": "y17",
         "domain": [
          0,
          0.175
         ],
         "showgrid": true
        },
        "xaxis18": {
         "anchor": "y18",
         "domain": [
          0.275,
          0.45
         ],
         "showgrid": true
        },
        "xaxis19": {
         "anchor": "y19",
         "domain": [
          0.55,
          0.7250000000000001
         ],
         "showgrid": true
        },
        "xaxis2": {
         "anchor": "y2",
         "domain": [
          0.275,
          0.45
         ],
         "showgrid": true
        },
        "xaxis20": {
         "anchor": "y20",
         "domain": [
          0.825,
          1
         ],
         "showgrid": true
        },
        "xaxis3": {
         "anchor": "y3",
         "domain": [
          0.55,
          0.7250000000000001
         ],
         "showgrid": true
        },
        "xaxis4": {
         "anchor": "y4",
         "domain": [
          0.825,
          1
         ],
         "showgrid": true
        },
        "xaxis5": {
         "anchor": "y5",
         "domain": [
          0,
          0.175
         ],
         "showgrid": true
        },
        "xaxis6": {
         "anchor": "y6",
         "domain": [
          0.275,
          0.45
         ],
         "showgrid": true
        },
        "xaxis7": {
         "anchor": "y7",
         "domain": [
          0.55,
          0.7250000000000001
         ],
         "showgrid": true
        },
        "xaxis8": {
         "anchor": "y8",
         "domain": [
          0.825,
          1
         ],
         "showgrid": true
        },
        "xaxis9": {
         "anchor": "y9",
         "domain": [
          0,
          0.175
         ],
         "showgrid": true
        },
        "yaxis": {
         "anchor": "x",
         "domain": [
          0.8639999999999999,
          0.9999999999999999
         ],
         "showgrid": true
        },
        "yaxis10": {
         "anchor": "x10",
         "domain": [
          0.43199999999999994,
          0.568
         ],
         "showgrid": true
        },
        "yaxis11": {
         "anchor": "x11",
         "domain": [
          0.43199999999999994,
          0.568
         ],
         "showgrid": true
        },
        "yaxis12": {
         "anchor": "x12",
         "domain": [
          0.43199999999999994,
          0.568
         ],
         "showgrid": true
        },
        "yaxis13": {
         "anchor": "x13",
         "domain": [
          0.21599999999999997,
          0.352
         ],
         "showgrid": true
        },
        "yaxis14": {
         "anchor": "x14",
         "domain": [
          0.21599999999999997,
          0.352
         ],
         "showgrid": true
        },
        "yaxis15": {
         "anchor": "x15",
         "domain": [
          0.21599999999999997,
          0.352
         ],
         "showgrid": true
        },
        "yaxis16": {
         "anchor": "x16",
         "domain": [
          0.21599999999999997,
          0.352
         ],
         "showgrid": true
        },
        "yaxis17": {
         "anchor": "x17",
         "domain": [
          0,
          0.13599999999999998
         ],
         "showgrid": true
        },
        "yaxis18": {
         "anchor": "x18",
         "domain": [
          0,
          0.13599999999999998
         ],
         "showgrid": true
        },
        "yaxis19": {
         "anchor": "x19",
         "domain": [
          0,
          0.13599999999999998
         ],
         "showgrid": true
        },
        "yaxis2": {
         "anchor": "x2",
         "domain": [
          0.8639999999999999,
          0.9999999999999999
         ],
         "showgrid": true
        },
        "yaxis20": {
         "anchor": "x20",
         "domain": [
          0,
          0.13599999999999998
         ],
         "showgrid": true
        },
        "yaxis3": {
         "anchor": "x3",
         "domain": [
          0.8639999999999999,
          0.9999999999999999
         ],
         "showgrid": true
        },
        "yaxis4": {
         "anchor": "x4",
         "domain": [
          0.8639999999999999,
          0.9999999999999999
         ],
         "showgrid": true
        },
        "yaxis5": {
         "anchor": "x5",
         "domain": [
          0.6479999999999999,
          0.7839999999999999
         ],
         "showgrid": true
        },
        "yaxis6": {
         "anchor": "x6",
         "domain": [
          0.6479999999999999,
          0.7839999999999999
         ],
         "showgrid": true
        },
        "yaxis7": {
         "anchor": "x7",
         "domain": [
          0.6479999999999999,
          0.7839999999999999
         ],
         "showgrid": true
        },
        "yaxis8": {
         "anchor": "x8",
         "domain": [
          0.6479999999999999,
          0.7839999999999999
         ],
         "showgrid": true
        },
        "yaxis9": {
         "anchor": "x9",
         "domain": [
          0.43199999999999994,
          0.568
         ],
         "showgrid": true
        }
       }
      }
     },
     "metadata": {},
     "output_type": "display_data"
    }
   ],
   "source": [
    "model.visualize_barchart(top_n_topics=20)"
   ]
  },
  {
   "cell_type": "markdown",
   "metadata": {},
   "source": [
    "## Hierarchical Clustering"
   ]
  },
  {
   "cell_type": "code",
   "execution_count": 15,
   "metadata": {},
   "outputs": [
    {
     "data": {
      "application/vnd.plotly.v1+json": {
       "config": {
        "plotlyServerURL": "https://plot.ly"
       },
       "data": [
        {
         "hoverinfo": "text",
         "marker": {
          "color": "rgb(61,153,112)"
         },
         "mode": "lines",
         "type": "scatter",
         "x": [
          0,
          0.11125275484387598,
          0.11125275484387598,
          0
         ],
         "xaxis": "x",
         "y": [
          -5,
          -5,
          -15,
          -15
         ],
         "yaxis": "y"
        },
        {
         "hoverinfo": "text",
         "marker": {
          "color": "rgb(255,65,54)"
         },
         "mode": "lines",
         "type": "scatter",
         "x": [
          0,
          0.48298124757333827,
          0.48298124757333827,
          0
         ],
         "xaxis": "x",
         "y": [
          -25,
          -25,
          -35,
          -35
         ],
         "yaxis": "y"
        },
        {
         "hoverinfo": "text",
         "marker": {
          "color": "rgb(35,205,205)"
         },
         "mode": "lines",
         "type": "scatter",
         "x": [
          0,
          0.923778985831436,
          0.923778985831436,
          0
         ],
         "xaxis": "x",
         "y": [
          -45,
          -45,
          -55,
          -55
         ],
         "yaxis": "y"
        },
        {
         "hoverinfo": "text",
         "marker": {
          "color": "rgb(133,20,75)"
         },
         "mode": "lines",
         "type": "scatter",
         "x": [
          0,
          0.8942310619105838,
          0.8942310619105838,
          0
         ],
         "xaxis": "x",
         "y": [
          -65,
          -65,
          -75,
          -75
         ],
         "yaxis": "y"
        },
        {
         "hoverinfo": "text",
         "marker": {
          "color": "rgb(0,116,217)"
         },
         "mode": "lines",
         "type": "scatter",
         "x": [
          0.923778985831436,
          1.0240695931213268,
          1.0240695931213268,
          0.8942310619105838
         ],
         "xaxis": "x",
         "y": [
          -50,
          -50,
          -70,
          -70
         ],
         "yaxis": "y"
        },
        {
         "hoverinfo": "text",
         "marker": {
          "color": "rgb(255,220,0)"
         },
         "mode": "lines",
         "type": "scatter",
         "x": [
          0,
          0.8725228273393,
          0.8725228273393,
          0
         ],
         "xaxis": "x",
         "y": [
          -85,
          -85,
          -95,
          -95
         ],
         "yaxis": "y"
        },
        {
         "hoverinfo": "text",
         "marker": {
          "color": "rgb(0,116,217)"
         },
         "mode": "lines",
         "type": "scatter",
         "x": [
          1.0240695931213268,
          1.030488463088952,
          1.030488463088952,
          0.8725228273393
         ],
         "xaxis": "x",
         "y": [
          -60,
          -60,
          -90,
          -90
         ],
         "yaxis": "y"
        },
        {
         "hoverinfo": "text",
         "marker": {
          "color": "rgb(40,35,35)"
         },
         "mode": "lines",
         "type": "scatter",
         "x": [
          0,
          0.8728647613555353,
          0.8728647613555353,
          0
         ],
         "xaxis": "x",
         "y": [
          -115,
          -115,
          -125,
          -125
         ],
         "yaxis": "y"
        },
        {
         "hoverinfo": "text",
         "marker": {
          "color": "rgb(40,35,35)"
         },
         "mode": "lines",
         "type": "scatter",
         "x": [
          0,
          0.9691233759076917,
          0.9691233759076917,
          0.8728647613555353
         ],
         "xaxis": "x",
         "y": [
          -105,
          -105,
          -120,
          -120
         ],
         "yaxis": "y"
        },
        {
         "hoverinfo": "text",
         "marker": {
          "color": "rgb(40,35,35)"
         },
         "mode": "lines",
         "type": "scatter",
         "x": [
          0,
          0.8953653877284553,
          0.8953653877284553,
          0
         ],
         "xaxis": "x",
         "y": [
          -135,
          -135,
          -145,
          -145
         ],
         "yaxis": "y"
        },
        {
         "hoverinfo": "text",
         "marker": {
          "color": "rgb(40,35,35)"
         },
         "mode": "lines",
         "type": "scatter",
         "x": [
          0.9691233759076917,
          0.9886536815153196,
          0.9886536815153196,
          0.8953653877284553
         ],
         "xaxis": "x",
         "y": [
          -112.5,
          -112.5,
          -140,
          -140
         ],
         "yaxis": "y"
        },
        {
         "hoverinfo": "text",
         "marker": {
          "color": "rgb(61,153,112)"
         },
         "mode": "lines",
         "type": "scatter",
         "x": [
          0,
          0.7217146309975484,
          0.7217146309975484,
          0
         ],
         "xaxis": "x",
         "y": [
          -155,
          -155,
          -165,
          -165
         ],
         "yaxis": "y"
        },
        {
         "hoverinfo": "text",
         "marker": {
          "color": "rgb(255,65,54)"
         },
         "mode": "lines",
         "type": "scatter",
         "x": [
          0,
          0.8894274223296085,
          0.8894274223296085,
          0
         ],
         "xaxis": "x",
         "y": [
          -195,
          -195,
          -205,
          -205
         ],
         "yaxis": "y"
        },
        {
         "hoverinfo": "text",
         "marker": {
          "color": "rgb(255,65,54)"
         },
         "mode": "lines",
         "type": "scatter",
         "x": [
          0,
          0.93795852660043,
          0.93795852660043,
          0.8894274223296085
         ],
         "xaxis": "x",
         "y": [
          -185,
          -185,
          -200,
          -200
         ],
         "yaxis": "y"
        },
        {
         "hoverinfo": "text",
         "marker": {
          "color": "rgb(255,65,54)"
         },
         "mode": "lines",
         "type": "scatter",
         "x": [
          0.93795852660043,
          0.9452627045854299,
          0.9452627045854299,
          0
         ],
         "xaxis": "x",
         "y": [
          -192.5,
          -192.5,
          -215,
          -215
         ],
         "yaxis": "y"
        },
        {
         "hoverinfo": "text",
         "marker": {
          "color": "rgb(255,65,54)"
         },
         "mode": "lines",
         "type": "scatter",
         "x": [
          0,
          0.9761088409188645,
          0.9761088409188645,
          0.9452627045854299
         ],
         "xaxis": "x",
         "y": [
          -175,
          -175,
          -203.75,
          -203.75
         ],
         "yaxis": "y"
        },
        {
         "hoverinfo": "text",
         "marker": {
          "color": "rgb(255,65,54)"
         },
         "mode": "lines",
         "type": "scatter",
         "x": [
          0,
          0.950410839996141,
          0.950410839996141,
          0
         ],
         "xaxis": "x",
         "y": [
          -225,
          -225,
          -235,
          -235
         ],
         "yaxis": "y"
        },
        {
         "hoverinfo": "text",
         "marker": {
          "color": "rgb(255,65,54)"
         },
         "mode": "lines",
         "type": "scatter",
         "x": [
          0.9761088409188645,
          0.9916573149066455,
          0.9916573149066455,
          0.950410839996141
         ],
         "xaxis": "x",
         "y": [
          -189.375,
          -189.375,
          -230,
          -230
         ],
         "yaxis": "y"
        },
        {
         "hoverinfo": "text",
         "marker": {
          "color": "rgb(0,116,217)"
         },
         "mode": "lines",
         "type": "scatter",
         "x": [
          0.7217146309975484,
          1.0209107417050947,
          1.0209107417050947,
          0.9916573149066455
         ],
         "xaxis": "x",
         "y": [
          -160,
          -160,
          -209.6875,
          -209.6875
         ],
         "yaxis": "y"
        },
        {
         "hoverinfo": "text",
         "marker": {
          "color": "rgb(0,116,217)"
         },
         "mode": "lines",
         "type": "scatter",
         "x": [
          0.9886536815153196,
          1.0624767435498643,
          1.0624767435498643,
          1.0209107417050947
         ],
         "xaxis": "x",
         "y": [
          -126.25,
          -126.25,
          -184.84375,
          -184.84375
         ],
         "yaxis": "y"
        },
        {
         "hoverinfo": "text",
         "marker": {
          "color": "rgb(0,116,217)"
         },
         "mode": "lines",
         "type": "scatter",
         "x": [
          1.030488463088952,
          1.0820428229884442,
          1.0820428229884442,
          1.0624767435498643
         ],
         "xaxis": "x",
         "y": [
          -75,
          -75,
          -155.546875,
          -155.546875
         ],
         "yaxis": "y"
        },
        {
         "hoverinfo": "text",
         "marker": {
          "color": "rgb(35,205,205)"
         },
         "mode": "lines",
         "type": "scatter",
         "x": [
          0,
          0.7933502291662152,
          0.7933502291662152,
          0
         ],
         "xaxis": "x",
         "y": [
          -245,
          -245,
          -255,
          -255
         ],
         "yaxis": "y"
        },
        {
         "hoverinfo": "text",
         "marker": {
          "color": "rgb(61,153,112)"
         },
         "mode": "lines",
         "type": "scatter",
         "x": [
          0,
          0.92127523496121,
          0.92127523496121,
          0
         ],
         "xaxis": "x",
         "y": [
          -265,
          -265,
          -275,
          -275
         ],
         "yaxis": "y"
        },
        {
         "hoverinfo": "text",
         "marker": {
          "color": "rgb(255,65,54)"
         },
         "mode": "lines",
         "type": "scatter",
         "x": [
          0,
          0.9596192243031123,
          0.9596192243031123,
          0
         ],
         "xaxis": "x",
         "y": [
          -285,
          -285,
          -295,
          -295
         ],
         "yaxis": "y"
        },
        {
         "hoverinfo": "text",
         "marker": {
          "color": "rgb(255,65,54)"
         },
         "mode": "lines",
         "type": "scatter",
         "x": [
          0.9596192243031123,
          0.9878556644732047,
          0.9878556644732047,
          0
         ],
         "xaxis": "x",
         "y": [
          -290,
          -290,
          -305,
          -305
         ],
         "yaxis": "y"
        },
        {
         "hoverinfo": "text",
         "marker": {
          "color": "rgb(35,205,205)"
         },
         "mode": "lines",
         "type": "scatter",
         "x": [
          0,
          0.9821488037587992,
          0.9821488037587992,
          0
         ],
         "xaxis": "x",
         "y": [
          -325,
          -325,
          -335,
          -335
         ],
         "yaxis": "y"
        },
        {
         "hoverinfo": "text",
         "marker": {
          "color": "rgb(35,205,205)"
         },
         "mode": "lines",
         "type": "scatter",
         "x": [
          0,
          0.9958473519858342,
          0.9958473519858342,
          0.9821488037587992
         ],
         "xaxis": "x",
         "y": [
          -315,
          -315,
          -330,
          -330
         ],
         "yaxis": "y"
        },
        {
         "hoverinfo": "text",
         "marker": {
          "color": "rgb(133,20,75)"
         },
         "mode": "lines",
         "type": "scatter",
         "x": [
          0,
          0.966834049545091,
          0.966834049545091,
          0
         ],
         "xaxis": "x",
         "y": [
          -345,
          -345,
          -355,
          -355
         ],
         "yaxis": "y"
        },
        {
         "hoverinfo": "text",
         "marker": {
          "color": "rgb(0,116,217)"
         },
         "mode": "lines",
         "type": "scatter",
         "x": [
          0.9958473519858342,
          1.0089659078768407,
          1.0089659078768407,
          0.966834049545091
         ],
         "xaxis": "x",
         "y": [
          -322.5,
          -322.5,
          -350,
          -350
         ],
         "yaxis": "y"
        },
        {
         "hoverinfo": "text",
         "marker": {
          "color": "rgb(255,220,0)"
         },
         "mode": "lines",
         "type": "scatter",
         "x": [
          0,
          0.991749991534705,
          0.991749991534705,
          0
         ],
         "xaxis": "x",
         "y": [
          -365,
          -365,
          -375,
          -375
         ],
         "yaxis": "y"
        },
        {
         "hoverinfo": "text",
         "marker": {
          "color": "rgb(40,35,35)"
         },
         "mode": "lines",
         "type": "scatter",
         "x": [
          0,
          0.9924776642614089,
          0.9924776642614089,
          0
         ],
         "xaxis": "x",
         "y": [
          -385,
          -385,
          -395,
          -395
         ],
         "yaxis": "y"
        },
        {
         "hoverinfo": "text",
         "marker": {
          "color": "rgb(61,153,112)"
         },
         "mode": "lines",
         "type": "scatter",
         "x": [
          0,
          0.9999647790900374,
          0.9999647790900374,
          0
         ],
         "xaxis": "x",
         "y": [
          -405,
          -405,
          -415,
          -415
         ],
         "yaxis": "y"
        },
        {
         "hoverinfo": "text",
         "marker": {
          "color": "rgb(0,116,217)"
         },
         "mode": "lines",
         "type": "scatter",
         "x": [
          0.9924776642614089,
          1.0033282063608358,
          1.0033282063608358,
          0.9999647790900374
         ],
         "xaxis": "x",
         "y": [
          -390,
          -390,
          -410,
          -410
         ],
         "yaxis": "y"
        },
        {
         "hoverinfo": "text",
         "marker": {
          "color": "rgb(0,116,217)"
         },
         "mode": "lines",
         "type": "scatter",
         "x": [
          0.991749991534705,
          1.0063047507176686,
          1.0063047507176686,
          1.0033282063608358
         ],
         "xaxis": "x",
         "y": [
          -370,
          -370,
          -400,
          -400
         ],
         "yaxis": "y"
        },
        {
         "hoverinfo": "text",
         "marker": {
          "color": "rgb(255,65,54)"
         },
         "mode": "lines",
         "type": "scatter",
         "x": [
          0,
          0.9851370230214206,
          0.9851370230214206,
          0
         ],
         "xaxis": "x",
         "y": [
          -425,
          -425,
          -435,
          -435
         ],
         "yaxis": "y"
        },
        {
         "hoverinfo": "text",
         "marker": {
          "color": "rgb(0,116,217)"
         },
         "mode": "lines",
         "type": "scatter",
         "x": [
          1.0063047507176686,
          1.0097721942808553,
          1.0097721942808553,
          0.9851370230214206
         ],
         "xaxis": "x",
         "y": [
          -385,
          -385,
          -430,
          -430
         ],
         "yaxis": "y"
        },
        {
         "hoverinfo": "text",
         "marker": {
          "color": "rgb(0,116,217)"
         },
         "mode": "lines",
         "type": "scatter",
         "x": [
          1.0089659078768407,
          1.021861027639485,
          1.021861027639485,
          1.0097721942808553
         ],
         "xaxis": "x",
         "y": [
          -336.25,
          -336.25,
          -407.5,
          -407.5
         ],
         "yaxis": "y"
        },
        {
         "hoverinfo": "text",
         "marker": {
          "color": "rgb(0,116,217)"
         },
         "mode": "lines",
         "type": "scatter",
         "x": [
          0.9878556644732047,
          1.0258175003753478,
          1.0258175003753478,
          1.021861027639485
         ],
         "xaxis": "x",
         "y": [
          -297.5,
          -297.5,
          -371.875,
          -371.875
         ],
         "yaxis": "y"
        },
        {
         "hoverinfo": "text",
         "marker": {
          "color": "rgb(0,116,217)"
         },
         "mode": "lines",
         "type": "scatter",
         "x": [
          0.92127523496121,
          1.0576862811041234,
          1.0576862811041234,
          1.0258175003753478
         ],
         "xaxis": "x",
         "y": [
          -270,
          -270,
          -334.6875,
          -334.6875
         ],
         "yaxis": "y"
        },
        {
         "hoverinfo": "text",
         "marker": {
          "color": "rgb(35,205,205)"
         },
         "mode": "lines",
         "type": "scatter",
         "x": [
          0,
          0.9216761379167459,
          0.9216761379167459,
          0
         ],
         "xaxis": "x",
         "y": [
          -445,
          -445,
          -455,
          -455
         ],
         "yaxis": "y"
        },
        {
         "hoverinfo": "text",
         "marker": {
          "color": "rgb(35,205,205)"
         },
         "mode": "lines",
         "type": "scatter",
         "x": [
          0.9216761379167459,
          0.9541348221626884,
          0.9541348221626884,
          0
         ],
         "xaxis": "x",
         "y": [
          -450,
          -450,
          -465,
          -465
         ],
         "yaxis": "y"
        },
        {
         "hoverinfo": "text",
         "marker": {
          "color": "rgb(0,116,217)"
         },
         "mode": "lines",
         "type": "scatter",
         "x": [
          1.0576862811041234,
          1.0726985056205023,
          1.0726985056205023,
          0.9541348221626884
         ],
         "xaxis": "x",
         "y": [
          -302.34375,
          -302.34375,
          -457.5,
          -457.5
         ],
         "yaxis": "y"
        },
        {
         "hoverinfo": "text",
         "marker": {
          "color": "rgb(0,116,217)"
         },
         "mode": "lines",
         "type": "scatter",
         "x": [
          0.7933502291662152,
          1.1263787900937676,
          1.1263787900937676,
          1.0726985056205023
         ],
         "xaxis": "x",
         "y": [
          -250,
          -250,
          -379.921875,
          -379.921875
         ],
         "yaxis": "y"
        },
        {
         "hoverinfo": "text",
         "marker": {
          "color": "rgb(0,116,217)"
         },
         "mode": "lines",
         "type": "scatter",
         "x": [
          1.0820428229884442,
          1.1929425892176282,
          1.1929425892176282,
          1.1263787900937676
         ],
         "xaxis": "x",
         "y": [
          -115.2734375,
          -115.2734375,
          -314.9609375,
          -314.9609375
         ],
         "yaxis": "y"
        },
        {
         "hoverinfo": "text",
         "marker": {
          "color": "rgb(0,116,217)"
         },
         "mode": "lines",
         "type": "scatter",
         "x": [
          0.48298124757333827,
          1.3130386922451365,
          1.3130386922451365,
          1.1929425892176282
         ],
         "xaxis": "x",
         "y": [
          -30,
          -30,
          -215.1171875,
          -215.1171875
         ],
         "yaxis": "y"
        },
        {
         "hoverinfo": "text",
         "marker": {
          "color": "rgb(61,153,112)"
         },
         "mode": "lines",
         "type": "scatter",
         "x": [
          0,
          0.47497121431945344,
          0.47497121431945344,
          0
         ],
         "xaxis": "x",
         "y": [
          -485,
          -485,
          -495,
          -495
         ],
         "yaxis": "y"
        },
        {
         "hoverinfo": "text",
         "marker": {
          "color": "rgb(61,153,112)"
         },
         "mode": "lines",
         "type": "scatter",
         "x": [
          0,
          0.848601797820724,
          0.848601797820724,
          0.47497121431945344
         ],
         "xaxis": "x",
         "y": [
          -475,
          -475,
          -490,
          -490
         ],
         "yaxis": "y"
        },
        {
         "hoverinfo": "text",
         "marker": {
          "color": "rgb(0,116,217)"
         },
         "mode": "lines",
         "type": "scatter",
         "x": [
          1.3130386922451365,
          1.366582862065962,
          1.366582862065962,
          0.848601797820724
         ],
         "xaxis": "x",
         "y": [
          -122.55859375,
          -122.55859375,
          -482.5,
          -482.5
         ],
         "yaxis": "y"
        },
        {
         "hoverinfo": "text",
         "marker": {
          "color": "rgb(0,116,217)"
         },
         "mode": "lines",
         "type": "scatter",
         "x": [
          0.11125275484387598,
          1.403811333179995,
          1.403811333179995,
          1.366582862065962
         ],
         "xaxis": "x",
         "y": [
          -10,
          -10,
          -302.529296875,
          -302.529296875
         ],
         "yaxis": "y"
        }
       ],
       "layout": {
        "autosize": false,
        "height": 950,
        "hoverlabel": {
         "bgcolor": "white",
         "font": {
          "family": "Rockwell",
          "size": 16
         }
        },
        "hovermode": "closest",
        "plot_bgcolor": "#ECEFF1",
        "showlegend": false,
        "template": {
         "data": {
          "bar": [
           {
            "error_x": {
             "color": "#2a3f5f"
            },
            "error_y": {
             "color": "#2a3f5f"
            },
            "marker": {
             "line": {
              "color": "white",
              "width": 0.5
             },
             "pattern": {
              "fillmode": "overlay",
              "size": 10,
              "solidity": 0.2
             }
            },
            "type": "bar"
           }
          ],
          "barpolar": [
           {
            "marker": {
             "line": {
              "color": "white",
              "width": 0.5
             },
             "pattern": {
              "fillmode": "overlay",
              "size": 10,
              "solidity": 0.2
             }
            },
            "type": "barpolar"
           }
          ],
          "carpet": [
           {
            "aaxis": {
             "endlinecolor": "#2a3f5f",
             "gridcolor": "#C8D4E3",
             "linecolor": "#C8D4E3",
             "minorgridcolor": "#C8D4E3",
             "startlinecolor": "#2a3f5f"
            },
            "baxis": {
             "endlinecolor": "#2a3f5f",
             "gridcolor": "#C8D4E3",
             "linecolor": "#C8D4E3",
             "minorgridcolor": "#C8D4E3",
             "startlinecolor": "#2a3f5f"
            },
            "type": "carpet"
           }
          ],
          "choropleth": [
           {
            "colorbar": {
             "outlinewidth": 0,
             "ticks": ""
            },
            "type": "choropleth"
           }
          ],
          "contour": [
           {
            "colorbar": {
             "outlinewidth": 0,
             "ticks": ""
            },
            "colorscale": [
             [
              0,
              "#0d0887"
             ],
             [
              0.1111111111111111,
              "#46039f"
             ],
             [
              0.2222222222222222,
              "#7201a8"
             ],
             [
              0.3333333333333333,
              "#9c179e"
             ],
             [
              0.4444444444444444,
              "#bd3786"
             ],
             [
              0.5555555555555556,
              "#d8576b"
             ],
             [
              0.6666666666666666,
              "#ed7953"
             ],
             [
              0.7777777777777778,
              "#fb9f3a"
             ],
             [
              0.8888888888888888,
              "#fdca26"
             ],
             [
              1,
              "#f0f921"
             ]
            ],
            "type": "contour"
           }
          ],
          "contourcarpet": [
           {
            "colorbar": {
             "outlinewidth": 0,
             "ticks": ""
            },
            "type": "contourcarpet"
           }
          ],
          "heatmap": [
           {
            "colorbar": {
             "outlinewidth": 0,
             "ticks": ""
            },
            "colorscale": [
             [
              0,
              "#0d0887"
             ],
             [
              0.1111111111111111,
              "#46039f"
             ],
             [
              0.2222222222222222,
              "#7201a8"
             ],
             [
              0.3333333333333333,
              "#9c179e"
             ],
             [
              0.4444444444444444,
              "#bd3786"
             ],
             [
              0.5555555555555556,
              "#d8576b"
             ],
             [
              0.6666666666666666,
              "#ed7953"
             ],
             [
              0.7777777777777778,
              "#fb9f3a"
             ],
             [
              0.8888888888888888,
              "#fdca26"
             ],
             [
              1,
              "#f0f921"
             ]
            ],
            "type": "heatmap"
           }
          ],
          "heatmapgl": [
           {
            "colorbar": {
             "outlinewidth": 0,
             "ticks": ""
            },
            "colorscale": [
             [
              0,
              "#0d0887"
             ],
             [
              0.1111111111111111,
              "#46039f"
             ],
             [
              0.2222222222222222,
              "#7201a8"
             ],
             [
              0.3333333333333333,
              "#9c179e"
             ],
             [
              0.4444444444444444,
              "#bd3786"
             ],
             [
              0.5555555555555556,
              "#d8576b"
             ],
             [
              0.6666666666666666,
              "#ed7953"
             ],
             [
              0.7777777777777778,
              "#fb9f3a"
             ],
             [
              0.8888888888888888,
              "#fdca26"
             ],
             [
              1,
              "#f0f921"
             ]
            ],
            "type": "heatmapgl"
           }
          ],
          "histogram": [
           {
            "marker": {
             "pattern": {
              "fillmode": "overlay",
              "size": 10,
              "solidity": 0.2
             }
            },
            "type": "histogram"
           }
          ],
          "histogram2d": [
           {
            "colorbar": {
             "outlinewidth": 0,
             "ticks": ""
            },
            "colorscale": [
             [
              0,
              "#0d0887"
             ],
             [
              0.1111111111111111,
              "#46039f"
             ],
             [
              0.2222222222222222,
              "#7201a8"
             ],
             [
              0.3333333333333333,
              "#9c179e"
             ],
             [
              0.4444444444444444,
              "#bd3786"
             ],
             [
              0.5555555555555556,
              "#d8576b"
             ],
             [
              0.6666666666666666,
              "#ed7953"
             ],
             [
              0.7777777777777778,
              "#fb9f3a"
             ],
             [
              0.8888888888888888,
              "#fdca26"
             ],
             [
              1,
              "#f0f921"
             ]
            ],
            "type": "histogram2d"
           }
          ],
          "histogram2dcontour": [
           {
            "colorbar": {
             "outlinewidth": 0,
             "ticks": ""
            },
            "colorscale": [
             [
              0,
              "#0d0887"
             ],
             [
              0.1111111111111111,
              "#46039f"
             ],
             [
              0.2222222222222222,
              "#7201a8"
             ],
             [
              0.3333333333333333,
              "#9c179e"
             ],
             [
              0.4444444444444444,
              "#bd3786"
             ],
             [
              0.5555555555555556,
              "#d8576b"
             ],
             [
              0.6666666666666666,
              "#ed7953"
             ],
             [
              0.7777777777777778,
              "#fb9f3a"
             ],
             [
              0.8888888888888888,
              "#fdca26"
             ],
             [
              1,
              "#f0f921"
             ]
            ],
            "type": "histogram2dcontour"
           }
          ],
          "mesh3d": [
           {
            "colorbar": {
             "outlinewidth": 0,
             "ticks": ""
            },
            "type": "mesh3d"
           }
          ],
          "parcoords": [
           {
            "line": {
             "colorbar": {
              "outlinewidth": 0,
              "ticks": ""
             }
            },
            "type": "parcoords"
           }
          ],
          "pie": [
           {
            "automargin": true,
            "type": "pie"
           }
          ],
          "scatter": [
           {
            "fillpattern": {
             "fillmode": "overlay",
             "size": 10,
             "solidity": 0.2
            },
            "type": "scatter"
           }
          ],
          "scatter3d": [
           {
            "line": {
             "colorbar": {
              "outlinewidth": 0,
              "ticks": ""
             }
            },
            "marker": {
             "colorbar": {
              "outlinewidth": 0,
              "ticks": ""
             }
            },
            "type": "scatter3d"
           }
          ],
          "scattercarpet": [
           {
            "marker": {
             "colorbar": {
              "outlinewidth": 0,
              "ticks": ""
             }
            },
            "type": "scattercarpet"
           }
          ],
          "scattergeo": [
           {
            "marker": {
             "colorbar": {
              "outlinewidth": 0,
              "ticks": ""
             }
            },
            "type": "scattergeo"
           }
          ],
          "scattergl": [
           {
            "marker": {
             "colorbar": {
              "outlinewidth": 0,
              "ticks": ""
             }
            },
            "type": "scattergl"
           }
          ],
          "scattermapbox": [
           {
            "marker": {
             "colorbar": {
              "outlinewidth": 0,
              "ticks": ""
             }
            },
            "type": "scattermapbox"
           }
          ],
          "scatterpolar": [
           {
            "marker": {
             "colorbar": {
              "outlinewidth": 0,
              "ticks": ""
             }
            },
            "type": "scatterpolar"
           }
          ],
          "scatterpolargl": [
           {
            "marker": {
             "colorbar": {
              "outlinewidth": 0,
              "ticks": ""
             }
            },
            "type": "scatterpolargl"
           }
          ],
          "scatterternary": [
           {
            "marker": {
             "colorbar": {
              "outlinewidth": 0,
              "ticks": ""
             }
            },
            "type": "scatterternary"
           }
          ],
          "surface": [
           {
            "colorbar": {
             "outlinewidth": 0,
             "ticks": ""
            },
            "colorscale": [
             [
              0,
              "#0d0887"
             ],
             [
              0.1111111111111111,
              "#46039f"
             ],
             [
              0.2222222222222222,
              "#7201a8"
             ],
             [
              0.3333333333333333,
              "#9c179e"
             ],
             [
              0.4444444444444444,
              "#bd3786"
             ],
             [
              0.5555555555555556,
              "#d8576b"
             ],
             [
              0.6666666666666666,
              "#ed7953"
             ],
             [
              0.7777777777777778,
              "#fb9f3a"
             ],
             [
              0.8888888888888888,
              "#fdca26"
             ],
             [
              1,
              "#f0f921"
             ]
            ],
            "type": "surface"
           }
          ],
          "table": [
           {
            "cells": {
             "fill": {
              "color": "#EBF0F8"
             },
             "line": {
              "color": "white"
             }
            },
            "header": {
             "fill": {
              "color": "#C8D4E3"
             },
             "line": {
              "color": "white"
             }
            },
            "type": "table"
           }
          ]
         },
         "layout": {
          "annotationdefaults": {
           "arrowcolor": "#2a3f5f",
           "arrowhead": 0,
           "arrowwidth": 1
          },
          "autotypenumbers": "strict",
          "coloraxis": {
           "colorbar": {
            "outlinewidth": 0,
            "ticks": ""
           }
          },
          "colorscale": {
           "diverging": [
            [
             0,
             "#8e0152"
            ],
            [
             0.1,
             "#c51b7d"
            ],
            [
             0.2,
             "#de77ae"
            ],
            [
             0.3,
             "#f1b6da"
            ],
            [
             0.4,
             "#fde0ef"
            ],
            [
             0.5,
             "#f7f7f7"
            ],
            [
             0.6,
             "#e6f5d0"
            ],
            [
             0.7,
             "#b8e186"
            ],
            [
             0.8,
             "#7fbc41"
            ],
            [
             0.9,
             "#4d9221"
            ],
            [
             1,
             "#276419"
            ]
           ],
           "sequential": [
            [
             0,
             "#0d0887"
            ],
            [
             0.1111111111111111,
             "#46039f"
            ],
            [
             0.2222222222222222,
             "#7201a8"
            ],
            [
             0.3333333333333333,
             "#9c179e"
            ],
            [
             0.4444444444444444,
             "#bd3786"
            ],
            [
             0.5555555555555556,
             "#d8576b"
            ],
            [
             0.6666666666666666,
             "#ed7953"
            ],
            [
             0.7777777777777778,
             "#fb9f3a"
            ],
            [
             0.8888888888888888,
             "#fdca26"
            ],
            [
             1,
             "#f0f921"
            ]
           ],
           "sequentialminus": [
            [
             0,
             "#0d0887"
            ],
            [
             0.1111111111111111,
             "#46039f"
            ],
            [
             0.2222222222222222,
             "#7201a8"
            ],
            [
             0.3333333333333333,
             "#9c179e"
            ],
            [
             0.4444444444444444,
             "#bd3786"
            ],
            [
             0.5555555555555556,
             "#d8576b"
            ],
            [
             0.6666666666666666,
             "#ed7953"
            ],
            [
             0.7777777777777778,
             "#fb9f3a"
            ],
            [
             0.8888888888888888,
             "#fdca26"
            ],
            [
             1,
             "#f0f921"
            ]
           ]
          },
          "colorway": [
           "#636efa",
           "#EF553B",
           "#00cc96",
           "#ab63fa",
           "#FFA15A",
           "#19d3f3",
           "#FF6692",
           "#B6E880",
           "#FF97FF",
           "#FECB52"
          ],
          "font": {
           "color": "#2a3f5f"
          },
          "geo": {
           "bgcolor": "white",
           "lakecolor": "white",
           "landcolor": "white",
           "showlakes": true,
           "showland": true,
           "subunitcolor": "#C8D4E3"
          },
          "hoverlabel": {
           "align": "left"
          },
          "hovermode": "closest",
          "mapbox": {
           "style": "light"
          },
          "paper_bgcolor": "white",
          "plot_bgcolor": "white",
          "polar": {
           "angularaxis": {
            "gridcolor": "#EBF0F8",
            "linecolor": "#EBF0F8",
            "ticks": ""
           },
           "bgcolor": "white",
           "radialaxis": {
            "gridcolor": "#EBF0F8",
            "linecolor": "#EBF0F8",
            "ticks": ""
           }
          },
          "scene": {
           "xaxis": {
            "backgroundcolor": "white",
            "gridcolor": "#DFE8F3",
            "gridwidth": 2,
            "linecolor": "#EBF0F8",
            "showbackground": true,
            "ticks": "",
            "zerolinecolor": "#EBF0F8"
           },
           "yaxis": {
            "backgroundcolor": "white",
            "gridcolor": "#DFE8F3",
            "gridwidth": 2,
            "linecolor": "#EBF0F8",
            "showbackground": true,
            "ticks": "",
            "zerolinecolor": "#EBF0F8"
           },
           "zaxis": {
            "backgroundcolor": "white",
            "gridcolor": "#DFE8F3",
            "gridwidth": 2,
            "linecolor": "#EBF0F8",
            "showbackground": true,
            "ticks": "",
            "zerolinecolor": "#EBF0F8"
           }
          },
          "shapedefaults": {
           "line": {
            "color": "#2a3f5f"
           }
          },
          "ternary": {
           "aaxis": {
            "gridcolor": "#DFE8F3",
            "linecolor": "#A2B1C6",
            "ticks": ""
           },
           "baxis": {
            "gridcolor": "#DFE8F3",
            "linecolor": "#A2B1C6",
            "ticks": ""
           },
           "bgcolor": "white",
           "caxis": {
            "gridcolor": "#DFE8F3",
            "linecolor": "#A2B1C6",
            "ticks": ""
           }
          },
          "title": {
           "x": 0.05
          },
          "xaxis": {
           "automargin": true,
           "gridcolor": "#EBF0F8",
           "linecolor": "#EBF0F8",
           "ticks": "",
           "title": {
            "standoff": 15
           },
           "zerolinecolor": "#EBF0F8",
           "zerolinewidth": 2
          },
          "yaxis": {
           "automargin": true,
           "gridcolor": "#EBF0F8",
           "linecolor": "#EBF0F8",
           "ticks": "",
           "title": {
            "standoff": 15
           },
           "zerolinecolor": "#EBF0F8",
           "zerolinewidth": 2
          }
         }
        },
        "title": {
         "font": {
          "color": "Black",
          "size": 22
         },
         "text": "<b>Hierarchical Clustering</b>",
         "x": 0.5,
         "xanchor": "center",
         "yanchor": "top"
        },
        "width": 1200,
        "xaxis": {
         "mirror": "allticks",
         "rangemode": "tozero",
         "showgrid": false,
         "showline": true,
         "showticklabels": true,
         "ticks": "outside",
         "type": "linear",
         "zeroline": false
        },
        "yaxis": {
         "mirror": "allticks",
         "range": [
          -500,
          0
         ],
         "rangemode": "tozero",
         "showgrid": false,
         "showline": true,
         "showticklabels": true,
         "tickmode": "array",
         "ticks": "outside",
         "ticktext": [
          "0_oi_oao_oj",
          "22_oi_enaudinho_iasmin",
          "13_fa_sus_sosu",
          "47_fa_totoso_tendencia",
          "48_saudades_anos_saudade",
          "24_moeda_moedas_reais",
          "12_40_milhoes_bater",
          "27_cristiano_ronaldo_jesus",
          "4_youtube_youtuber_youtubers",
          "49_melhor_jazghost_antigame...",
          "46_aniversario_hoje_feliz",
          "43_vou_ligar_namora",
          "30_casa_ir_escondeu",
          "14_brasil_brasileiro_argent...",
          "23_portugal_portugues_larisa",
          "16_faz_video_grava",
          "1_video_videos_ese",
          "42_nome_defeito_dsi",
          "10_namorada_menina_mulher",
          "3_vc_ta_entrou",
          "11_voces_voz_som",
          "5_musica_esa_cd",
          "32_deixei_tan_fiz",
          "38_tempo_time_demora",
          "39_clica_gosta_aqui",
          "33_deixa_like_gosta",
          "21_jesi_tyu_",
          "41_ganhar_venceu_vai",
          "35_gay_cometario_is",
          "26_comentario_comentarios_c...",
          "19_nao_nojo_nsof",
          "7_bitcoin_nd_userqs3kp",
          "37_salve_manda_meda",
          "9_belinha_rarara_ficanatua",
          "2_enaldinho_enaudinho_isolou",
          "18_aviao_marcelao_coitado",
          "36_primeiro_adivinhei_prime...",
          "34_numero_recorde_01",
          "40_iae_aceito_davi",
          "20_uservf2yn9qc3p_123456789...",
          "31_womp_cringe_traicao",
          "17_nho_di_nal",
          "29_legal_amongians_legaldeli",
          "15_sim_yes_jgu",
          "25_celular_capinha_indestru...",
          "45_mentiroso_mentindo_mentira",
          "28_verde_tela_capa",
          "44_user_muitao_bla",
          "6_user_userh_agresividade",
          "8_user_invejoso_usernaldinho"
         ],
         "tickvals": [
          -5,
          -15,
          -25,
          -35,
          -45,
          -55,
          -65,
          -75,
          -85,
          -95,
          -105,
          -115,
          -125,
          -135,
          -145,
          -155,
          -165,
          -175,
          -185,
          -195,
          -205,
          -215,
          -225,
          -235,
          -245,
          -255,
          -265,
          -275,
          -285,
          -295,
          -305,
          -315,
          -325,
          -335,
          -345,
          -355,
          -365,
          -375,
          -385,
          -395,
          -405,
          -415,
          -425,
          -435,
          -445,
          -455,
          -465,
          -475,
          -485,
          -495
         ],
         "type": "linear",
         "zeroline": false
        }
       }
      }
     },
     "metadata": {},
     "output_type": "display_data"
    }
   ],
   "source": [
    "model.visualize_hierarchy(top_n_topics=50, width=1200)"
   ]
  },
  {
   "cell_type": "markdown",
   "metadata": {},
   "source": [
    "### Similarity Matrix"
   ]
  },
  {
   "cell_type": "code",
   "execution_count": 17,
   "metadata": {},
   "outputs": [],
   "source": [
    "# model.visualize_heatmap(top_n_topics=50, width=1200)"
   ]
  },
  {
   "cell_type": "markdown",
   "metadata": {},
   "source": [
    "## Build Topics DF"
   ]
  },
  {
   "cell_type": "code",
   "execution_count": 18,
   "metadata": {},
   "outputs": [],
   "source": [
    "# atribuíndo tópico\n",
    "df_topics = df.drop(columns=['comment_author_name','comment_publish_date',]).copy()\n",
    "df_topics['topics'] = topics\n",
    "\n",
    "# atribuíndo nome do tópico\n",
    "topic_name = freq.drop(columns=['Count']).rename(columns={'Topic': 'topics', 'Name': 'name'})\n",
    "df_topics = df_topics.merge(topic_name, how='left') \n",
    "\n",
    "# atribuíndo topic proba\n",
    "df_topics['topic_proba'] = probs\n",
    "\n",
    "df_topics[\"comment_text\"] = remove_a_links(df_topics[\"comment_text\"])\n",
    "df_topics[\"comment_text\"] = remove_laughing(df_topics[\"comment_text\"])\n",
    "df_topics[\"comment_text\"] = mask_user_handles(df_topics[\"comment_text\"])\n",
    "df_topics[\"comment_text\"] = remove_punctuation(df_topics[\"comment_text\"])\n",
    "df_topics[\"comment_text\"] = remove_non_ascii(df_topics[\"comment_text\"])"
   ]
  },
  {
   "cell_type": "markdown",
   "metadata": {},
   "source": [
    "## Sentiment Analysis"
   ]
  },
  {
   "cell_type": "code",
   "execution_count": 19,
   "metadata": {},
   "outputs": [],
   "source": [
    "from transformers import pipeline\n",
    "from transformers import AutoTokenizer, AutoConfig, AutoModelForSequenceClassification\n",
    "\n",
    "model_path = \"cardiffnlp/twitter-xlm-roberta-base-sentiment\"\n",
    "\n",
    "tokenizer = AutoTokenizer.from_pretrained(model_path)\n",
    "config = AutoConfig.from_pretrained(model_path)\n",
    "model = AutoModelForSequenceClassification.from_pretrained(model_path)\n",
    "\n",
    "sentiment_task = pipeline(\"sentiment-analysis\", model=model, tokenizer=tokenizer, config=config, device=0, max_length=512, truncation=True)\n",
    "\n",
    "def classify_comment_sentiment(df: pd.DataFrame) -> pd.DataFrame:\n",
    "    sentiments = []\n",
    "    sentiment_scores = []\n",
    "\n",
    "    for comment in df['comment_text']:\n",
    "        result = sentiment_task(comment)\n",
    "        \n",
    "        sentiment = result[0]['label']\n",
    "        score = result[0]['score']\n",
    "        \n",
    "        sentiments.append(sentiment)\n",
    "        sentiment_scores.append(score)\n",
    "\n",
    "    df['sentiment'] = sentiments\n",
    "    df['sentiment_score'] = sentiment_scores\n",
    "\n",
    "    return df"
   ]
  },
  {
   "cell_type": "code",
   "execution_count": 20,
   "metadata": {},
   "outputs": [
    {
     "name": "stderr",
     "output_type": "stream",
     "text": [
      "You seem to be using the pipelines sequentially on GPU. In order to maximize efficiency please use a dataset\n"
     ]
    }
   ],
   "source": [
    "df_topics = classify_comment_sentiment(df_topics)"
   ]
  },
  {
   "cell_type": "code",
   "execution_count": 21,
   "metadata": {},
   "outputs": [],
   "source": [
    "df_topics['topic_sentiment'] = df_topics['name'] + \" \" + \"(\" + df_topics['sentiment'] + \")\"\n"
   ]
  },
  {
   "cell_type": "code",
   "execution_count": 22,
   "metadata": {},
   "outputs": [
    {
     "data": {
      "text/html": [
       "<div>\n",
       "<style scoped>\n",
       "    .dataframe tbody tr th:only-of-type {\n",
       "        vertical-align: middle;\n",
       "    }\n",
       "\n",
       "    .dataframe tbody tr th {\n",
       "        vertical-align: top;\n",
       "    }\n",
       "\n",
       "    .dataframe thead th {\n",
       "        text-align: right;\n",
       "    }\n",
       "</style>\n",
       "<table border=\"1\" class=\"dataframe\">\n",
       "  <thead>\n",
       "    <tr style=\"text-align: right;\">\n",
       "      <th></th>\n",
       "      <th>id</th>\n",
       "      <th>video_id</th>\n",
       "      <th>video_title</th>\n",
       "      <th>comment_id</th>\n",
       "      <th>comment_text</th>\n",
       "      <th>comment_author_channel_id</th>\n",
       "      <th>comment_like_count</th>\n",
       "      <th>comment_reply_count</th>\n",
       "      <th>is_reply</th>\n",
       "      <th>parent_comment_id</th>\n",
       "      <th>comment_text_cleaned</th>\n",
       "      <th>topics</th>\n",
       "      <th>name</th>\n",
       "      <th>Representation</th>\n",
       "      <th>Representative_Docs</th>\n",
       "      <th>topic_proba</th>\n",
       "      <th>sentiment</th>\n",
       "      <th>sentiment_score</th>\n",
       "      <th>topic_sentiment</th>\n",
       "    </tr>\n",
       "  </thead>\n",
       "  <tbody>\n",
       "    <tr>\n",
       "      <th>0</th>\n",
       "      <td>0</td>\n",
       "      <td>iUBD_IS32VI</td>\n",
       "      <td>ACORDEI O MEU AMIGO COM UMA CABRA! #shorts</td>\n",
       "      <td>UgwMVGpjEjQut8aICUd4AaABAg</td>\n",
       "      <td>o enaldo tocando violao e a cabra aaaaaaaaaah...</td>\n",
       "      <td>UCQ7F9jKoGU1jv294C4WB2bA</td>\n",
       "      <td>4</td>\n",
       "      <td>0</td>\n",
       "      <td>False</td>\n",
       "      <td>0</td>\n",
       "      <td>enaldo tocando violao cabra ahah abriu boca</td>\n",
       "      <td>-1</td>\n",
       "      <td>-1_voce_nao_dinho_nada</td>\n",
       "      <td>[voce, nao, dinho, nada, ta, vai, ai, so, pra,...</td>\n",
       "      <td>[hoje hein vc vai ter fazer vou fazer pra vc t...</td>\n",
       "      <td>0.000000</td>\n",
       "      <td>neutral</td>\n",
       "      <td>0.409725</td>\n",
       "      <td>-1_voce_nao_dinho_nada (neutral)</td>\n",
       "    </tr>\n",
       "    <tr>\n",
       "      <th>1</th>\n",
       "      <td>4</td>\n",
       "      <td>iUBD_IS32VI</td>\n",
       "      <td>ACORDEI O MEU AMIGO COM UMA CABRA! #shorts</td>\n",
       "      <td>UgxRsN_oLy0eIRPA1114AaABAg.A8B6kXMDqPNA8DLufljeqt</td>\n",
       "      <td>among us mas os inocentes morrem se nao conseg...</td>\n",
       "      <td>UC1OCUt9EDzDvxT_OPGxhBDw</td>\n",
       "      <td>1</td>\n",
       "      <td>0</td>\n",
       "      <td>True</td>\n",
       "      <td>UgxRsN_oLy0eIRPA1114AaABAg</td>\n",
       "      <td>among us inocentes morem nao conseguirem dinhe...</td>\n",
       "      <td>119</td>\n",
       "      <td>119_dinheiro_rico_pensa_pesoas</td>\n",
       "      <td>[dinheiro, rico, pensa, pesoas, gastou, gastan...</td>\n",
       "      <td>[ese dinheiro enaldinho gasta podia ajudar pes...</td>\n",
       "      <td>0.840809</td>\n",
       "      <td>negative</td>\n",
       "      <td>0.876035</td>\n",
       "      <td>119_dinheiro_rico_pensa_pesoas (negative)</td>\n",
       "    </tr>\n",
       "    <tr>\n",
       "      <th>2</th>\n",
       "      <td>5</td>\n",
       "      <td>iUBD_IS32VI</td>\n",
       "      <td>ACORDEI O MEU AMIGO COM UMA CABRA! #shorts</td>\n",
       "      <td>Ugwq6S4ONWY6PRW2taR4AaABAg</td>\n",
       "      <td>O grito da cabra me quebro</td>\n",
       "      <td>UCfEPXQmfVKUgDi-yQXLOQNw</td>\n",
       "      <td>4</td>\n",
       "      <td>0</td>\n",
       "      <td>False</td>\n",
       "      <td>0</td>\n",
       "      <td>grito cabra quebro</td>\n",
       "      <td>-1</td>\n",
       "      <td>-1_voce_nao_dinho_nada</td>\n",
       "      <td>[voce, nao, dinho, nada, ta, vai, ai, so, pra,...</td>\n",
       "      <td>[hoje hein vc vai ter fazer vou fazer pra vc t...</td>\n",
       "      <td>0.000000</td>\n",
       "      <td>negative</td>\n",
       "      <td>0.930355</td>\n",
       "      <td>-1_voce_nao_dinho_nada (negative)</td>\n",
       "    </tr>\n",
       "    <tr>\n",
       "      <th>3</th>\n",
       "      <td>16</td>\n",
       "      <td>iUBD_IS32VI</td>\n",
       "      <td>ACORDEI O MEU AMIGO COM UMA CABRA! #shorts</td>\n",
       "      <td>UgyGPqtYpgxXlBQTSNl4AaABAg</td>\n",
       "      <td>Ficou muito bom</td>\n",
       "      <td>UC3JLPnz0UFk3GJzpOTzwYkA</td>\n",
       "      <td>1</td>\n",
       "      <td>0</td>\n",
       "      <td>False</td>\n",
       "      <td>0</td>\n",
       "      <td>ficou bom</td>\n",
       "      <td>-1</td>\n",
       "      <td>-1_voce_nao_dinho_nada</td>\n",
       "      <td>[voce, nao, dinho, nada, ta, vai, ai, so, pra,...</td>\n",
       "      <td>[hoje hein vc vai ter fazer vou fazer pra vc t...</td>\n",
       "      <td>0.000000</td>\n",
       "      <td>positive</td>\n",
       "      <td>0.905104</td>\n",
       "      <td>-1_voce_nao_dinho_nada (positive)</td>\n",
       "    </tr>\n",
       "    <tr>\n",
       "      <th>4</th>\n",
       "      <td>17</td>\n",
       "      <td>iUBD_IS32VI</td>\n",
       "      <td>ACORDEI O MEU AMIGO COM UMA CABRA! #shorts</td>\n",
       "      <td>UgzGrzXzg6wNPc42Yph4AaABAg</td>\n",
       "      <td>TE  AMO  ENALDINHO VOCE  E O MELHOR YOUTUBE R</td>\n",
       "      <td>UCfZIFYsHos9cxnfxPQuXzvg</td>\n",
       "      <td>1</td>\n",
       "      <td>0</td>\n",
       "      <td>False</td>\n",
       "      <td>0</td>\n",
       "      <td>amo enaldinho voce melhor youtube</td>\n",
       "      <td>4</td>\n",
       "      <td>4_youtube_youtuber_youtubers_melhor</td>\n",
       "      <td>[youtube, youtuber, youtubers, melhor, favorit...</td>\n",
       "      <td>[enaldinho vc melhor youtube, enaldinho melhor...</td>\n",
       "      <td>1.000000</td>\n",
       "      <td>positive</td>\n",
       "      <td>0.878908</td>\n",
       "      <td>4_youtube_youtuber_youtubers_melhor (positive)</td>\n",
       "    </tr>\n",
       "  </tbody>\n",
       "</table>\n",
       "</div>"
      ],
      "text/plain": [
       "   id     video_id                                 video_title  \\\n",
       "0   0  iUBD_IS32VI  ACORDEI O MEU AMIGO COM UMA CABRA! #shorts   \n",
       "1   4  iUBD_IS32VI  ACORDEI O MEU AMIGO COM UMA CABRA! #shorts   \n",
       "2   5  iUBD_IS32VI  ACORDEI O MEU AMIGO COM UMA CABRA! #shorts   \n",
       "3  16  iUBD_IS32VI  ACORDEI O MEU AMIGO COM UMA CABRA! #shorts   \n",
       "4  17  iUBD_IS32VI  ACORDEI O MEU AMIGO COM UMA CABRA! #shorts   \n",
       "\n",
       "                                          comment_id  \\\n",
       "0                         UgwMVGpjEjQut8aICUd4AaABAg   \n",
       "1  UgxRsN_oLy0eIRPA1114AaABAg.A8B6kXMDqPNA8DLufljeqt   \n",
       "2                         Ugwq6S4ONWY6PRW2taR4AaABAg   \n",
       "3                         UgyGPqtYpgxXlBQTSNl4AaABAg   \n",
       "4                         UgzGrzXzg6wNPc42Yph4AaABAg   \n",
       "\n",
       "                                        comment_text  \\\n",
       "0   o enaldo tocando violao e a cabra aaaaaaaaaah...   \n",
       "1  among us mas os inocentes morrem se nao conseg...   \n",
       "2                        O grito da cabra me quebro    \n",
       "3                                   Ficou muito bom    \n",
       "4      TE  AMO  ENALDINHO VOCE  E O MELHOR YOUTUBE R   \n",
       "\n",
       "  comment_author_channel_id  comment_like_count  comment_reply_count  \\\n",
       "0  UCQ7F9jKoGU1jv294C4WB2bA                   4                    0   \n",
       "1  UC1OCUt9EDzDvxT_OPGxhBDw                   1                    0   \n",
       "2  UCfEPXQmfVKUgDi-yQXLOQNw                   4                    0   \n",
       "3  UC3JLPnz0UFk3GJzpOTzwYkA                   1                    0   \n",
       "4  UCfZIFYsHos9cxnfxPQuXzvg                   1                    0   \n",
       "\n",
       "   is_reply           parent_comment_id  \\\n",
       "0     False                           0   \n",
       "1      True  UgxRsN_oLy0eIRPA1114AaABAg   \n",
       "2     False                           0   \n",
       "3     False                           0   \n",
       "4     False                           0   \n",
       "\n",
       "                                comment_text_cleaned  topics  \\\n",
       "0        enaldo tocando violao cabra ahah abriu boca      -1   \n",
       "1  among us inocentes morem nao conseguirem dinhe...     119   \n",
       "2                                 grito cabra quebro      -1   \n",
       "3                                          ficou bom      -1   \n",
       "4                  amo enaldinho voce melhor youtube       4   \n",
       "\n",
       "                                  name  \\\n",
       "0               -1_voce_nao_dinho_nada   \n",
       "1       119_dinheiro_rico_pensa_pesoas   \n",
       "2               -1_voce_nao_dinho_nada   \n",
       "3               -1_voce_nao_dinho_nada   \n",
       "4  4_youtube_youtuber_youtubers_melhor   \n",
       "\n",
       "                                      Representation  \\\n",
       "0  [voce, nao, dinho, nada, ta, vai, ai, so, pra,...   \n",
       "1  [dinheiro, rico, pensa, pesoas, gastou, gastan...   \n",
       "2  [voce, nao, dinho, nada, ta, vai, ai, so, pra,...   \n",
       "3  [voce, nao, dinho, nada, ta, vai, ai, so, pra,...   \n",
       "4  [youtube, youtuber, youtubers, melhor, favorit...   \n",
       "\n",
       "                                 Representative_Docs  topic_proba sentiment  \\\n",
       "0  [hoje hein vc vai ter fazer vou fazer pra vc t...     0.000000   neutral   \n",
       "1  [ese dinheiro enaldinho gasta podia ajudar pes...     0.840809  negative   \n",
       "2  [hoje hein vc vai ter fazer vou fazer pra vc t...     0.000000  negative   \n",
       "3  [hoje hein vc vai ter fazer vou fazer pra vc t...     0.000000  positive   \n",
       "4  [enaldinho vc melhor youtube, enaldinho melhor...     1.000000  positive   \n",
       "\n",
       "   sentiment_score                                 topic_sentiment  \n",
       "0         0.409725                -1_voce_nao_dinho_nada (neutral)  \n",
       "1         0.876035       119_dinheiro_rico_pensa_pesoas (negative)  \n",
       "2         0.930355               -1_voce_nao_dinho_nada (negative)  \n",
       "3         0.905104               -1_voce_nao_dinho_nada (positive)  \n",
       "4         0.878908  4_youtube_youtuber_youtubers_melhor (positive)  "
      ]
     },
     "execution_count": 22,
     "metadata": {},
     "output_type": "execute_result"
    }
   ],
   "source": [
    "df_topics.head()"
   ]
  },
  {
   "cell_type": "code",
   "execution_count": 23,
   "metadata": {},
   "outputs": [],
   "source": [
    "df_topics.to_csv(f\"../data/{ytbr}/topics_sentiment.csv\")"
   ]
  },
  {
   "cell_type": "code",
   "execution_count": null,
   "metadata": {},
   "outputs": [],
   "source": [
    "# plot most relevant terms for topic"
   ]
  }
 ],
 "metadata": {
  "kernelspec": {
   "display_name": "yc",
   "language": "python",
   "name": "python3"
  },
  "language_info": {
   "codemirror_mode": {
    "name": "ipython",
    "version": 3
   },
   "file_extension": ".py",
   "mimetype": "text/x-python",
   "name": "python",
   "nbconvert_exporter": "python",
   "pygments_lexer": "ipython3",
   "version": "3.9.19"
  }
 },
 "nbformat": 4,
 "nbformat_minor": 2
}
